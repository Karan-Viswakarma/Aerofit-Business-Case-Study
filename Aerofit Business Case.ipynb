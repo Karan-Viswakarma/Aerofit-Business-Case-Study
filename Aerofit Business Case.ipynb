{
 "cells": [
  {
   "cell_type": "markdown",
   "id": "665a945a",
   "metadata": {},
   "source": [
    "#                 Business Case : Aerofit - Descriptive Statistics & Probability"
   ]
  },
  {
   "cell_type": "code",
   "execution_count": 1,
   "id": "564cc35e",
   "metadata": {},
   "outputs": [],
   "source": [
    "import numpy as np\n",
    "import pandas as pd\n",
    "import matplotlib.pyplot as plt\n",
    "import seaborn as sns"
   ]
  },
  {
   "cell_type": "code",
   "execution_count": 2,
   "id": "47986f6a",
   "metadata": {},
   "outputs": [],
   "source": [
    "df = pd.read_csv(r\"https://d2beiqkhq929f0.cloudfront.net/public_assets/assets/000/001/125/original/aerofit_treadmill.csv?1639992749\")"
   ]
  },
  {
   "cell_type": "markdown",
   "id": "5164601c",
   "metadata": {},
   "source": [
    "## Analysing Basic Metrics"
   ]
  },
  {
   "cell_type": "markdown",
   "id": "19ba4f25",
   "metadata": {},
   "source": [
    "#### Shape of data"
   ]
  },
  {
   "cell_type": "code",
   "execution_count": 3,
   "id": "f61b976d",
   "metadata": {},
   "outputs": [
    {
     "data": {
      "text/plain": [
       "(180, 9)"
      ]
     },
     "execution_count": 3,
     "metadata": {},
     "output_type": "execute_result"
    }
   ],
   "source": [
    "df.shape"
   ]
  },
  {
   "cell_type": "code",
   "execution_count": 4,
   "id": "ac6def16",
   "metadata": {},
   "outputs": [
    {
     "data": {
      "text/plain": [
       "Index(['Product', 'Age', 'Gender', 'Education', 'MaritalStatus', 'Usage',\n",
       "       'Fitness', 'Income', 'Miles'],\n",
       "      dtype='object')"
      ]
     },
     "execution_count": 4,
     "metadata": {},
     "output_type": "execute_result"
    }
   ],
   "source": [
    "df.columns"
   ]
  },
  {
   "cell_type": "markdown",
   "id": "29cc7227",
   "metadata": {},
   "source": [
    "#### Datatypes of Columns"
   ]
  },
  {
   "cell_type": "code",
   "execution_count": 5,
   "id": "5ca7c64a",
   "metadata": {},
   "outputs": [
    {
     "data": {
      "text/plain": [
       "Product          object\n",
       "Age               int64\n",
       "Gender           object\n",
       "Education         int64\n",
       "MaritalStatus    object\n",
       "Usage             int64\n",
       "Fitness           int64\n",
       "Income            int64\n",
       "Miles             int64\n",
       "dtype: object"
      ]
     },
     "execution_count": 5,
     "metadata": {},
     "output_type": "execute_result"
    }
   ],
   "source": [
    "df.dtypes"
   ]
  },
  {
   "cell_type": "code",
   "execution_count": 6,
   "id": "4fa2ca28",
   "metadata": {},
   "outputs": [
    {
     "data": {
      "text/plain": [
       "RangeIndex(start=0, stop=180, step=1)"
      ]
     },
     "execution_count": 6,
     "metadata": {},
     "output_type": "execute_result"
    }
   ],
   "source": [
    "df.index"
   ]
  },
  {
   "cell_type": "code",
   "execution_count": 7,
   "id": "3df66d95",
   "metadata": {},
   "outputs": [
    {
     "data": {
      "text/html": [
       "<div>\n",
       "<style scoped>\n",
       "    .dataframe tbody tr th:only-of-type {\n",
       "        vertical-align: middle;\n",
       "    }\n",
       "\n",
       "    .dataframe tbody tr th {\n",
       "        vertical-align: top;\n",
       "    }\n",
       "\n",
       "    .dataframe thead th {\n",
       "        text-align: right;\n",
       "    }\n",
       "</style>\n",
       "<table border=\"1\" class=\"dataframe\">\n",
       "  <thead>\n",
       "    <tr style=\"text-align: right;\">\n",
       "      <th></th>\n",
       "      <th>Product</th>\n",
       "      <th>Age</th>\n",
       "      <th>Gender</th>\n",
       "      <th>Education</th>\n",
       "      <th>MaritalStatus</th>\n",
       "      <th>Usage</th>\n",
       "      <th>Fitness</th>\n",
       "      <th>Income</th>\n",
       "      <th>Miles</th>\n",
       "    </tr>\n",
       "  </thead>\n",
       "  <tbody>\n",
       "    <tr>\n",
       "      <th>0</th>\n",
       "      <td>KP281</td>\n",
       "      <td>18</td>\n",
       "      <td>Male</td>\n",
       "      <td>14</td>\n",
       "      <td>Single</td>\n",
       "      <td>3</td>\n",
       "      <td>4</td>\n",
       "      <td>29562</td>\n",
       "      <td>112</td>\n",
       "    </tr>\n",
       "    <tr>\n",
       "      <th>1</th>\n",
       "      <td>KP281</td>\n",
       "      <td>19</td>\n",
       "      <td>Male</td>\n",
       "      <td>15</td>\n",
       "      <td>Single</td>\n",
       "      <td>2</td>\n",
       "      <td>3</td>\n",
       "      <td>31836</td>\n",
       "      <td>75</td>\n",
       "    </tr>\n",
       "    <tr>\n",
       "      <th>2</th>\n",
       "      <td>KP281</td>\n",
       "      <td>19</td>\n",
       "      <td>Female</td>\n",
       "      <td>14</td>\n",
       "      <td>Partnered</td>\n",
       "      <td>4</td>\n",
       "      <td>3</td>\n",
       "      <td>30699</td>\n",
       "      <td>66</td>\n",
       "    </tr>\n",
       "    <tr>\n",
       "      <th>3</th>\n",
       "      <td>KP281</td>\n",
       "      <td>19</td>\n",
       "      <td>Male</td>\n",
       "      <td>12</td>\n",
       "      <td>Single</td>\n",
       "      <td>3</td>\n",
       "      <td>3</td>\n",
       "      <td>32973</td>\n",
       "      <td>85</td>\n",
       "    </tr>\n",
       "    <tr>\n",
       "      <th>4</th>\n",
       "      <td>KP281</td>\n",
       "      <td>20</td>\n",
       "      <td>Male</td>\n",
       "      <td>13</td>\n",
       "      <td>Partnered</td>\n",
       "      <td>4</td>\n",
       "      <td>2</td>\n",
       "      <td>35247</td>\n",
       "      <td>47</td>\n",
       "    </tr>\n",
       "    <tr>\n",
       "      <th>5</th>\n",
       "      <td>KP281</td>\n",
       "      <td>20</td>\n",
       "      <td>Female</td>\n",
       "      <td>14</td>\n",
       "      <td>Partnered</td>\n",
       "      <td>3</td>\n",
       "      <td>3</td>\n",
       "      <td>32973</td>\n",
       "      <td>66</td>\n",
       "    </tr>\n",
       "    <tr>\n",
       "      <th>6</th>\n",
       "      <td>KP281</td>\n",
       "      <td>21</td>\n",
       "      <td>Female</td>\n",
       "      <td>14</td>\n",
       "      <td>Partnered</td>\n",
       "      <td>3</td>\n",
       "      <td>3</td>\n",
       "      <td>35247</td>\n",
       "      <td>75</td>\n",
       "    </tr>\n",
       "    <tr>\n",
       "      <th>7</th>\n",
       "      <td>KP281</td>\n",
       "      <td>21</td>\n",
       "      <td>Male</td>\n",
       "      <td>13</td>\n",
       "      <td>Single</td>\n",
       "      <td>3</td>\n",
       "      <td>3</td>\n",
       "      <td>32973</td>\n",
       "      <td>85</td>\n",
       "    </tr>\n",
       "    <tr>\n",
       "      <th>8</th>\n",
       "      <td>KP281</td>\n",
       "      <td>21</td>\n",
       "      <td>Male</td>\n",
       "      <td>15</td>\n",
       "      <td>Single</td>\n",
       "      <td>5</td>\n",
       "      <td>4</td>\n",
       "      <td>35247</td>\n",
       "      <td>141</td>\n",
       "    </tr>\n",
       "    <tr>\n",
       "      <th>9</th>\n",
       "      <td>KP281</td>\n",
       "      <td>21</td>\n",
       "      <td>Female</td>\n",
       "      <td>15</td>\n",
       "      <td>Partnered</td>\n",
       "      <td>2</td>\n",
       "      <td>3</td>\n",
       "      <td>37521</td>\n",
       "      <td>85</td>\n",
       "    </tr>\n",
       "  </tbody>\n",
       "</table>\n",
       "</div>"
      ],
      "text/plain": [
       "  Product  Age  Gender  Education MaritalStatus  Usage  Fitness  Income  Miles\n",
       "0   KP281   18    Male         14        Single      3        4   29562    112\n",
       "1   KP281   19    Male         15        Single      2        3   31836     75\n",
       "2   KP281   19  Female         14     Partnered      4        3   30699     66\n",
       "3   KP281   19    Male         12        Single      3        3   32973     85\n",
       "4   KP281   20    Male         13     Partnered      4        2   35247     47\n",
       "5   KP281   20  Female         14     Partnered      3        3   32973     66\n",
       "6   KP281   21  Female         14     Partnered      3        3   35247     75\n",
       "7   KP281   21    Male         13        Single      3        3   32973     85\n",
       "8   KP281   21    Male         15        Single      5        4   35247    141\n",
       "9   KP281   21  Female         15     Partnered      2        3   37521     85"
      ]
     },
     "execution_count": 7,
     "metadata": {},
     "output_type": "execute_result"
    }
   ],
   "source": [
    "df.head(10)"
   ]
  },
  {
   "cell_type": "code",
   "execution_count": 8,
   "id": "565445b3",
   "metadata": {},
   "outputs": [
    {
     "data": {
      "text/html": [
       "<div>\n",
       "<style scoped>\n",
       "    .dataframe tbody tr th:only-of-type {\n",
       "        vertical-align: middle;\n",
       "    }\n",
       "\n",
       "    .dataframe tbody tr th {\n",
       "        vertical-align: top;\n",
       "    }\n",
       "\n",
       "    .dataframe thead th {\n",
       "        text-align: right;\n",
       "    }\n",
       "</style>\n",
       "<table border=\"1\" class=\"dataframe\">\n",
       "  <thead>\n",
       "    <tr style=\"text-align: right;\">\n",
       "      <th></th>\n",
       "      <th>Product</th>\n",
       "      <th>Age</th>\n",
       "      <th>Gender</th>\n",
       "      <th>Education</th>\n",
       "      <th>MaritalStatus</th>\n",
       "      <th>Usage</th>\n",
       "      <th>Fitness</th>\n",
       "      <th>Income</th>\n",
       "      <th>Miles</th>\n",
       "    </tr>\n",
       "  </thead>\n",
       "  <tbody>\n",
       "    <tr>\n",
       "      <th>170</th>\n",
       "      <td>KP781</td>\n",
       "      <td>31</td>\n",
       "      <td>Male</td>\n",
       "      <td>16</td>\n",
       "      <td>Partnered</td>\n",
       "      <td>6</td>\n",
       "      <td>5</td>\n",
       "      <td>89641</td>\n",
       "      <td>260</td>\n",
       "    </tr>\n",
       "    <tr>\n",
       "      <th>171</th>\n",
       "      <td>KP781</td>\n",
       "      <td>33</td>\n",
       "      <td>Female</td>\n",
       "      <td>18</td>\n",
       "      <td>Partnered</td>\n",
       "      <td>4</td>\n",
       "      <td>5</td>\n",
       "      <td>95866</td>\n",
       "      <td>200</td>\n",
       "    </tr>\n",
       "    <tr>\n",
       "      <th>172</th>\n",
       "      <td>KP781</td>\n",
       "      <td>34</td>\n",
       "      <td>Male</td>\n",
       "      <td>16</td>\n",
       "      <td>Single</td>\n",
       "      <td>5</td>\n",
       "      <td>5</td>\n",
       "      <td>92131</td>\n",
       "      <td>150</td>\n",
       "    </tr>\n",
       "    <tr>\n",
       "      <th>173</th>\n",
       "      <td>KP781</td>\n",
       "      <td>35</td>\n",
       "      <td>Male</td>\n",
       "      <td>16</td>\n",
       "      <td>Partnered</td>\n",
       "      <td>4</td>\n",
       "      <td>5</td>\n",
       "      <td>92131</td>\n",
       "      <td>360</td>\n",
       "    </tr>\n",
       "    <tr>\n",
       "      <th>174</th>\n",
       "      <td>KP781</td>\n",
       "      <td>38</td>\n",
       "      <td>Male</td>\n",
       "      <td>18</td>\n",
       "      <td>Partnered</td>\n",
       "      <td>5</td>\n",
       "      <td>5</td>\n",
       "      <td>104581</td>\n",
       "      <td>150</td>\n",
       "    </tr>\n",
       "    <tr>\n",
       "      <th>175</th>\n",
       "      <td>KP781</td>\n",
       "      <td>40</td>\n",
       "      <td>Male</td>\n",
       "      <td>21</td>\n",
       "      <td>Single</td>\n",
       "      <td>6</td>\n",
       "      <td>5</td>\n",
       "      <td>83416</td>\n",
       "      <td>200</td>\n",
       "    </tr>\n",
       "    <tr>\n",
       "      <th>176</th>\n",
       "      <td>KP781</td>\n",
       "      <td>42</td>\n",
       "      <td>Male</td>\n",
       "      <td>18</td>\n",
       "      <td>Single</td>\n",
       "      <td>5</td>\n",
       "      <td>4</td>\n",
       "      <td>89641</td>\n",
       "      <td>200</td>\n",
       "    </tr>\n",
       "    <tr>\n",
       "      <th>177</th>\n",
       "      <td>KP781</td>\n",
       "      <td>45</td>\n",
       "      <td>Male</td>\n",
       "      <td>16</td>\n",
       "      <td>Single</td>\n",
       "      <td>5</td>\n",
       "      <td>5</td>\n",
       "      <td>90886</td>\n",
       "      <td>160</td>\n",
       "    </tr>\n",
       "    <tr>\n",
       "      <th>178</th>\n",
       "      <td>KP781</td>\n",
       "      <td>47</td>\n",
       "      <td>Male</td>\n",
       "      <td>18</td>\n",
       "      <td>Partnered</td>\n",
       "      <td>4</td>\n",
       "      <td>5</td>\n",
       "      <td>104581</td>\n",
       "      <td>120</td>\n",
       "    </tr>\n",
       "    <tr>\n",
       "      <th>179</th>\n",
       "      <td>KP781</td>\n",
       "      <td>48</td>\n",
       "      <td>Male</td>\n",
       "      <td>18</td>\n",
       "      <td>Partnered</td>\n",
       "      <td>4</td>\n",
       "      <td>5</td>\n",
       "      <td>95508</td>\n",
       "      <td>180</td>\n",
       "    </tr>\n",
       "  </tbody>\n",
       "</table>\n",
       "</div>"
      ],
      "text/plain": [
       "    Product  Age  Gender  Education MaritalStatus  Usage  Fitness  Income  \\\n",
       "170   KP781   31    Male         16     Partnered      6        5   89641   \n",
       "171   KP781   33  Female         18     Partnered      4        5   95866   \n",
       "172   KP781   34    Male         16        Single      5        5   92131   \n",
       "173   KP781   35    Male         16     Partnered      4        5   92131   \n",
       "174   KP781   38    Male         18     Partnered      5        5  104581   \n",
       "175   KP781   40    Male         21        Single      6        5   83416   \n",
       "176   KP781   42    Male         18        Single      5        4   89641   \n",
       "177   KP781   45    Male         16        Single      5        5   90886   \n",
       "178   KP781   47    Male         18     Partnered      4        5  104581   \n",
       "179   KP781   48    Male         18     Partnered      4        5   95508   \n",
       "\n",
       "     Miles  \n",
       "170    260  \n",
       "171    200  \n",
       "172    150  \n",
       "173    360  \n",
       "174    150  \n",
       "175    200  \n",
       "176    200  \n",
       "177    160  \n",
       "178    120  \n",
       "179    180  "
      ]
     },
     "execution_count": 8,
     "metadata": {},
     "output_type": "execute_result"
    }
   ],
   "source": [
    "df.tail(10)"
   ]
  },
  {
   "cell_type": "markdown",
   "id": "e882eb49",
   "metadata": {},
   "source": [
    "## Missing Value Detection "
   ]
  },
  {
   "cell_type": "code",
   "execution_count": 9,
   "id": "d735038e",
   "metadata": {},
   "outputs": [
    {
     "data": {
      "text/plain": [
       "False"
      ]
     },
     "execution_count": 9,
     "metadata": {},
     "output_type": "execute_result"
    }
   ],
   "source": [
    "np.any(df.isna())"
   ]
  },
  {
   "cell_type": "code",
   "execution_count": 10,
   "id": "38b7d98b",
   "metadata": {},
   "outputs": [
    {
     "name": "stdout",
     "output_type": "stream",
     "text": [
      "<class 'pandas.core.frame.DataFrame'>\n",
      "RangeIndex: 180 entries, 0 to 179\n",
      "Data columns (total 9 columns):\n",
      " #   Column         Non-Null Count  Dtype \n",
      "---  ------         --------------  ----- \n",
      " 0   Product        180 non-null    object\n",
      " 1   Age            180 non-null    int64 \n",
      " 2   Gender         180 non-null    object\n",
      " 3   Education      180 non-null    int64 \n",
      " 4   MaritalStatus  180 non-null    object\n",
      " 5   Usage          180 non-null    int64 \n",
      " 6   Fitness        180 non-null    int64 \n",
      " 7   Income         180 non-null    int64 \n",
      " 8   Miles          180 non-null    int64 \n",
      "dtypes: int64(6), object(3)\n",
      "memory usage: 12.8+ KB\n"
     ]
    }
   ],
   "source": [
    "df.info()"
   ]
  },
  {
   "cell_type": "markdown",
   "id": "624d4537",
   "metadata": {},
   "source": [
    " - It can be clearly seen from the above that the DataFrame does not contain any missing value.   "
   ]
  },
  {
   "cell_type": "markdown",
   "id": "b0c363d9",
   "metadata": {},
   "source": [
    "#### Statistical Summary"
   ]
  },
  {
   "cell_type": "code",
   "execution_count": 11,
   "id": "2f961fe9",
   "metadata": {},
   "outputs": [
    {
     "data": {
      "text/html": [
       "<div>\n",
       "<style scoped>\n",
       "    .dataframe tbody tr th:only-of-type {\n",
       "        vertical-align: middle;\n",
       "    }\n",
       "\n",
       "    .dataframe tbody tr th {\n",
       "        vertical-align: top;\n",
       "    }\n",
       "\n",
       "    .dataframe thead th {\n",
       "        text-align: right;\n",
       "    }\n",
       "</style>\n",
       "<table border=\"1\" class=\"dataframe\">\n",
       "  <thead>\n",
       "    <tr style=\"text-align: right;\">\n",
       "      <th></th>\n",
       "      <th>Age</th>\n",
       "      <th>Education</th>\n",
       "      <th>Usage</th>\n",
       "      <th>Fitness</th>\n",
       "      <th>Income</th>\n",
       "      <th>Miles</th>\n",
       "    </tr>\n",
       "  </thead>\n",
       "  <tbody>\n",
       "    <tr>\n",
       "      <th>count</th>\n",
       "      <td>180.000000</td>\n",
       "      <td>180.000000</td>\n",
       "      <td>180.000000</td>\n",
       "      <td>180.000000</td>\n",
       "      <td>180.000000</td>\n",
       "      <td>180.000000</td>\n",
       "    </tr>\n",
       "    <tr>\n",
       "      <th>mean</th>\n",
       "      <td>28.788889</td>\n",
       "      <td>15.572222</td>\n",
       "      <td>3.455556</td>\n",
       "      <td>3.311111</td>\n",
       "      <td>53719.577778</td>\n",
       "      <td>103.194444</td>\n",
       "    </tr>\n",
       "    <tr>\n",
       "      <th>std</th>\n",
       "      <td>6.943498</td>\n",
       "      <td>1.617055</td>\n",
       "      <td>1.084797</td>\n",
       "      <td>0.958869</td>\n",
       "      <td>16506.684226</td>\n",
       "      <td>51.863605</td>\n",
       "    </tr>\n",
       "    <tr>\n",
       "      <th>min</th>\n",
       "      <td>18.000000</td>\n",
       "      <td>12.000000</td>\n",
       "      <td>2.000000</td>\n",
       "      <td>1.000000</td>\n",
       "      <td>29562.000000</td>\n",
       "      <td>21.000000</td>\n",
       "    </tr>\n",
       "    <tr>\n",
       "      <th>25%</th>\n",
       "      <td>24.000000</td>\n",
       "      <td>14.000000</td>\n",
       "      <td>3.000000</td>\n",
       "      <td>3.000000</td>\n",
       "      <td>44058.750000</td>\n",
       "      <td>66.000000</td>\n",
       "    </tr>\n",
       "    <tr>\n",
       "      <th>50%</th>\n",
       "      <td>26.000000</td>\n",
       "      <td>16.000000</td>\n",
       "      <td>3.000000</td>\n",
       "      <td>3.000000</td>\n",
       "      <td>50596.500000</td>\n",
       "      <td>94.000000</td>\n",
       "    </tr>\n",
       "    <tr>\n",
       "      <th>75%</th>\n",
       "      <td>33.000000</td>\n",
       "      <td>16.000000</td>\n",
       "      <td>4.000000</td>\n",
       "      <td>4.000000</td>\n",
       "      <td>58668.000000</td>\n",
       "      <td>114.750000</td>\n",
       "    </tr>\n",
       "    <tr>\n",
       "      <th>max</th>\n",
       "      <td>50.000000</td>\n",
       "      <td>21.000000</td>\n",
       "      <td>7.000000</td>\n",
       "      <td>5.000000</td>\n",
       "      <td>104581.000000</td>\n",
       "      <td>360.000000</td>\n",
       "    </tr>\n",
       "  </tbody>\n",
       "</table>\n",
       "</div>"
      ],
      "text/plain": [
       "              Age   Education       Usage     Fitness         Income  \\\n",
       "count  180.000000  180.000000  180.000000  180.000000     180.000000   \n",
       "mean    28.788889   15.572222    3.455556    3.311111   53719.577778   \n",
       "std      6.943498    1.617055    1.084797    0.958869   16506.684226   \n",
       "min     18.000000   12.000000    2.000000    1.000000   29562.000000   \n",
       "25%     24.000000   14.000000    3.000000    3.000000   44058.750000   \n",
       "50%     26.000000   16.000000    3.000000    3.000000   50596.500000   \n",
       "75%     33.000000   16.000000    4.000000    4.000000   58668.000000   \n",
       "max     50.000000   21.000000    7.000000    5.000000  104581.000000   \n",
       "\n",
       "            Miles  \n",
       "count  180.000000  \n",
       "mean   103.194444  \n",
       "std     51.863605  \n",
       "min     21.000000  \n",
       "25%     66.000000  \n",
       "50%     94.000000  \n",
       "75%    114.750000  \n",
       "max    360.000000  "
      ]
     },
     "execution_count": 11,
     "metadata": {},
     "output_type": "execute_result"
    }
   ],
   "source": [
    "df.describe()"
   ]
  },
  {
   "cell_type": "code",
   "execution_count": 12,
   "id": "190848c9",
   "metadata": {},
   "outputs": [
    {
     "data": {
      "text/html": [
       "<div>\n",
       "<style scoped>\n",
       "    .dataframe tbody tr th:only-of-type {\n",
       "        vertical-align: middle;\n",
       "    }\n",
       "\n",
       "    .dataframe tbody tr th {\n",
       "        vertical-align: top;\n",
       "    }\n",
       "\n",
       "    .dataframe thead th {\n",
       "        text-align: right;\n",
       "    }\n",
       "</style>\n",
       "<table border=\"1\" class=\"dataframe\">\n",
       "  <thead>\n",
       "    <tr style=\"text-align: right;\">\n",
       "      <th></th>\n",
       "      <th>Product</th>\n",
       "      <th>Gender</th>\n",
       "      <th>MaritalStatus</th>\n",
       "    </tr>\n",
       "  </thead>\n",
       "  <tbody>\n",
       "    <tr>\n",
       "      <th>count</th>\n",
       "      <td>180</td>\n",
       "      <td>180</td>\n",
       "      <td>180</td>\n",
       "    </tr>\n",
       "    <tr>\n",
       "      <th>unique</th>\n",
       "      <td>3</td>\n",
       "      <td>2</td>\n",
       "      <td>2</td>\n",
       "    </tr>\n",
       "    <tr>\n",
       "      <th>top</th>\n",
       "      <td>KP281</td>\n",
       "      <td>Male</td>\n",
       "      <td>Partnered</td>\n",
       "    </tr>\n",
       "    <tr>\n",
       "      <th>freq</th>\n",
       "      <td>80</td>\n",
       "      <td>104</td>\n",
       "      <td>107</td>\n",
       "    </tr>\n",
       "  </tbody>\n",
       "</table>\n",
       "</div>"
      ],
      "text/plain": [
       "       Product Gender MaritalStatus\n",
       "count      180    180           180\n",
       "unique       3      2             2\n",
       "top      KP281   Male     Partnered\n",
       "freq        80    104           107"
      ]
     },
     "execution_count": 12,
     "metadata": {},
     "output_type": "execute_result"
    }
   ],
   "source": [
    "df.describe(include = object)"
   ]
  },
  {
   "cell_type": "markdown",
   "id": "11079efd",
   "metadata": {},
   "source": [
    "## Value counts and unique attributes"
   ]
  },
  {
   "cell_type": "code",
   "execution_count": 13,
   "id": "a24efb37",
   "metadata": {},
   "outputs": [
    {
     "data": {
      "text/plain": [
       "KP281    80\n",
       "KP481    60\n",
       "KP781    40\n",
       "Name: Product, dtype: int64"
      ]
     },
     "execution_count": 13,
     "metadata": {},
     "output_type": "execute_result"
    }
   ],
   "source": [
    "prod_counts = df['Product'].value_counts()\n",
    "prod_counts"
   ]
  },
  {
   "cell_type": "code",
   "execution_count": 14,
   "id": "ede6b59d",
   "metadata": {},
   "outputs": [
    {
     "data": {
      "text/plain": [
       "Male      104\n",
       "Female     76\n",
       "Name: Gender, dtype: int64"
      ]
     },
     "execution_count": 14,
     "metadata": {},
     "output_type": "execute_result"
    }
   ],
   "source": [
    "gender_counts = df['Gender'].value_counts()\n",
    "gender_counts"
   ]
  },
  {
   "cell_type": "code",
   "execution_count": 15,
   "id": "c53595ca",
   "metadata": {},
   "outputs": [
    {
     "data": {
      "text/plain": [
       "Partnered    107\n",
       "Single        73\n",
       "Name: MaritalStatus, dtype: int64"
      ]
     },
     "execution_count": 15,
     "metadata": {},
     "output_type": "execute_result"
    }
   ],
   "source": [
    "marital_status_counts = df['MaritalStatus'].value_counts()\n",
    "marital_status_counts"
   ]
  },
  {
   "cell_type": "code",
   "execution_count": 16,
   "id": "2f2b5375",
   "metadata": {},
   "outputs": [
    {
     "data": {
      "text/plain": [
       "3    97\n",
       "5    31\n",
       "2    26\n",
       "4    24\n",
       "1     2\n",
       "Name: Fitness, dtype: int64"
      ]
     },
     "execution_count": 16,
     "metadata": {},
     "output_type": "execute_result"
    }
   ],
   "source": [
    "fitness_counts = df['Fitness'].value_counts()\n",
    "fitness_counts"
   ]
  },
  {
   "cell_type": "code",
   "execution_count": 17,
   "id": "7b4b8bb1",
   "metadata": {},
   "outputs": [
    {
     "data": {
      "text/plain": [
       "3    69\n",
       "4    52\n",
       "2    33\n",
       "5    17\n",
       "6     7\n",
       "7     2\n",
       "Name: Usage, dtype: int64"
      ]
     },
     "execution_count": 17,
     "metadata": {},
     "output_type": "execute_result"
    }
   ],
   "source": [
    "usage_counts = df['Usage'].value_counts()\n",
    "usage_counts"
   ]
  },
  {
   "cell_type": "code",
   "execution_count": 18,
   "id": "36e3407a",
   "metadata": {},
   "outputs": [
    {
     "data": {
      "text/plain": [
       "16    85\n",
       "14    55\n",
       "18    23\n",
       "15     5\n",
       "13     5\n",
       "12     3\n",
       "21     3\n",
       "20     1\n",
       "Name: Education, dtype: int64"
      ]
     },
     "execution_count": 18,
     "metadata": {},
     "output_type": "execute_result"
    }
   ],
   "source": [
    "df['Education'].value_counts()"
   ]
  },
  {
   "cell_type": "code",
   "execution_count": 19,
   "id": "3f34f062",
   "metadata": {},
   "outputs": [
    {
     "data": {
      "text/plain": [
       "[]"
      ]
     },
     "execution_count": 19,
     "metadata": {},
     "output_type": "execute_result"
    },
    {
     "data": {
      "image/png": "[encoded data removed]",
      "text/plain": [
       "<Figure size 1080x2160 with 3 Axes>"
      ]
     },
     "metadata": {},
     "output_type": "display_data"
    }
   ],
   "source": [
    "prod_dist = np.round(df['Product'].value_counts(normalize = True) * 100, 2).to_frame()\n",
    "plt.figure(figsize = (15, 30))\n",
    "plt.subplot(1, 3, 1)\n",
    "plt.title('% Contribution of each Product')\n",
    "plt.pie(x = prod_dist['Product'], explode = [0.005, 0.005, 0.1], labels = prod_dist.index, autopct = '%.2f%%')\n",
    "\n",
    "\n",
    "gender_dist = (np.round(df['Gender'].value_counts(normalize = True) * 100, 2)).to_frame()\n",
    "plt.subplot(1, 3, 2)\n",
    "plt.title('% Contribution of each Gender')\n",
    "plt.pie(x = gender_dist['Gender'], explode = [0.05, 0], \n",
    "        labels = gender_dist.index, autopct = '%.2f%%', colors = ['brown', 'magenta'])\n",
    "\n",
    "\n",
    "marital_status_dist = (np.round(df['MaritalStatus'].value_counts(normalize = True) * 100, 2)).to_frame()\n",
    "plt.subplot(1, 3, 3)\n",
    "plt.title('% Contribution of each Marital Status')\n",
    "plt.pie(x = marital_status_dist['MaritalStatus'], explode = [0.05, 0], \n",
    "        labels = marital_status_dist.index, autopct = '%.2f%%', colors = ['lightblue', 'lightgreen'])\n",
    "plt.plot()"
   ]
  },
  {
   "cell_type": "markdown",
   "id": "f87b5d53",
   "metadata": {},
   "source": [
    "## Univariate Analysis "
   ]
  },
  {
   "cell_type": "markdown",
   "id": "e795b5f1",
   "metadata": {},
   "source": [
    "### How are the ages of the Aerofit Customers distributed ?"
   ]
  },
  {
   "cell_type": "code",
   "execution_count": 20,
   "id": "d5daa7a1",
   "metadata": {},
   "outputs": [
    {
     "data": {
      "text/plain": [
       "[]"
      ]
     },
     "execution_count": 20,
     "metadata": {},
     "output_type": "execute_result"
    },
    {
     "data": {
      "image/png": "[encoded data removed]",
      "text/plain": [
       "<Figure size 432x288 with 1 Axes>"
      ]
     },
     "metadata": {
      "needs_background": "light"
     },
     "output_type": "display_data"
    }
   ],
   "source": [
    "plt.figure()\n",
    "sns.histplot(data = df, x = 'Age', kde = True, color = 'magenta')\n",
    "plt.plot()"
   ]
  },
  {
   "cell_type": "markdown",
   "id": "ad6e9fd4",
   "metadata": {},
   "source": [
    " - Most of the customers (more than 80% of the total) are aged between 20 and 30 years.\n",
    " - Less than 10% customers are aged 40 years and above."
   ]
  },
  {
   "cell_type": "markdown",
   "id": "3484fff0",
   "metadata": {},
   "source": [
    "##### Detecting outliers in age data for aerofit customers"
   ]
  },
  {
   "cell_type": "code",
   "execution_count": 21,
   "id": "76fc9b1b",
   "metadata": {},
   "outputs": [
    {
     "data": {
      "text/plain": [
       "[]"
      ]
     },
     "execution_count": 21,
     "metadata": {},
     "output_type": "execute_result"
    },
    {
     "data": {
      "image/png": "[encoded data removed]",
      "text/plain": [
       "<Figure size 432x288 with 1 Axes>"
      ]
     },
     "metadata": {
      "needs_background": "light"
     },
     "output_type": "display_data"
    }
   ],
   "source": [
    "sns.boxplot(data = df['Age'], width = 0.5, orient = 'h', showmeans = True)\n",
    "plt.plot()"
   ]
  },
  {
   "cell_type": "markdown",
   "id": "946cee0e",
   "metadata": {},
   "source": [
    "##### Sample Calculation"
   ]
  },
  {
   "cell_type": "code",
   "execution_count": 22,
   "id": "2976711f",
   "metadata": {},
   "outputs": [
    {
     "data": {
      "text/plain": [
       "'% of customers whose age is between 20 and 35 is 81.67%'"
      ]
     },
     "execution_count": 22,
     "metadata": {},
     "output_type": "execute_result"
    }
   ],
   "source": [
    "result = df[(df[\"Age\"] >= 20) & (df['Age'] <= 35)]['Product'].count() / len(df) * 100\n",
    "\"%% of customers whose age is between 20 and 35 is %.2f%%\"%(result)"
   ]
  },
  {
   "cell_type": "code",
   "execution_count": 23,
   "id": "22450f69",
   "metadata": {},
   "outputs": [
    {
     "name": "stdout",
     "output_type": "stream",
     "text": [
      "Mean :  28.788888888888888\n",
      "Median :  26.0\n",
      "1st Quartile :  24.0\n",
      "3rd Quartile :  33.0\n",
      "Innerquartile Range :  9.0\n",
      "Upper Bound :  46.5\n",
      "Lower Bound :  10.5\n",
      "Outliers :  [47, 47, 48, 48, 50]\n",
      "No of Outliers :  5\n"
     ]
    }
   ],
   "source": [
    "data = df['Age']\n",
    "print('Mean : ', data.mean())\n",
    "print('Median : ', data.median())\n",
    "q1 = data.quantile(0.25)\n",
    "q3 = data.quantile(0.75)\n",
    "print(\"1st Quartile : \", q1)\n",
    "print(\"3rd Quartile : \", q3)\n",
    "iqr = q3 - q1\n",
    "print('Innerquartile Range : ', iqr)\n",
    "upper = q3 + 1.5 * iqr\n",
    "lower = q1 - 1.5 * iqr\n",
    "print(\"Upper Bound : \", upper)\n",
    "print('Lower Bound : ', lower)\n",
    "outliers = data[(data > upper) | (data < lower)]\n",
    "print(\"Outliers : \", sorted(outliers))\n",
    "len_outliers = len((data[(data > upper) | (data < lower)]))\n",
    "print('No of Outliers : ', len_outliers)"
   ]
  },
  {
   "cell_type": "markdown",
   "id": "155c29d1",
   "metadata": {},
   "source": [
    "##### Based on the above obtained values, converting age column into bins :"
   ]
  },
  {
   "cell_type": "code",
   "execution_count": 24,
   "id": "3f679b8e",
   "metadata": {},
   "outputs": [
    {
     "data": {
      "text/plain": [
       "157    25 - 33\n",
       "6       <= 24 \n",
       "53     25 - 33\n",
       "159    25 - 33\n",
       "162    25 - 33\n",
       "173    34 - 46\n",
       "9       <= 24 \n",
       "27        > 46\n",
       "41     25 - 33\n",
       "124    25 - 33\n",
       "Name: age_bins, dtype: object"
      ]
     },
     "execution_count": 24,
     "metadata": {},
     "output_type": "execute_result"
    }
   ],
   "source": [
    "def age_partitions(x):\n",
    "    if x <= 24:\n",
    "        return '<= 24 '\n",
    "    elif 25 < x <= 33:\n",
    "        return '25 - 33'\n",
    "    elif 34 < x <= 46:\n",
    "        return '34 - 46'\n",
    "    else:\n",
    "        return '> 46'\n",
    "df['age_bins'] = df['Age'].apply(age_partitions)\n",
    "df['age_bins'].loc[np.random.randint(0, 180, 10)]"
   ]
  },
  {
   "cell_type": "markdown",
   "id": "8f633e96",
   "metadata": {},
   "source": [
    "### How is the annual income of the Aerofit Customers distributed ?"
   ]
  },
  {
   "cell_type": "code",
   "execution_count": 25,
   "id": "85ff3e18",
   "metadata": {},
   "outputs": [
    {
     "data": {
      "text/plain": [
       "[]"
      ]
     },
     "execution_count": 25,
     "metadata": {},
     "output_type": "execute_result"
    },
    {
     "data": {
      "image/png": "[encoded data removed]",
      "text/plain": [
       "<Figure size 432x288 with 1 Axes>"
      ]
     },
     "metadata": {
      "needs_background": "light"
     },
     "output_type": "display_data"
    }
   ],
   "source": [
    "plt.figure()\n",
    "sns.histplot(data = df, x = 'Income', kde = True, bins = 18, color = 'olive')\n",
    "plt.plot()"
   ]
  },
  {
   "cell_type": "markdown",
   "id": "23df5b21",
   "metadata": {},
   "source": [
    " - Majority of the customers earn in between 35000 and 60000 dollars annually.\n",
    " - 80 % of the customers annual salary is less than 65000$."
   ]
  },
  {
   "cell_type": "markdown",
   "id": "0ce9f2ea",
   "metadata": {},
   "source": [
    "##### Detecting outliers in annual income data of aerofit customers "
   ]
  },
  {
   "cell_type": "code",
   "execution_count": 26,
   "id": "17e665a5",
   "metadata": {},
   "outputs": [
    {
     "data": {
      "text/plain": [
       "[]"
      ]
     },
     "execution_count": 26,
     "metadata": {},
     "output_type": "execute_result"
    },
    {
     "data": {
      "image/png": "[encoded data removed]",
      "text/plain": [
       "<Figure size 720x288 with 1 Axes>"
      ]
     },
     "metadata": {
      "needs_background": "light"
     },
     "output_type": "display_data"
    }
   ],
   "source": [
    "plt.figure(figsize = (10, 4))\n",
    "sns.boxplot(data = df, x = 'Income', width = 0.4, orient = 'h', showmeans = True, fliersize = 3)\n",
    "plt.plot()"
   ]
  },
  {
   "cell_type": "markdown",
   "id": "008236de",
   "metadata": {},
   "source": [
    "##### Sample Calculation : "
   ]
  },
  {
   "cell_type": "code",
   "execution_count": 27,
   "id": "07275146",
   "metadata": {},
   "outputs": [
    {
     "name": "stdout",
     "output_type": "stream",
     "text": [
      "Mean :  53719.57777777778\n",
      "Median :  50596.5\n",
      "1st Quartile :  44058.75\n",
      "3rd Quartile :  58668.0\n",
      "Innerquartile Range :  14609.25\n",
      "Upper Bound :  80581.875\n",
      "Lower Bound :  22144.875\n",
      "Outliers :  [83416, 83416, 85906, 88396, 88396, 89641, 89641, 90886, 90886, 90886, 92131, 92131, 92131, 95508, 95866, 99601, 103336, 104581, 104581]\n",
      "No of Outliers :  19\n"
     ]
    }
   ],
   "source": [
    "data = df['Income']\n",
    "print('Mean : ', data.mean())\n",
    "print('Median : ', data.median())\n",
    "q1 = data.quantile(0.25)\n",
    "q3 = data.quantile(0.75)\n",
    "print(\"1st Quartile : \", q1)\n",
    "print(\"3rd Quartile : \", q3)\n",
    "iqr = q3 - q1\n",
    "print('Innerquartile Range : ', iqr)\n",
    "upper = q3 + 1.5 * iqr\n",
    "lower = q1 - 1.5 * iqr\n",
    "print(\"Upper Bound : \", upper)\n",
    "print('Lower Bound : ', lower)\n",
    "outliers = data[(data > upper) | (data < lower)]\n",
    "print(\"Outliers : \", sorted(outliers))\n",
    "len_outliers = len((data[(data > upper) | (data < lower)]))\n",
    "print('No of Outliers : ', len_outliers)"
   ]
  },
  {
   "cell_type": "markdown",
   "id": "5f1f09e8",
   "metadata": {},
   "source": [
    "##### Based on the above obtained values, converting age column into bins :"
   ]
  },
  {
   "cell_type": "code",
   "execution_count": 28,
   "id": "6d5b9107",
   "metadata": {},
   "outputs": [
    {
     "data": {
      "text/plain": [
       "125    60k - 80k\n",
       "82        < 45k \n",
       "143    45k - 60k\n",
       "20        < 45k \n",
       "140    45k - 60k\n",
       "166        > 80k\n",
       "112    45k - 60k\n",
       "177        > 80k\n",
       "128    45k - 60k\n",
       "46     45k - 60k\n",
       "Name: income_bins, dtype: object"
      ]
     },
     "execution_count": 28,
     "metadata": {},
     "output_type": "execute_result"
    }
   ],
   "source": [
    "def income_partitions(x):\n",
    "    if x < 45000:\n",
    "        return '< 45k '\n",
    "    elif 45000 <= x < 60000:\n",
    "        return '45k - 60k'\n",
    "    elif 60000 <= x < 80000:\n",
    "        return '60k - 80k'\n",
    "    else:\n",
    "        return '> 80k'\n",
    "df['income_bins'] = df['Income'].apply(income_partitions)\n",
    "df['income_bins'].loc[np.random.randint(0, 180, 10)]"
   ]
  },
  {
   "cell_type": "markdown",
   "id": "4305b77d",
   "metadata": {},
   "source": [
    "### How is the self rated fitness scale of Aerofit Treadmill customers distributed ?"
   ]
  },
  {
   "cell_type": "code",
   "execution_count": 29,
   "id": "98ac96b8",
   "metadata": {},
   "outputs": [
    {
     "data": {
      "text/plain": [
       "[]"
      ]
     },
     "execution_count": 29,
     "metadata": {},
     "output_type": "execute_result"
    },
    {
     "data": {
      "image/png": "[encoded data removed]",
      "text/plain": [
       "<Figure size 432x288 with 1 Axes>"
      ]
     },
     "metadata": {
      "needs_background": "light"
     },
     "output_type": "display_data"
    }
   ],
   "source": [
    "plt.figure()\n",
    "sns.histplot(data = df, x = 'Fitness', discrete = True, kde = True, stat = 'percent', color = 'blue')\n",
    "plt.yticks(np.arange(0, 101, 10))\n",
    "plt.grid(axis = 'y')\n",
    "plt.plot()"
   ]
  },
  {
   "cell_type": "markdown",
   "id": "1ea29efe",
   "metadata": {},
   "source": [
    " - More than 50% customers rate themselves 3 out of 5 in self rated fitness scale \n",
    " - Around 30% of the total customers rate themselves 4 or above in the fitness scale.\n",
    " - Around 70 % of the aerofit customers rate themselves 3 or less than 3 in fitness scale.\n",
    " - Less than 20 % of aerofit customers have excellent shape."
   ]
  },
  {
   "cell_type": "markdown",
   "id": "53e0ec57",
   "metadata": {},
   "source": [
    "### How is the Education (in years) of Aerofit Treadmill customers distributed ?  "
   ]
  },
  {
   "cell_type": "code",
   "execution_count": 30,
   "id": "564f75d6",
   "metadata": {},
   "outputs": [
    {
     "data": {
      "text/plain": [
       "[]"
      ]
     },
     "execution_count": 30,
     "metadata": {},
     "output_type": "execute_result"
    },
    {
     "data": {
      "image/png": "[encoded data removed]",
      "text/plain": [
       "<Figure size 432x288 with 1 Axes>"
      ]
     },
     "metadata": {
      "needs_background": "light"
     },
     "output_type": "display_data"
    }
   ],
   "source": [
    "sns.histplot(data = df, x = 'Education', discrete = True, kde = True, color = 'purple')\n",
    "plt.plot()"
   ]
  },
  {
   "cell_type": "markdown",
   "id": "1c379447",
   "metadata": {},
   "source": [
    " - It can be evidently observed in the above plot that most customers have 16 years of Education, followed by 14 years and 18 years."
   ]
  },
  {
   "cell_type": "markdown",
   "id": "046ef37e",
   "metadata": {},
   "source": [
    "### How is the number of times the Aerofit Treadmill customers plan to use the treadmill each week distributed ?"
   ]
  },
  {
   "cell_type": "code",
   "execution_count": 31,
   "id": "2459c17a",
   "metadata": {},
   "outputs": [
    {
     "data": {
      "text/plain": [
       "[]"
      ]
     },
     "execution_count": 31,
     "metadata": {},
     "output_type": "execute_result"
    },
    {
     "data": {
      "image/png": "[encoded data removed]",
      "text/plain": [
       "<Figure size 432x288 with 1 Axes>"
      ]
     },
     "metadata": {
      "needs_background": "light"
     },
     "output_type": "display_data"
    }
   ],
   "source": [
    "sns.histplot(data = df, x = 'Usage', kde = True, stat = 'percent', discrete = True, color = 'green')\n",
    "plt.plot()"
   ]
  },
  {
   "cell_type": "markdown",
   "id": "a3fc0ae4",
   "metadata": {},
   "source": [
    " - Based on the above plot, it appears that most customers use treadmills on alternate days."
   ]
  },
  {
   "cell_type": "markdown",
   "id": "e9601fd1",
   "metadata": {},
   "source": [
    " - There are about 40% of customers who use treadmills three days a week and about 30% who use them four days a week."
   ]
  },
  {
   "cell_type": "markdown",
   "id": "d7ee16e3",
   "metadata": {},
   "source": [
    "### Count of customers vs the expected number of miles customers run / walk each week  "
   ]
  },
  {
   "cell_type": "code",
   "execution_count": 32,
   "id": "d8e5c2a0",
   "metadata": {},
   "outputs": [
    {
     "data": {
      "text/plain": [
       "[]"
      ]
     },
     "execution_count": 32,
     "metadata": {},
     "output_type": "execute_result"
    },
    {
     "data": {
      "image/png": "[encoded data removed]",
      "text/plain": [
       "<Figure size 432x288 with 1 Axes>"
      ]
     },
     "metadata": {
      "needs_background": "light"
     },
     "output_type": "display_data"
    }
   ],
   "source": [
    "plt.figure()\n",
    "sns.histplot(data = df, x = 'Miles', kde = True, binwidth = 10, color = 'blue')\n",
    "plt.plot()"
   ]
  },
  {
   "cell_type": "markdown",
   "id": "24706cfe",
   "metadata": {},
   "source": [
    " -  On the above plot, we can see that most customers expect to walk or run between 40 and 120 miles a week.   \n",
    "\n",
    "\n"
   ]
  },
  {
   "cell_type": "markdown",
   "id": "247f56d0",
   "metadata": {},
   "source": [
    "## Bivariate Analysis"
   ]
  },
  {
   "cell_type": "code",
   "execution_count": 33,
   "id": "bbf75c92",
   "metadata": {},
   "outputs": [
    {
     "data": {
      "text/plain": [
       "[]"
      ]
     },
     "execution_count": 33,
     "metadata": {},
     "output_type": "execute_result"
    },
    {
     "data": {
      "image/png": "[encoded data removed]",
      "text/plain": [
       "<Figure size 864x576 with 1 Axes>"
      ]
     },
     "metadata": {
      "needs_background": "light"
     },
     "output_type": "display_data"
    }
   ],
   "source": [
    "plt.figure(figsize = (12, 8))\n",
    "plt.title('Count of Customers vs Fitness Scale')\n",
    "sns.countplot(data = df, x = 'Fitness', hue = 'Gender')                    \n",
    "plt.grid(axis = 'y')\n",
    "plt.yticks(np.arange(0, 60, 5))\n",
    "plt.ylabel('Count of Customers')\n",
    "plt.plot()"
   ]
  },
  {
   "cell_type": "markdown",
   "id": "06ad6ef4",
   "metadata": {},
   "source": [
    " - Most of the males and females (more than 50% customers) find themselves in the fitness scale 3 .\n",
    " - There is a slight difference in the number of males and females in all the fitness scales except for high fitness scales.\n",
    " - For fitness scales 4 and 5, there are roughly 3 times more males than females."
   ]
  },
  {
   "cell_type": "code",
   "execution_count": 34,
   "id": "f8c004c4",
   "metadata": {},
   "outputs": [
    {
     "data": {
      "text/plain": [
       "[]"
      ]
     },
     "execution_count": 34,
     "metadata": {},
     "output_type": "execute_result"
    },
    {
     "data": {
      "image/png": "[encoded data removed]",
      "text/plain": [
       "<Figure size 720x432 with 1 Axes>"
      ]
     },
     "metadata": {
      "needs_background": "light"
     },
     "output_type": "display_data"
    }
   ],
   "source": [
    "plt.figure(figsize = (10, 6))\n",
    "plt.title(\"Products' Count\")\n",
    "sns.countplot(data = df, x = 'Product', hue = 'Gender')\n",
    "plt.grid(axis = 'y')\n",
    "plt.plot()"
   ]
  },
  {
   "cell_type": "markdown",
   "id": "b9d789ae",
   "metadata": {},
   "source": [
    " - It can be observed that most people buy the entry-level treadmills.\n",
    " - The number of males buying the treadmills having advanced features is around 5 times the number of females buying the same."
   ]
  },
  {
   "cell_type": "code",
   "execution_count": 35,
   "id": "f839494c",
   "metadata": {},
   "outputs": [
    {
     "data": {
      "text/plain": [
       "[]"
      ]
     },
     "execution_count": 35,
     "metadata": {},
     "output_type": "execute_result"
    },
    {
     "data": {
      "image/png": "[encoded data removed]",
      "text/plain": [
       "<Figure size 864x576 with 1 Axes>"
      ]
     },
     "metadata": {
      "needs_background": "light"
     },
     "output_type": "display_data"
    }
   ],
   "source": [
    "# For Male, different product categories and \n",
    "plt.figure(figsize = (12, 8))\n",
    "plt.title(\"Count of Customers vs Product type\")\n",
    "plt.yticks(np.arange(0, 60, 5))\n",
    "sns.countplot(data = df, x = 'Product', hue = 'Fitness')\n",
    "plt.ylabel('Count of Customers')\n",
    "plt.grid(axis = 'y')\n",
    "plt.plot()"
   ]
  },
  {
   "cell_type": "markdown",
   "id": "21d0b335",
   "metadata": {},
   "source": [
    " - The customers who rate themselses 3 out of 5 in self rated fitness scale are more likely to invest in the entry-level treadmills or treadmills for mid-level runners i.e., KP281 and KP481 respectively and they are more unlikey to buy the treadmill which has advanced features i.e., KP781.\n",
    "\n",
    " - The treadmill having advanced features are mostly used by the people with high fitness levels.\n",
    " - The customers who rate themselves 3 or below in the self-rated fitness scale do not buy KP781."
   ]
  },
  {
   "cell_type": "code",
   "execution_count": 36,
   "id": "eb075086",
   "metadata": {},
   "outputs": [
    {
     "data": {
      "text/plain": [
       "[]"
      ]
     },
     "execution_count": 36,
     "metadata": {},
     "output_type": "execute_result"
    },
    {
     "data": {
      "image/png": "[encoded data removed]",
      "text/plain": [
       "<Figure size 864x576 with 1 Axes>"
      ]
     },
     "metadata": {
      "needs_background": "light"
     },
     "output_type": "display_data"
    }
   ],
   "source": [
    "plt.figure(figsize = (12, 8))\n",
    "sns.countplot(data = df, x = 'age_bins', hue = 'Product')\n",
    "plt.grid(axis = 'y')\n",
    "plt.plot()"
   ]
  },
  {
   "cell_type": "code",
   "execution_count": 37,
   "id": "d2785469",
   "metadata": {},
   "outputs": [
    {
     "data": {
      "image/png": "[encoded data removed]",
      "text/plain": [
       "<Figure size 864x576 with 1 Axes>"
      ]
     },
     "metadata": {
      "needs_background": "light"
     },
     "output_type": "display_data"
    }
   ],
   "source": [
    "plt.figure(figsize = (12, 8))\n",
    "sns.scatterplot(data = df, x= 'Age', y = 'Income', hue = 'Product', size = 'Fitness')\n",
    "plt.show()"
   ]
  },
  {
   "cell_type": "markdown",
   "id": "4d31af66",
   "metadata": {},
   "source": [
    " - The customers having high annual income and high fitness scale generally buys KP781.  \n",
    " - The customers having low fitness scale or low annual income generally buy KP281 and KP481."
   ]
  },
  {
   "cell_type": "markdown",
   "id": "3c45e914",
   "metadata": {},
   "source": [
    "### What is the age range of the customers who purchase a specific type of product?"
   ]
  },
  {
   "cell_type": "code",
   "execution_count": 38,
   "id": "1695d291",
   "metadata": {},
   "outputs": [
    {
     "data": {
      "text/plain": [
       "[]"
      ]
     },
     "execution_count": 38,
     "metadata": {},
     "output_type": "execute_result"
    },
    {
     "data": {
      "image/png": "[encoded data removed]",
      "text/plain": [
       "<Figure size 864x576 with 1 Axes>"
      ]
     },
     "metadata": {
      "needs_background": "light"
     },
     "output_type": "display_data"
    }
   ],
   "source": [
    "plt.figure(figsize = (12, 8))\n",
    "sns.boxplot(data = df, x = 'Product', y = 'Age', hue = 'Gender', showmeans = True)\n",
    "plt.plot()"
   ]
  },
  {
   "cell_type": "markdown",
   "id": "42a13c43",
   "metadata": {},
   "source": [
    " - Most customers were in their 20s or 30s.\n",
    " - The age range of KP781 customers is smaller than the age range of the customers who bought other two products.\n",
    " - There is a significant difference in the median age of males and females who bought KP481.\n",
    " - For any product, the age range for males is higher than that of female. The range difference is significant for the product KP781. "
   ]
  },
  {
   "cell_type": "markdown",
   "id": "553b4a32",
   "metadata": {},
   "source": [
    "##### Sample calculation to detect outliers in the age of males who bought KP781 "
   ]
  },
  {
   "cell_type": "code",
   "execution_count": 39,
   "id": "57bee432",
   "metadata": {},
   "outputs": [
    {
     "name": "stdout",
     "output_type": "stream",
     "text": [
      "Mean :  29.545454545454547\n",
      "Median :  27.0\n",
      "Quartile 1 :  25.0\n",
      "Quartile 3 :  31.0\n",
      "Inner Quartile Range :  6.0\n",
      "Upper :  40.0\n",
      "Lower :  16.0\n",
      "Outliers :  [42, 45, 47, 48]\n",
      "No of Outliers :  4\n"
     ]
    }
   ],
   "source": [
    "data = df.loc[(df['Product'] == 'KP781') & (df['Gender'] == 'Male'), 'Age']\n",
    "print('Mean : ', data.mean())\n",
    "print('Median : ', data.median())\n",
    "q1 = data.quantile(0.25)\n",
    "q3 = data.quantile(0.75)\n",
    "print(\"Quartile 1 : \", q1)\n",
    "print(\"Quartile 3 : \", q3)\n",
    "iqr = q3 - q1\n",
    "print('Inner Quartile Range : ', iqr)\n",
    "upper = q3 + 1.5 * iqr\n",
    "lower = q1 - 1.5 * iqr\n",
    "print(\"Upper : \", upper)\n",
    "print('Lower : ', lower)\n",
    "outliers = data[(data > upper) | (data < lower)]\n",
    "print(\"Outliers : \", list(outliers))\n",
    "len_outliers = len((data[(data > upper) | (data < lower)]))\n",
    "print('No of Outliers : ', len_outliers)"
   ]
  },
  {
   "cell_type": "markdown",
   "id": "45dcc645",
   "metadata": {},
   "source": [
    " - We can clearly see in the boxplot above the sample calculation that we have exactly 4 outliers in the data of age of the males who bought KP781 treadmill."
   ]
  },
  {
   "cell_type": "markdown",
   "id": "9a5976c3",
   "metadata": {},
   "source": [
    "### What is the income range of the customers who purchase a specific type of product?"
   ]
  },
  {
   "cell_type": "code",
   "execution_count": 40,
   "id": "74f9c0c0",
   "metadata": {},
   "outputs": [
    {
     "data": {
      "text/plain": [
       "[]"
      ]
     },
     "execution_count": 40,
     "metadata": {},
     "output_type": "execute_result"
    },
    {
     "data": {
      "image/png": "[encoded data removed]",
      "text/plain": [
       "<Figure size 864x576 with 1 Axes>"
      ]
     },
     "metadata": {
      "needs_background": "light"
     },
     "output_type": "display_data"
    }
   ],
   "source": [
    "plt.figure(figsize = (12, 8))\n",
    "sns.boxplot(data = df, x = 'Product', y = 'Income', hue = 'Gender', showmeans = True, fliersize = 4)\n",
    "plt.plot()"
   ]
  },
  {
   "cell_type": "markdown",
   "id": "0a052598",
   "metadata": {},
   "source": [
    " - The median income of customers who bought KP781 is much higher than that of the customers who bought other two products.\n",
    " - The range of income for customers buying KP781 is much higher than the same for customers buying KP281 and KP481."
   ]
  },
  {
   "cell_type": "markdown",
   "id": "c2c1a068",
   "metadata": {},
   "source": [
    "##### Sample calculation to detect outliers in the income of females who bought KP481  "
   ]
  },
  {
   "cell_type": "code",
   "execution_count": 41,
   "id": "c714f059",
   "metadata": {},
   "outputs": [
    {
     "name": "stdout",
     "output_type": "stream",
     "text": [
      "Mean :  49336.44827586207\n",
      "Median :  48891.0\n",
      "Quartile 1 :  45480.0\n",
      "Quartile 3 :  52302.0\n",
      "Inner Quartile Range :  6822.0\n",
      "Upper :  62535.0\n",
      "Lower :  35247.0\n",
      "Outliers :  [34110, 34110, 65220, 64809]\n",
      "No of Outliers :  4\n"
     ]
    }
   ],
   "source": [
    "data = df.loc[(df['Product'] == 'KP481') & (df['Gender'] == 'Female'), 'Income']\n",
    "print('Mean : ', data.mean())\n",
    "print('Median : ', data.median())\n",
    "q1 = data.quantile(0.25)\n",
    "q3 = data.quantile(0.75)\n",
    "print(\"Quartile 1 : \", q1)\n",
    "print(\"Quartile 3 : \", q3)\n",
    "iqr = q3 - q1\n",
    "print('Inner Quartile Range : ', iqr)\n",
    "upper = q3 + 1.5 * iqr\n",
    "lower = q1 - 1.5 * iqr\n",
    "print(\"Upper : \", upper)\n",
    "print('Lower : ', lower)\n",
    "outliers = data[(data > upper) | (data < lower)]\n",
    "print(\"Outliers : \", list(outliers))\n",
    "len_outliers = len((data[(data > upper) | (data < lower)]))\n",
    "print('No of Outliers : ', len_outliers)"
   ]
  },
  {
   "cell_type": "code",
   "execution_count": 42,
   "id": "c2c051ab",
   "metadata": {},
   "outputs": [
    {
     "data": {
      "text/plain": [
       "[]"
      ]
     },
     "execution_count": 42,
     "metadata": {},
     "output_type": "execute_result"
    },
    {
     "data": {
      "image/png": "[encoded data removed]",
      "text/plain": [
       "<Figure size 864x576 with 1 Axes>"
      ]
     },
     "metadata": {
      "needs_background": "light"
     },
     "output_type": "display_data"
    }
   ],
   "source": [
    "plt.figure(figsize = (12, 8))\n",
    "sns.countplot(data = df, x = 'income_bins', hue = 'Product')\n",
    "plt.grid(axis = 'y')\n",
    "plt.plot()"
   ]
  },
  {
   "cell_type": "markdown",
   "id": "5ff7d950",
   "metadata": {},
   "source": [
    " - The customers with high annual salary (60k and above) are more likely to buy KP781.\n",
    " - The customers with annual salary < 60k are more likely to buy KP281 and KP481."
   ]
  },
  {
   "cell_type": "markdown",
   "id": "c0dd9284",
   "metadata": {},
   "source": [
    "#### Coorelation between measurable quantities "
   ]
  },
  {
   "cell_type": "code",
   "execution_count": 43,
   "id": "cc61ee9b",
   "metadata": {},
   "outputs": [
    {
     "data": {
      "text/plain": [
       "[]"
      ]
     },
     "execution_count": 43,
     "metadata": {},
     "output_type": "execute_result"
    },
    {
     "data": {
      "image/png": "[encoded data removed]",
      "text/plain": [
       "<Figure size 1080x1080 with 42 Axes>"
      ]
     },
     "metadata": {
      "needs_background": "light"
     },
     "output_type": "display_data"
    }
   ],
   "source": [
    "sns.pairplot(data = df, kind = 'reg') \n",
    "plt.plot()"
   ]
  },
  {
   "cell_type": "code",
   "execution_count": 44,
   "id": "72132472",
   "metadata": {},
   "outputs": [
    {
     "data": {
      "text/html": [
       "<div>\n",
       "<style scoped>\n",
       "    .dataframe tbody tr th:only-of-type {\n",
       "        vertical-align: middle;\n",
       "    }\n",
       "\n",
       "    .dataframe tbody tr th {\n",
       "        vertical-align: top;\n",
       "    }\n",
       "\n",
       "    .dataframe thead th {\n",
       "        text-align: right;\n",
       "    }\n",
       "</style>\n",
       "<table border=\"1\" class=\"dataframe\">\n",
       "  <thead>\n",
       "    <tr style=\"text-align: right;\">\n",
       "      <th></th>\n",
       "      <th>Age</th>\n",
       "      <th>Education</th>\n",
       "      <th>Usage</th>\n",
       "      <th>Fitness</th>\n",
       "      <th>Income</th>\n",
       "      <th>Miles</th>\n",
       "    </tr>\n",
       "  </thead>\n",
       "  <tbody>\n",
       "    <tr>\n",
       "      <th>Age</th>\n",
       "      <td>1.000000</td>\n",
       "      <td>0.280496</td>\n",
       "      <td>0.015064</td>\n",
       "      <td>0.061105</td>\n",
       "      <td>0.513414</td>\n",
       "      <td>0.036618</td>\n",
       "    </tr>\n",
       "    <tr>\n",
       "      <th>Education</th>\n",
       "      <td>0.280496</td>\n",
       "      <td>1.000000</td>\n",
       "      <td>0.395155</td>\n",
       "      <td>0.410581</td>\n",
       "      <td>0.625827</td>\n",
       "      <td>0.307284</td>\n",
       "    </tr>\n",
       "    <tr>\n",
       "      <th>Usage</th>\n",
       "      <td>0.015064</td>\n",
       "      <td>0.395155</td>\n",
       "      <td>1.000000</td>\n",
       "      <td>0.668606</td>\n",
       "      <td>0.519537</td>\n",
       "      <td>0.759130</td>\n",
       "    </tr>\n",
       "    <tr>\n",
       "      <th>Fitness</th>\n",
       "      <td>0.061105</td>\n",
       "      <td>0.410581</td>\n",
       "      <td>0.668606</td>\n",
       "      <td>1.000000</td>\n",
       "      <td>0.535005</td>\n",
       "      <td>0.785702</td>\n",
       "    </tr>\n",
       "    <tr>\n",
       "      <th>Income</th>\n",
       "      <td>0.513414</td>\n",
       "      <td>0.625827</td>\n",
       "      <td>0.519537</td>\n",
       "      <td>0.535005</td>\n",
       "      <td>1.000000</td>\n",
       "      <td>0.543473</td>\n",
       "    </tr>\n",
       "    <tr>\n",
       "      <th>Miles</th>\n",
       "      <td>0.036618</td>\n",
       "      <td>0.307284</td>\n",
       "      <td>0.759130</td>\n",
       "      <td>0.785702</td>\n",
       "      <td>0.543473</td>\n",
       "      <td>1.000000</td>\n",
       "    </tr>\n",
       "  </tbody>\n",
       "</table>\n",
       "</div>"
      ],
      "text/plain": [
       "                Age  Education     Usage   Fitness    Income     Miles\n",
       "Age        1.000000   0.280496  0.015064  0.061105  0.513414  0.036618\n",
       "Education  0.280496   1.000000  0.395155  0.410581  0.625827  0.307284\n",
       "Usage      0.015064   0.395155  1.000000  0.668606  0.519537  0.759130\n",
       "Fitness    0.061105   0.410581  0.668606  1.000000  0.535005  0.785702\n",
       "Income     0.513414   0.625827  0.519537  0.535005  1.000000  0.543473\n",
       "Miles      0.036618   0.307284  0.759130  0.785702  0.543473  1.000000"
      ]
     },
     "execution_count": 44,
     "metadata": {},
     "output_type": "execute_result"
    }
   ],
   "source": [
    "df_corr = df.corr()\n",
    "df_corr"
   ]
  },
  {
   "cell_type": "code",
   "execution_count": 45,
   "id": "d5d59ffb",
   "metadata": {},
   "outputs": [
    {
     "data": {
      "text/plain": [
       "[]"
      ]
     },
     "execution_count": 45,
     "metadata": {},
     "output_type": "execute_result"
    },
    {
     "data": {
      "image/png": "[encoded data removed]",
      "text/plain": [
       "<Figure size 864x576 with 2 Axes>"
      ]
     },
     "metadata": {
      "needs_background": "light"
     },
     "output_type": "display_data"
    }
   ],
   "source": [
    "plt.figure(figsize = (12, 8))\n",
    "sns.heatmap(data = df_corr, \n",
    "            annot = True, \n",
    "            fmt = '.2%', \n",
    "            cmap='Greens', \n",
    "            linewidth = 2, \n",
    "            linecolor = 'black', \n",
    "            annot_kws = {'fontsize' : 'large',\n",
    "                        'fontfamily' : 'serif',\n",
    "                        'fontweight': 'bold'})           \n",
    "plt.plot()"
   ]
  },
  {
   "cell_type": "markdown",
   "id": "b3342465",
   "metadata": {},
   "source": [
    " - The customer with high fitness scale is more likely to run or walk more miles.\n",
    " - The customer who expects to use the treadmill more times in a week generally expects to walk or run more miles in the week.\n",
    " - The customer who have a high fitness scale generally uses the treadmill more frequently in a week."
   ]
  },
  {
   "cell_type": "markdown",
   "id": "d516e5ed",
   "metadata": {},
   "source": [
    "### What is the product buying behaviors of both the genders ?"
   ]
  },
  {
   "cell_type": "code",
   "execution_count": 84,
   "id": "f0b805f4",
   "metadata": {},
   "outputs": [
    {
     "name": "stdout",
     "output_type": "stream",
     "text": [
      "Gender   Female  Male  All\n",
      "Product                   \n",
      "KP281        40    40   80\n",
      "KP481        29    31   60\n",
      "KP781         7    33   40\n",
      "All          76   104  180\n",
      "\n",
      "--------------------------\n",
      "\n",
      "Product-wise normalization : \n",
      "Gender   Female   Male\n",
      "Product               \n",
      "KP281     50.00  50.00\n",
      "KP481     48.33  51.67\n",
      "KP781     17.50  82.50\n",
      "\n",
      "-----------------------\n",
      "\n",
      "Gender-wise normalization : \n",
      "Gender   Female   Male\n",
      "Product               \n",
      "KP281     52.63  38.46\n",
      "KP481     38.16  29.81\n",
      "KP781      9.21  31.73\n"
     ]
    }
   ],
   "source": [
    "print(pd.crosstab(index = df['Product'], columns = df['Gender'], margins = True))\n",
    "print()\n",
    "print('-' * 26)\n",
    "print()\n",
    "print(\"Product-wise normalization : \")\n",
    "print(np.round(pd.crosstab(index = df['Product'], columns = df['Gender'], normalize = 'index') * 100, 2))\n",
    "print()\n",
    "print('-' * 23)\n",
    "print()\n",
    "print(\"Gender-wise normalization : \")\n",
    "print(np.round(pd.crosstab(index = df['Product'], columns = df['Gender'], normalize = 'columns') * 100, 2))"
   ]
  },
  {
   "cell_type": "markdown",
   "id": "b17fb746",
   "metadata": {},
   "source": [
    " - Customers who bought KP781, 82.5% of them are males rest are females.\n",
    " \n",
    " \n",
    " - Among all female customers, only 9.21 % buy KP781. Females mostly buy products KP281 or KP481."
   ]
  },
  {
   "cell_type": "markdown",
   "id": "04dcfb91",
   "metadata": {},
   "source": [
    "##### What is the probability of buying a specific product provided the customer is of specific gender ?"
   ]
  },
  {
   "cell_type": "code",
   "execution_count": 47,
   "id": "7f93b4dd",
   "metadata": {},
   "outputs": [
    {
     "name": "stdout",
     "output_type": "stream",
     "text": [
      "Probability of buying 'KP281' provided the customer is Male is 38.46% \n",
      "\n",
      "Probability of buying 'KP481' provided the customer is Male is 29.81% \n",
      "\n",
      "Probability of buying 'KP781' provided the customer is Male is 31.73% \n",
      "\n",
      "Probability of buying 'KP281' provided the customer is Female is 52.63% \n",
      "\n",
      "Probability of buying 'KP481' provided the customer is Female is 38.16% \n",
      "\n",
      "Probability of buying 'KP781' provided the customer is Female is 9.21% \n",
      "\n"
     ]
    }
   ],
   "source": [
    "products = df['Product'].unique()\n",
    "genders = df['Gender'].unique()\n",
    "for i in genders:\n",
    "    for j in products:\n",
    "        prob = len(df[(df['Gender'] == i) & (df['Product'] == j)]) / len(df[df['Gender'] == i])\n",
    "        prob = np.round(prob * 100, 2)\n",
    "        print(\"Probability of buying '{}' provided the customer is {} is {}% \".format(j, i, prob))\n",
    "        print()"
   ]
  },
  {
   "cell_type": "markdown",
   "id": "e00f5aca",
   "metadata": {},
   "source": [
    "##### What is the probability of that the customer is of specific gender provided specific product is bought ? "
   ]
  },
  {
   "cell_type": "code",
   "execution_count": 48,
   "id": "3abbfbfc",
   "metadata": {},
   "outputs": [
    {
     "name": "stdout",
     "output_type": "stream",
     "text": [
      "Probability that the customer is Male provided KP281 was bought is 50.0% \n",
      "\n",
      "Probability that the customer is Male provided KP481 was bought is 51.67% \n",
      "\n",
      "Probability that the customer is Male provided KP781 was bought is 82.5% \n",
      "\n",
      "Probability that the customer is Female provided KP281 was bought is 50.0% \n",
      "\n",
      "Probability that the customer is Female provided KP481 was bought is 48.33% \n",
      "\n",
      "Probability that the customer is Female provided KP781 was bought is 17.5% \n",
      "\n"
     ]
    }
   ],
   "source": [
    "products = df['Product'].unique()\n",
    "genders = df['Gender'].unique()\n",
    "for i in genders:\n",
    "    for j in products:\n",
    "        prob = len(df[(df['Gender'] == i) & (df['Product'] == j)]) / len(df[df['Product'] == j])\n",
    "        prob = np.round(prob * 100, 2)\n",
    "        print(\"Probability that the customer is {} provided {} was bought is {}% \".format(i, j, prob))\n",
    "        print()"
   ]
  },
  {
   "cell_type": "markdown",
   "id": "e53ede7b",
   "metadata": {},
   "source": [
    "### What is the product buying behaviors of both the Marital Statuses ?"
   ]
  },
  {
   "cell_type": "code",
   "execution_count": 85,
   "id": "a28cf407",
   "metadata": {},
   "outputs": [
    {
     "name": "stdout",
     "output_type": "stream",
     "text": [
      "MaritalStatus  Partnered  Single  All\n",
      "Product                              \n",
      "KP281                 48      32   80\n",
      "KP481                 36      24   60\n",
      "KP781                 23      17   40\n",
      "All                  107      73  180\n",
      "\n",
      "-------------------------------------\n",
      "\n",
      "Product-wise normalization : \n",
      "MaritalStatus  Partnered  Single\n",
      "Product                         \n",
      "KP281               60.0    40.0\n",
      "KP481               60.0    40.0\n",
      "KP781               57.5    42.5\n",
      "\n",
      "---------------------------------\n",
      "\n",
      "Marital Status-wise normalization : \n",
      "MaritalStatus  Partnered  Single\n",
      "Product                         \n",
      "KP281              44.86   43.84\n",
      "KP481              33.64   32.88\n",
      "KP781              21.50   23.29\n"
     ]
    }
   ],
   "source": [
    "print(pd.crosstab(index = df['Product'], columns = df['MaritalStatus'], margins = True))\n",
    "print()\n",
    "print('-' * 37)\n",
    "print()\n",
    "print(\"Product-wise normalization : \")\n",
    "print(np.round(pd.crosstab(index = df['Product'], columns = df['MaritalStatus'], normalize = 'index') * 100, 2))\n",
    "print()\n",
    "print('-' * 33)\n",
    "print()\n",
    "print(\"Marital Status-wise normalization : \")\n",
    "print(np.round(pd.crosstab(index = df['Product'], columns = df['MaritalStatus'], normalize = 'columns') * 100, 2))"
   ]
  },
  {
   "cell_type": "markdown",
   "id": "69bfe95b",
   "metadata": {},
   "source": [
    "##### What is the probability of buying a specific product provided the customer is of specific marital status ?"
   ]
  },
  {
   "cell_type": "code",
   "execution_count": 50,
   "id": "57f0fc62",
   "metadata": {},
   "outputs": [
    {
     "name": "stdout",
     "output_type": "stream",
     "text": [
      "Probability of buying 'KP281' provided the customer is 'Single' is 43.84% \n",
      "\n",
      "Probability of buying 'KP481' provided the customer is 'Single' is 32.88% \n",
      "\n",
      "Probability of buying 'KP781' provided the customer is 'Single' is 23.29% \n",
      "\n",
      "----------------------------------------------------------------------------\n",
      "Probability of buying 'KP281' provided the customer is 'Partnered' is 44.86% \n",
      "\n",
      "Probability of buying 'KP481' provided the customer is 'Partnered' is 33.64% \n",
      "\n",
      "Probability of buying 'KP781' provided the customer is 'Partnered' is 21.5% \n",
      "\n"
     ]
    }
   ],
   "source": [
    "products = df['Product'].unique()\n",
    "statuses = df['MaritalStatus'].unique()\n",
    "for i in statuses:\n",
    "    if i != 'Single':\n",
    "        print('-' * 76)\n",
    "    for j in products:\n",
    "        prob = len(df[(df['MaritalStatus'] == i) & (df['Product'] == j)]) / len(df[df['MaritalStatus'] == i])\n",
    "        prob = np.round(prob * 100, 2)\n",
    "        print(\"Probability of buying '{}' provided the customer is '{}' is {}% \".format(j, i, prob))\n",
    "        print()"
   ]
  },
  {
   "cell_type": "markdown",
   "id": "ce029de6",
   "metadata": {},
   "source": [
    "##### What is the probability of that the customer is of specific Marital Status provided specific product is bought ? "
   ]
  },
  {
   "cell_type": "code",
   "execution_count": 51,
   "id": "d1cf1899",
   "metadata": {},
   "outputs": [
    {
     "name": "stdout",
     "output_type": "stream",
     "text": [
      "Probability that the customer is 'Single' provided 'KP281' was bought is 40.0% \n",
      "\n",
      "Probability that the customer is 'Single' provided 'KP481' was bought is 40.0% \n",
      "\n",
      "Probability that the customer is 'Single' provided 'KP781' was bought is 42.5% \n",
      "\n",
      "----------------------------------------------------------------------------------\n",
      "Probability that the customer is 'Partnered' provided 'KP281' was bought is 60.0% \n",
      "\n",
      "Probability that the customer is 'Partnered' provided 'KP481' was bought is 60.0% \n",
      "\n",
      "Probability that the customer is 'Partnered' provided 'KP781' was bought is 57.5% \n",
      "\n"
     ]
    }
   ],
   "source": [
    "products = df['Product'].unique()\n",
    "statuses = df['MaritalStatus'].unique()\n",
    "for i in statuses:\n",
    "    if i != 'Single':\n",
    "        print('-' * 82)\n",
    "    for j in products:\n",
    "        prob = len(df[(df['MaritalStatus'] == i) & (df['Product'] == j)]) / len(df[df['Product'] == j])\n",
    "        prob = np.round(prob * 100, 2)\n",
    "        print(\"Probability that the customer is '{}' provided '{}' was bought is {}% \".format(i, j, prob))\n",
    "        print()"
   ]
  },
  {
   "cell_type": "markdown",
   "id": "12db2a6c",
   "metadata": {},
   "source": [
    "### What is the product buying behaviors of customers with different fitness levels ?"
   ]
  },
  {
   "cell_type": "code",
   "execution_count": 86,
   "id": "5662474f",
   "metadata": {},
   "outputs": [
    {
     "name": "stdout",
     "output_type": "stream",
     "text": [
      "Fitness  1   2   3   4   5  All\n",
      "Product                        \n",
      "KP281    1  14  54   9   2   80\n",
      "KP481    1  12  39   8   0   60\n",
      "KP781    0   0   4   7  29   40\n",
      "All      2  26  97  24  31  180\n",
      "\n",
      "----------------------------------------\n",
      "\n",
      "Product-wise normalization : \n",
      "Fitness     1     2     3      4     5\n",
      "Product                               \n",
      "KP281    1.25  17.5  67.5  11.25   2.5\n",
      "KP481    1.67  20.0  65.0  13.33   0.0\n",
      "KP781    0.00   0.0  10.0  17.50  72.5\n",
      "\n",
      "----------------------------------------\n",
      "\n",
      "Fitness Scale-wise normalization : \n",
      "Fitness     1      2      3      4      5\n",
      "Product                                  \n",
      "KP281    50.0  53.85  55.67  37.50   6.45\n",
      "KP481    50.0  46.15  40.21  33.33   0.00\n",
      "KP781     0.0   0.00   4.12  29.17  93.55\n"
     ]
    }
   ],
   "source": [
    "print(pd.crosstab(index = df['Product'], columns = df['Fitness'], margins = True))\n",
    "print()\n",
    "print('-' * 40)\n",
    "print()\n",
    "print(\"Product-wise normalization : \")\n",
    "print(np.round(pd.crosstab(index = df['Product'], columns = df['Fitness'], normalize = 'index') * 100, 2))\n",
    "print()\n",
    "print('-' * 40)\n",
    "print()\n",
    "print(\"Fitness Scale-wise normalization : \")\n",
    "print(np.round(pd.crosstab(index = df['Product'], columns = df['Fitness'], normalize = 'columns') * 100, 2))"
   ]
  },
  {
   "cell_type": "markdown",
   "id": "50ab1320",
   "metadata": {},
   "source": [
    " - Number of customers who bought products KP281, KP481 and KP781 are in ratio 4 : 3 : 2. That means for every 9 customers, 4 customers bought KP281, 3 bought KP481 and 2 bought KP781.\n",
    " \n",
    " \n",
    " - Among all the customers who bought KP281, 96.25 % of them had fitness scales of 2, 3 or 4. Only 2.5 % of them had excellent body shape.    \n",
    " - Among all the customers who bought KP781, 90 % of them had fitness scales 4 or 5. Only 10 % of them had average body shape.\n",
    " \n",
    " \n",
    " - Among all the customers who had excellent body shape (fitness scale 5), 93.55 % of them bought product KP781 while the rest buy KP281. \n",
    " - All the customers in each fitness levels 1 and 2 (i.e., customers having poor body shape) either bought product KP281 or KP481. None of them bought the treadmill having advanced features i.e., KP781. "
   ]
  },
  {
   "cell_type": "markdown",
   "id": "654f8017",
   "metadata": {},
   "source": [
    "##### What is the probability of buying a specific product provided the customer has specific fitness scale  ?"
   ]
  },
  {
   "cell_type": "code",
   "execution_count": 53,
   "id": "d3c0a203",
   "metadata": {},
   "outputs": [
    {
     "name": "stdout",
     "output_type": "stream",
     "text": [
      "Probability of buying 'KP281' provided the customer has the fitness scale '1' is 50.0% \n",
      "\n",
      "Probability of buying 'KP481' provided the customer has the fitness scale '1' is 50.0% \n",
      "\n",
      "Probability of buying 'KP781' provided the customer has the fitness scale '1' is 0.0% \n",
      "\n",
      "----------------------------------------------------------------------------------------\n",
      "Probability of buying 'KP281' provided the customer has the fitness scale '2' is 53.85% \n",
      "\n",
      "Probability of buying 'KP481' provided the customer has the fitness scale '2' is 46.15% \n",
      "\n",
      "Probability of buying 'KP781' provided the customer has the fitness scale '2' is 0.0% \n",
      "\n",
      "----------------------------------------------------------------------------------------\n",
      "Probability of buying 'KP281' provided the customer has the fitness scale '3' is 55.67% \n",
      "\n",
      "Probability of buying 'KP481' provided the customer has the fitness scale '3' is 40.21% \n",
      "\n",
      "Probability of buying 'KP781' provided the customer has the fitness scale '3' is 4.12% \n",
      "\n",
      "----------------------------------------------------------------------------------------\n",
      "Probability of buying 'KP281' provided the customer has the fitness scale '4' is 37.5% \n",
      "\n",
      "Probability of buying 'KP481' provided the customer has the fitness scale '4' is 33.33% \n",
      "\n",
      "Probability of buying 'KP781' provided the customer has the fitness scale '4' is 29.17% \n",
      "\n",
      "----------------------------------------------------------------------------------------\n",
      "Probability of buying 'KP281' provided the customer has the fitness scale '5' is 6.45% \n",
      "\n",
      "Probability of buying 'KP481' provided the customer has the fitness scale '5' is 0.0% \n",
      "\n",
      "Probability of buying 'KP781' provided the customer has the fitness scale '5' is 93.55% \n",
      "\n"
     ]
    }
   ],
   "source": [
    "products = df['Product'].unique()\n",
    "scales = sorted(df['Fitness'].unique())\n",
    "for i in scales:\n",
    "    if i != 1:\n",
    "        print('-' * 88)\n",
    "    for j in products:\n",
    "        prob = len(df[(df['Fitness'] == i) & (df['Product'] == j)]) / len(df[df['Fitness'] == i])\n",
    "        prob = np.round(prob * 100, 2)\n",
    "        print(\"Probability of buying '{}' provided the customer has the fitness scale '{}' is {}% \".format(j, i, prob))\n",
    "        print()"
   ]
  },
  {
   "cell_type": "markdown",
   "id": "75222352",
   "metadata": {},
   "source": [
    "##### What is the probability of that the customer has a specific fitness scale provided specific product was bought ? "
   ]
  },
  {
   "cell_type": "code",
   "execution_count": 54,
   "id": "30e01ecb",
   "metadata": {},
   "outputs": [
    {
     "name": "stdout",
     "output_type": "stream",
     "text": [
      "Probability that the customer has a fitness scale of '1' provided 'KP281' was bought is 1.25% \n",
      "\n",
      "Probability that the customer has a fitness scale of '1' provided 'KP481' was bought is 1.67% \n",
      "\n",
      "Probability that the customer has a fitness scale of '1' provided 'KP781' was bought is 0.0% \n",
      "\n",
      "----------------------------------------------------------------------------------------------\n",
      "Probability that the customer has a fitness scale of '2' provided 'KP281' was bought is 17.5% \n",
      "\n",
      "Probability that the customer has a fitness scale of '2' provided 'KP481' was bought is 20.0% \n",
      "\n",
      "Probability that the customer has a fitness scale of '2' provided 'KP781' was bought is 0.0% \n",
      "\n",
      "----------------------------------------------------------------------------------------------\n",
      "Probability that the customer has a fitness scale of '3' provided 'KP281' was bought is 67.5% \n",
      "\n",
      "Probability that the customer has a fitness scale of '3' provided 'KP481' was bought is 65.0% \n",
      "\n",
      "Probability that the customer has a fitness scale of '3' provided 'KP781' was bought is 10.0% \n",
      "\n",
      "----------------------------------------------------------------------------------------------\n",
      "Probability that the customer has a fitness scale of '4' provided 'KP281' was bought is 11.25% \n",
      "\n",
      "Probability that the customer has a fitness scale of '4' provided 'KP481' was bought is 13.33% \n",
      "\n",
      "Probability that the customer has a fitness scale of '4' provided 'KP781' was bought is 17.5% \n",
      "\n",
      "----------------------------------------------------------------------------------------------\n",
      "Probability that the customer has a fitness scale of '5' provided 'KP281' was bought is 2.5% \n",
      "\n",
      "Probability that the customer has a fitness scale of '5' provided 'KP481' was bought is 0.0% \n",
      "\n",
      "Probability that the customer has a fitness scale of '5' provided 'KP781' was bought is 72.5% \n",
      "\n"
     ]
    }
   ],
   "source": [
    "products = df['Product'].unique()\n",
    "scales = sorted(df['Fitness'].unique())\n",
    "for i in scales:\n",
    "    if i != 1:\n",
    "        print('-' * 94)\n",
    "    for j in products:\n",
    "        prob = len(df[(df['Fitness'] == i) & (df['Product'] == j)]) / len(df[df['Product'] == j])\n",
    "        prob = np.round(prob * 100, 2)\n",
    "        print(\"Probability that the customer has a fitness scale of '{}' provided '{}' was bought is {}% \".format(i, j, prob))\n",
    "        print()"
   ]
  },
  {
   "cell_type": "markdown",
   "id": "32cd8072",
   "metadata": {},
   "source": [
    "### What is the relation between Marital Statuses and fitness levels of the Aerofit Customers?"
   ]
  },
  {
   "cell_type": "code",
   "execution_count": 55,
   "id": "7261a08a",
   "metadata": {},
   "outputs": [
    {
     "name": "stdout",
     "output_type": "stream",
     "text": [
      "Fitness        1   2   3   4   5  All\n",
      "MaritalStatus                        \n",
      "Partnered      1  18  57  13  18  107\n",
      "Single         1   8  40  11  13   73\n",
      "All            2  26  97  24  31  180\n",
      "\n",
      "------------------------------------------------\n",
      "Marital Status wise normalization : \n",
      "\n",
      "Fitness           1      2      3      4      5\n",
      "MaritalStatus                                  \n",
      "Partnered      0.93  16.82  53.27  12.15  16.82\n",
      "Single         1.37  10.96  54.79  15.07  17.81\n",
      "\n",
      "------------------------------------------------\n",
      "Fitness levels wise normalization : \n",
      "\n",
      "Fitness           1      2      3      4      5\n",
      "MaritalStatus                                  \n",
      "Partnered      50.0  69.23  58.76  54.17  58.06\n",
      "Single         50.0  30.77  41.24  45.83  41.94\n"
     ]
    }
   ],
   "source": [
    "print(pd.crosstab(index = df['MaritalStatus'], columns = df['Fitness'], margins = True))\n",
    "print()\n",
    "print('-' * 48)\n",
    "print('Marital Status wise normalization : ')\n",
    "print()\n",
    "print(np.round(pd.crosstab(index = df['MaritalStatus'], columns = df['Fitness'], normalize = 'index') * 100, 2))\n",
    "print()\n",
    "print(\"-\" * 48)\n",
    "print('Fitness levels wise normalization : ')\n",
    "print()\n",
    "print(np.round(pd.crosstab(index = df['MaritalStatus'], columns = df['Fitness'], normalize = 'columns') * 100, 2))\n"
   ]
  },
  {
   "cell_type": "markdown",
   "id": "444f5eea",
   "metadata": {},
   "source": [
    " - Majority of customers (i.e., greater than 50%) in each marital statuses had fitness scale 3.\n",
    " - Majority of customers (i.e., greater than 50%) in each of fitness scales 2, 3, 4 and 5 were partnered.(Since there are significantly higher number of customers who were partnered than single)"
   ]
  },
  {
   "cell_type": "markdown",
   "id": "87948d33",
   "metadata": {},
   "source": [
    "### What is the relation between Incomes and Products bought by the Aerofit Customers?"
   ]
  },
  {
   "cell_type": "code",
   "execution_count": 56,
   "id": "d5e3e1df",
   "metadata": {},
   "outputs": [
    {
     "name": "stdout",
     "output_type": "stream",
     "text": [
      "income_bins  45k - 60k  60k - 80k  < 45k   > 80k  All\n",
      "Product                                              \n",
      "KP281               40          6      34      0   80\n",
      "KP481               38          7      15      0   60\n",
      "KP781               11         10       0     19   40\n",
      "All                 89         23      49     19  180\n",
      "\n",
      "------------------------------------------------------\n",
      "Product wise normalization : \n",
      "\n",
      "income_bins  45k - 60k  60k - 80k  < 45k   > 80k\n",
      "Product                                         \n",
      "KP281            50.00       7.50    42.5    0.0\n",
      "KP481            63.33      11.67    25.0    0.0\n",
      "KP781            27.50      25.00     0.0   47.5\n",
      "\n",
      "------------------------------------------------\n",
      "Income-bins wise normalization :\n",
      "\n",
      "income_bins  45k - 60k  60k - 80k  < 45k   > 80k\n",
      "Product                                         \n",
      "KP281            44.94      26.09   69.39    0.0\n",
      "KP481            42.70      30.43   30.61    0.0\n",
      "KP781            12.36      43.48    0.00  100.0\n"
     ]
    }
   ],
   "source": [
    "print(pd.crosstab(index = df['Product'], columns = df['income_bins'], margins = True))\n",
    "print()\n",
    "print('-' * 54)\n",
    "print('Product wise normalization : ')\n",
    "print()\n",
    "print(np.round(pd.crosstab(index = df['Product'], columns = df['income_bins'], normalize = 'index') * 100, 2))\n",
    "print()\n",
    "print(\"-\" * 48)\n",
    "print('Income-bins wise normalization :')\n",
    "print()\n",
    "print(np.round(pd.crosstab(index = df['Product'], columns = df['income_bins'], normalize = 'columns') * 100, 2))"
   ]
  },
  {
   "cell_type": "markdown",
   "id": "105cbb0f",
   "metadata": {},
   "source": [
    "##### What is the probability of buying a specific product provided the customer's annual income lies in a specific income range  ?"
   ]
  },
  {
   "cell_type": "code",
   "execution_count": 57,
   "id": "59ea6e2d",
   "metadata": {},
   "outputs": [
    {
     "name": "stdout",
     "output_type": "stream",
     "text": [
      "Probability of buying 'KP281' provided the customer has the annual income in range '45k - 60k' is 44.94% \n",
      "\n",
      "Probability of buying 'KP481' provided the customer has the annual income in range '45k - 60k' is 42.7% \n",
      "\n",
      "Probability of buying 'KP781' provided the customer has the annual income in range '45k - 60k' is 12.36% \n",
      "\n",
      "---------------------------------------------------------------------------------------------------------\n",
      "Probability of buying 'KP281' provided the customer has the annual income in range '60k - 80k' is 26.09% \n",
      "\n",
      "Probability of buying 'KP481' provided the customer has the annual income in range '60k - 80k' is 30.43% \n",
      "\n",
      "Probability of buying 'KP781' provided the customer has the annual income in range '60k - 80k' is 43.48% \n",
      "\n",
      "---------------------------------------------------------------------------------------------------------\n",
      "Probability of buying 'KP281' provided the customer has the annual income in range '< 45k ' is 69.39% \n",
      "\n",
      "Probability of buying 'KP481' provided the customer has the annual income in range '< 45k ' is 30.61% \n",
      "\n",
      "Probability of buying 'KP781' provided the customer has the annual income in range '< 45k ' is 0.0% \n",
      "\n",
      "---------------------------------------------------------------------------------------------------------\n",
      "Probability of buying 'KP281' provided the customer has the annual income in range '> 80k' is 0.0% \n",
      "\n",
      "Probability of buying 'KP481' provided the customer has the annual income in range '> 80k' is 0.0% \n",
      "\n",
      "Probability of buying 'KP781' provided the customer has the annual income in range '> 80k' is 100.0% \n",
      "\n"
     ]
    }
   ],
   "source": [
    "products = df['Product'].unique()\n",
    "incomes = sorted(df['income_bins'].unique())\n",
    "for i in incomes:\n",
    "    if i != '45k - 60k':\n",
    "        print('-' * 105)\n",
    "    for j in products:\n",
    "        prob = len(df[(df['income_bins'] == i) & (df['Product'] == j)]) / len(df[df['income_bins'] == i])\n",
    "        prob = np.round(prob * 100, 2)\n",
    "        print(\"Probability of buying '{}' provided the customer has the annual income in range '{}' is {}% \".format(j, i, prob))\n",
    "        print()"
   ]
  },
  {
   "cell_type": "markdown",
   "id": "d8bef772",
   "metadata": {},
   "source": [
    "##### What is the probability of that the customer's annual income lies in a specific salary range provided specific product was bought ? "
   ]
  },
  {
   "cell_type": "code",
   "execution_count": 58,
   "id": "e0e48d49",
   "metadata": {},
   "outputs": [
    {
     "name": "stdout",
     "output_type": "stream",
     "text": [
      "Probability that the customer's annual income lies in range '45k - 60k' provided 'KP281' was bought is 50.0% \n",
      "\n",
      "Probability that the customer's annual income lies in range '45k - 60k' provided 'KP481' was bought is 63.33% \n",
      "\n",
      "Probability that the customer's annual income lies in range '45k - 60k' provided 'KP781' was bought is 27.5% \n",
      "\n",
      "---------------------------------------------------------------------------------------------------------\n",
      "Probability that the customer's annual income lies in range '60k - 80k' provided 'KP281' was bought is 7.5% \n",
      "\n",
      "Probability that the customer's annual income lies in range '60k - 80k' provided 'KP481' was bought is 11.67% \n",
      "\n",
      "Probability that the customer's annual income lies in range '60k - 80k' provided 'KP781' was bought is 25.0% \n",
      "\n",
      "---------------------------------------------------------------------------------------------------------\n",
      "Probability that the customer's annual income lies in range '< 45k ' provided 'KP281' was bought is 42.5% \n",
      "\n",
      "Probability that the customer's annual income lies in range '< 45k ' provided 'KP481' was bought is 25.0% \n",
      "\n",
      "Probability that the customer's annual income lies in range '< 45k ' provided 'KP781' was bought is 0.0% \n",
      "\n",
      "---------------------------------------------------------------------------------------------------------\n",
      "Probability that the customer's annual income lies in range '> 80k' provided 'KP281' was bought is 0.0% \n",
      "\n",
      "Probability that the customer's annual income lies in range '> 80k' provided 'KP481' was bought is 0.0% \n",
      "\n",
      "Probability that the customer's annual income lies in range '> 80k' provided 'KP781' was bought is 47.5% \n",
      "\n"
     ]
    }
   ],
   "source": [
    "products = df['Product'].unique()\n",
    "incomes = sorted(df['income_bins'].unique())\n",
    "for i in incomes:\n",
    "    if i != '45k - 60k':\n",
    "        print('-' * 105)\n",
    "    for j in products:\n",
    "        prob = len(df[(df['income_bins'] == i) & (df['Product'] == j)]) / len(df[df['Product'] == j])\n",
    "        prob = np.round(prob * 100, 2)\n",
    "        print(\"Probability that the customer's annual income lies in range '{}' provided '{}' was bought is {}% \".format(i, j, prob))\n",
    "        print()"
   ]
  },
  {
   "cell_type": "markdown",
   "id": "b17d3e20",
   "metadata": {},
   "source": [
    "### What is the relation between Age Categories and Products bought by the Aerofit Customers?"
   ]
  },
  {
   "cell_type": "code",
   "execution_count": 59,
   "id": "3ad18c83",
   "metadata": {},
   "outputs": [
    {
     "name": "stdout",
     "output_type": "stream",
     "text": [
      "age_bins  25 - 33  34 - 46  <= 24   > 46  All\n",
      "Product                                      \n",
      "KP281          27       15      27    11   80\n",
      "KP481          17       11      17    15   60\n",
      "KP781          15        5      10    10   40\n",
      "All            59       31      54    36  180\n",
      "\n",
      "---------------------------------------------\n",
      "Product wise normalization : \n",
      "\n",
      "age_bins  25 - 33  34 - 46  <= 24    > 46\n",
      "Product                                  \n",
      "KP281       33.75    18.75   33.75  13.75\n",
      "KP481       28.33    18.33   28.33  25.00\n",
      "KP781       37.50    12.50   25.00  25.00\n",
      "\n",
      "------------------------------------------\n",
      "Age-bins wise normalization : \n",
      "\n",
      "age_bins  25 - 33  34 - 46  <= 24    > 46\n",
      "Product                                  \n",
      "KP281       45.76    48.39   50.00  30.56\n",
      "KP481       28.81    35.48   31.48  41.67\n",
      "KP781       25.42    16.13   18.52  27.78\n"
     ]
    }
   ],
   "source": [
    "print(pd.crosstab(index = df['Product'], columns = df['age_bins'], margins = True))\n",
    "print()\n",
    "print('-' * 45)\n",
    "print('Product wise normalization : ')\n",
    "print()\n",
    "print(np.round(pd.crosstab(index = df['Product'], columns = df['age_bins'], normalize = 'index') * 100, 2))\n",
    "print()\n",
    "print(\"-\" * 42)\n",
    "print('Age-bins wise normalization : ')\n",
    "print()\n",
    "print(np.round(pd.crosstab(index = df['Product'], columns = df['age_bins'], normalize = 'columns') * 100, 2))"
   ]
  },
  {
   "cell_type": "markdown",
   "id": "de2d1739",
   "metadata": {},
   "source": [
    "##### What is the probability of buying a specific product provided the customer's age lies in a specific age range  ?"
   ]
  },
  {
   "cell_type": "code",
   "execution_count": 60,
   "id": "add18899",
   "metadata": {},
   "outputs": [
    {
     "name": "stdout",
     "output_type": "stream",
     "text": [
      "Probability of buying 'KP281' provided the customer's age lies in range '25 - 33' is 45.76% \n",
      "\n",
      "Probability of buying 'KP481' provided the customer's age lies in range '25 - 33' is 28.81% \n",
      "\n",
      "Probability of buying 'KP781' provided the customer's age lies in range '25 - 33' is 25.42% \n",
      "\n",
      "-------------------------------------------------------------------------------------------\n",
      "Probability of buying 'KP281' provided the customer's age lies in range '34 - 46' is 48.39% \n",
      "\n",
      "Probability of buying 'KP481' provided the customer's age lies in range '34 - 46' is 35.48% \n",
      "\n",
      "Probability of buying 'KP781' provided the customer's age lies in range '34 - 46' is 16.13% \n",
      "\n",
      "-------------------------------------------------------------------------------------------\n",
      "Probability of buying 'KP281' provided the customer's age lies in range '<= 24 ' is 50.0% \n",
      "\n",
      "Probability of buying 'KP481' provided the customer's age lies in range '<= 24 ' is 31.48% \n",
      "\n",
      "Probability of buying 'KP781' provided the customer's age lies in range '<= 24 ' is 18.52% \n",
      "\n",
      "-------------------------------------------------------------------------------------------\n",
      "Probability of buying 'KP281' provided the customer's age lies in range '> 46' is 30.56% \n",
      "\n",
      "Probability of buying 'KP481' provided the customer's age lies in range '> 46' is 41.67% \n",
      "\n",
      "Probability of buying 'KP781' provided the customer's age lies in range '> 46' is 27.78% \n",
      "\n"
     ]
    }
   ],
   "source": [
    "products = df['Product'].unique()\n",
    "ages = sorted(df['age_bins'].unique())\n",
    "for i in ages:\n",
    "    if i != '25 - 33':\n",
    "        print('-' * 91)\n",
    "    for j in products:\n",
    "        prob = len(df[(df['age_bins'] == i) & (df['Product'] == j)]) / len(df[df['age_bins'] == i])\n",
    "        prob = np.round(prob * 100, 2)\n",
    "        print(\"Probability of buying '{}' provided the customer's age lies in range '{}' is {}% \".format(j, i, prob))\n",
    "        print()"
   ]
  },
  {
   "cell_type": "markdown",
   "id": "07cd1415",
   "metadata": {},
   "source": [
    "##### What is the probability of that the customer's age lies in a specific age range provided specific product was bought ? \n"
   ]
  },
  {
   "cell_type": "code",
   "execution_count": 61,
   "id": "cbe50696",
   "metadata": {},
   "outputs": [
    {
     "name": "stdout",
     "output_type": "stream",
     "text": [
      "Probability that the customer's age lies in range '25 - 33' provided 'KP281' was bought is 33.75% \n",
      "\n",
      "Probability that the customer's age lies in range '25 - 33' provided 'KP481' was bought is 28.33% \n",
      "\n",
      "Probability that the customer's age lies in range '25 - 33' provided 'KP781' was bought is 37.5% \n",
      "\n",
      "------------------------------------------------------------------------------------------------\n",
      "Probability that the customer's age lies in range '34 - 46' provided 'KP281' was bought is 18.75% \n",
      "\n",
      "Probability that the customer's age lies in range '34 - 46' provided 'KP481' was bought is 18.33% \n",
      "\n",
      "Probability that the customer's age lies in range '34 - 46' provided 'KP781' was bought is 12.5% \n",
      "\n",
      "------------------------------------------------------------------------------------------------\n",
      "Probability that the customer's age lies in range '<= 24 ' provided 'KP281' was bought is 33.75% \n",
      "\n",
      "Probability that the customer's age lies in range '<= 24 ' provided 'KP481' was bought is 28.33% \n",
      "\n",
      "Probability that the customer's age lies in range '<= 24 ' provided 'KP781' was bought is 25.0% \n",
      "\n",
      "------------------------------------------------------------------------------------------------\n",
      "Probability that the customer's age lies in range '> 46' provided 'KP281' was bought is 13.75% \n",
      "\n",
      "Probability that the customer's age lies in range '> 46' provided 'KP481' was bought is 25.0% \n",
      "\n",
      "Probability that the customer's age lies in range '> 46' provided 'KP781' was bought is 25.0% \n",
      "\n"
     ]
    }
   ],
   "source": [
    "products = df['Product'].unique()\n",
    "ages = sorted(df['age_bins'].unique())\n",
    "for i in ages:\n",
    "    if i != '25 - 33':\n",
    "        print('-' * 96)\n",
    "    for j in products:\n",
    "        prob = len(df[(df['age_bins'] == i) & (df['Product'] == j)]) / len(df[df['Product'] == j])\n",
    "        prob = np.round(prob * 100, 2)\n",
    "        print(\"Probability that the customer's age lies in range '{}' provided '{}' was bought is {}% \".format(i, j, prob))\n",
    "        print()"
   ]
  },
  {
   "cell_type": "markdown",
   "id": "770b4646",
   "metadata": {},
   "source": [
    "## Customer Profiling :"
   ]
  },
  {
   "cell_type": "markdown",
   "id": "5e1ec672",
   "metadata": {},
   "source": [
    "#### Product of buying a specific product based on gender, age, fitness scale, income :"
   ]
  },
  {
   "cell_type": "code",
   "execution_count": 76,
   "id": "813cbdf8",
   "metadata": {},
   "outputs": [
    {
     "name": "stdout",
     "output_type": "stream",
     "text": [
      "No record for (Male, Single, age <= 24 , fitness scale = 1, income < 45k ) buying KP281\n",
      "No record for (Male, Single, age <= 24 , fitness scale = 1, income 45k - 60k) buying KP281\n",
      "No record for (Male, Single, age <= 24 , fitness scale = 1, income 60k - 80k) buying KP281\n",
      "No record for (Male, Single, age <= 24 , fitness scale = 1, income > 80k) buying KP281\n",
      "No record for (Male, Single, age <= 24 , fitness scale = 2, income < 45k ) buying KP281\n",
      "No record for (Male, Single, age <= 24 , fitness scale = 2, income 45k - 60k) buying KP281\n",
      "No record for (Male, Single, age <= 24 , fitness scale = 2, income 60k - 80k) buying KP281\n",
      "No record for (Male, Single, age <= 24 , fitness scale = 2, income > 80k) buying KP281\n",
      "P(KP281 / (Male, Single, age <= 24 , fitness scale = 3, income < 45k )) = 8.89%\n",
      "P(KP281 / (Male, Single, age <= 24 , fitness scale = 3, income 45k - 60k)) = 40.0%\n",
      "No record for (Male, Single, age <= 24 , fitness scale = 3, income 60k - 80k) buying KP281\n",
      "No record for (Male, Single, age <= 24 , fitness scale = 3, income > 80k) buying KP281\n",
      "P(KP281 / (Male, Single, age <= 24 , fitness scale = 4, income < 45k )) = 40.0%\n",
      "P(KP281 / (Male, Single, age <= 24 , fitness scale = 4, income 45k - 60k)) = 80.0%\n",
      "No record for (Male, Single, age <= 24 , fitness scale = 4, income 60k - 80k) buying KP281\n",
      "No record for (Male, Single, age <= 24 , fitness scale = 4, income > 80k) buying KP281\n",
      "No record for (Male, Single, age <= 24 , fitness scale = 5, income < 45k ) buying KP281\n",
      "P(KP281 / (Male, Single, age <= 24 , fitness scale = 5, income 45k - 60k)) = 16.0%\n",
      "P(KP281 / (Male, Single, age <= 24 , fitness scale = 5, income 60k - 80k)) = 80.0%\n",
      "No record for (Male, Single, age <= 24 , fitness scale = 5, income > 80k) buying KP281\n",
      "No record for (Male, Single, age > 46, fitness scale = 1, income < 45k ) buying KP281\n",
      "No record for (Male, Single, age > 46, fitness scale = 1, income 45k - 60k) buying KP281\n",
      "No record for (Male, Single, age > 46, fitness scale = 1, income 60k - 80k) buying KP281\n",
      "No record for (Male, Single, age > 46, fitness scale = 1, income > 80k) buying KP281\n",
      "No record for (Male, Single, age > 46, fitness scale = 2, income < 45k ) buying KP281\n",
      "No record for (Male, Single, age > 46, fitness scale = 2, income 45k - 60k) buying KP281\n",
      "No record for (Male, Single, age > 46, fitness scale = 2, income 60k - 80k) buying KP281\n",
      "No record for (Male, Single, age > 46, fitness scale = 2, income > 80k) buying KP281\n",
      "P(KP281 / (Male, Single, age > 46, fitness scale = 3, income < 45k )) = 80.0%\n",
      "P(KP281 / (Male, Single, age > 46, fitness scale = 3, income 45k - 60k)) = 40.0%\n",
      "P(KP281 / (Male, Single, age > 46, fitness scale = 3, income 60k - 80k)) = 80.0%\n",
      "No record for (Male, Single, age > 46, fitness scale = 3, income > 80k) buying KP281\n",
      "P(KP281 / (Male, Single, age > 46, fitness scale = 4, income < 45k )) = 80.0%\n",
      "No record for (Male, Single, age > 46, fitness scale = 4, income 45k - 60k) buying KP281\n",
      "No record for (Male, Single, age > 46, fitness scale = 4, income 60k - 80k) buying KP281\n",
      "No record for (Male, Single, age > 46, fitness scale = 4, income > 80k) buying KP281\n",
      "No record for (Male, Single, age > 46, fitness scale = 5, income < 45k ) buying KP281\n",
      "P(KP281 / (Male, Single, age > 46, fitness scale = 5, income 45k - 60k)) = 80.0%\n",
      "No record for (Male, Single, age > 46, fitness scale = 5, income 60k - 80k) buying KP281\n",
      "P(KP281 / (Male, Single, age > 46, fitness scale = 5, income > 80k)) = 80.0%\n",
      "No record for (Male, Single, age 25 - 33, fitness scale = 1, income < 45k ) buying KP281\n",
      "No record for (Male, Single, age 25 - 33, fitness scale = 1, income 45k - 60k) buying KP281\n",
      "No record for (Male, Single, age 25 - 33, fitness scale = 1, income 60k - 80k) buying KP281\n",
      "No record for (Male, Single, age 25 - 33, fitness scale = 1, income > 80k) buying KP281\n",
      "No record for (Male, Single, age 25 - 33, fitness scale = 2, income < 45k ) buying KP281\n",
      "P(KP281 / (Male, Single, age 25 - 33, fitness scale = 2, income 45k - 60k)) = 80.0%\n",
      "No record for (Male, Single, age 25 - 33, fitness scale = 2, income 60k - 80k) buying KP281\n",
      "No record for (Male, Single, age 25 - 33, fitness scale = 2, income > 80k) buying KP281\n",
      "No record for (Male, Single, age 25 - 33, fitness scale = 3, income < 45k ) buying KP281\n",
      "P(KP281 / (Male, Single, age 25 - 33, fitness scale = 3, income 45k - 60k)) = 13.33%\n",
      "P(KP281 / (Male, Single, age 25 - 33, fitness scale = 3, income 60k - 80k)) = 80.0%\n",
      "P(KP281 / (Male, Single, age 25 - 33, fitness scale = 3, income > 80k)) = 80.0%\n",
      "No record for (Male, Single, age 25 - 33, fitness scale = 4, income < 45k ) buying KP281\n",
      "No record for (Male, Single, age 25 - 33, fitness scale = 4, income 45k - 60k) buying KP281\n",
      "No record for (Male, Single, age 25 - 33, fitness scale = 4, income 60k - 80k) buying KP281\n",
      "No record for (Male, Single, age 25 - 33, fitness scale = 4, income > 80k) buying KP281\n",
      "No record for (Male, Single, age 25 - 33, fitness scale = 5, income < 45k ) buying KP281\n",
      "P(KP281 / (Male, Single, age 25 - 33, fitness scale = 5, income 45k - 60k)) = 80.0%\n",
      "No record for (Male, Single, age 25 - 33, fitness scale = 5, income 60k - 80k) buying KP281\n",
      "P(KP281 / (Male, Single, age 25 - 33, fitness scale = 5, income > 80k)) = 80.0%\n",
      "No record for (Male, Single, age 34 - 46, fitness scale = 1, income < 45k ) buying KP281\n",
      "No record for (Male, Single, age 34 - 46, fitness scale = 1, income 45k - 60k) buying KP281\n",
      "No record for (Male, Single, age 34 - 46, fitness scale = 1, income 60k - 80k) buying KP281\n",
      "No record for (Male, Single, age 34 - 46, fitness scale = 1, income > 80k) buying KP281\n",
      "No record for (Male, Single, age 34 - 46, fitness scale = 2, income < 45k ) buying KP281\n",
      "No record for (Male, Single, age 34 - 46, fitness scale = 2, income 45k - 60k) buying KP281\n",
      "No record for (Male, Single, age 34 - 46, fitness scale = 2, income 60k - 80k) buying KP281\n",
      "No record for (Male, Single, age 34 - 46, fitness scale = 2, income > 80k) buying KP281\n",
      "P(KP281 / (Male, Single, age 34 - 46, fitness scale = 3, income < 45k )) = 80.0%\n",
      "P(KP281 / (Male, Single, age 34 - 46, fitness scale = 3, income 45k - 60k)) = 80.0%\n",
      "No record for (Male, Single, age 34 - 46, fitness scale = 3, income 60k - 80k) buying KP281\n",
      "No record for (Male, Single, age 34 - 46, fitness scale = 3, income > 80k) buying KP281\n",
      "No record for (Male, Single, age 34 - 46, fitness scale = 4, income < 45k ) buying KP281\n",
      "No record for (Male, Single, age 34 - 46, fitness scale = 4, income 45k - 60k) buying KP281\n",
      "No record for (Male, Single, age 34 - 46, fitness scale = 4, income 60k - 80k) buying KP281\n",
      "P(KP281 / (Male, Single, age 34 - 46, fitness scale = 4, income > 80k)) = 80.0%\n",
      "No record for (Male, Single, age 34 - 46, fitness scale = 5, income < 45k ) buying KP281\n",
      "No record for (Male, Single, age 34 - 46, fitness scale = 5, income 45k - 60k) buying KP281\n",
      "No record for (Male, Single, age 34 - 46, fitness scale = 5, income 60k - 80k) buying KP281\n",
      "P(KP281 / (Male, Single, age 34 - 46, fitness scale = 5, income > 80k)) = 40.0%\n",
      "P(KP281 / (Male, Partnered, age <= 24 , fitness scale = 1, income < 45k )) = 80.0%\n",
      "No record for (Male, Partnered, age <= 24 , fitness scale = 1, income 45k - 60k) buying KP281\n",
      "No record for (Male, Partnered, age <= 24 , fitness scale = 1, income 60k - 80k) buying KP281\n",
      "No record for (Male, Partnered, age <= 24 , fitness scale = 1, income > 80k) buying KP281\n",
      "P(KP281 / (Male, Partnered, age <= 24 , fitness scale = 2, income < 45k )) = 20.0%\n",
      "No record for (Male, Partnered, age <= 24 , fitness scale = 2, income 45k - 60k) buying KP281\n",
      "No record for (Male, Partnered, age <= 24 , fitness scale = 2, income 60k - 80k) buying KP281\n",
      "No record for (Male, Partnered, age <= 24 , fitness scale = 2, income > 80k) buying KP281\n",
      "P(KP281 / (Male, Partnered, age <= 24 , fitness scale = 3, income < 45k )) = 20.0%\n",
      "P(KP281 / (Male, Partnered, age <= 24 , fitness scale = 3, income 45k - 60k)) = 40.0%\n",
      "No record for (Male, Partnered, age <= 24 , fitness scale = 3, income 60k - 80k) buying KP281\n",
      "No record for (Male, Partnered, age <= 24 , fitness scale = 3, income > 80k) buying KP281\n",
      "No record for (Male, Partnered, age <= 24 , fitness scale = 4, income < 45k ) buying KP281\n",
      "No record for (Male, Partnered, age <= 24 , fitness scale = 4, income 45k - 60k) buying KP281\n",
      "No record for (Male, Partnered, age <= 24 , fitness scale = 4, income 60k - 80k) buying KP281\n",
      "No record for (Male, Partnered, age <= 24 , fitness scale = 4, income > 80k) buying KP281\n",
      "No record for (Male, Partnered, age <= 24 , fitness scale = 5, income < 45k ) buying KP281\n",
      "P(KP281 / (Male, Partnered, age <= 24 , fitness scale = 5, income 45k - 60k)) = 80.0%\n",
      "No record for (Male, Partnered, age <= 24 , fitness scale = 5, income 60k - 80k) buying KP281\n",
      "No record for (Male, Partnered, age <= 24 , fitness scale = 5, income > 80k) buying KP281\n",
      "No record for (Male, Partnered, age > 46, fitness scale = 1, income < 45k ) buying KP281\n",
      "No record for (Male, Partnered, age > 46, fitness scale = 1, income 45k - 60k) buying KP281\n",
      "No record for (Male, Partnered, age > 46, fitness scale = 1, income 60k - 80k) buying KP281\n",
      "No record for (Male, Partnered, age > 46, fitness scale = 1, income > 80k) buying KP281\n",
      "No record for (Male, Partnered, age > 46, fitness scale = 2, income < 45k ) buying KP281\n",
      "P(KP281 / (Male, Partnered, age > 46, fitness scale = 2, income 45k - 60k)) = 80.0%\n",
      "No record for (Male, Partnered, age > 46, fitness scale = 2, income 60k - 80k) buying KP281\n",
      "No record for (Male, Partnered, age > 46, fitness scale = 2, income > 80k) buying KP281\n",
      "No record for (Male, Partnered, age > 46, fitness scale = 3, income < 45k ) buying KP281\n",
      "P(KP281 / (Male, Partnered, age > 46, fitness scale = 3, income 45k - 60k)) = 16.0%\n",
      "P(KP281 / (Male, Partnered, age > 46, fitness scale = 3, income 60k - 80k)) = 80.0%\n",
      "No record for (Male, Partnered, age > 46, fitness scale = 3, income > 80k) buying KP281\n",
      "P(KP281 / (Male, Partnered, age > 46, fitness scale = 4, income < 45k )) = 80.0%\n",
      "P(KP281 / (Male, Partnered, age > 46, fitness scale = 4, income 45k - 60k)) = 80.0%\n",
      "P(KP281 / (Male, Partnered, age > 46, fitness scale = 4, income 60k - 80k)) = 40.0%\n",
      "No record for (Male, Partnered, age > 46, fitness scale = 4, income > 80k) buying KP281\n",
      "No record for (Male, Partnered, age > 46, fitness scale = 5, income < 45k ) buying KP281\n",
      "P(KP281 / (Male, Partnered, age > 46, fitness scale = 5, income 45k - 60k)) = 80.0%\n",
      "P(KP281 / (Male, Partnered, age > 46, fitness scale = 5, income 60k - 80k)) = 40.0%\n",
      "P(KP281 / (Male, Partnered, age > 46, fitness scale = 5, income > 80k)) = 40.0%\n",
      "No record for (Male, Partnered, age 25 - 33, fitness scale = 1, income < 45k ) buying KP281\n",
      "No record for (Male, Partnered, age 25 - 33, fitness scale = 1, income 45k - 60k) buying KP281\n",
      "No record for (Male, Partnered, age 25 - 33, fitness scale = 1, income 60k - 80k) buying KP281\n",
      "No record for (Male, Partnered, age 25 - 33, fitness scale = 1, income > 80k) buying KP281\n",
      "No record for (Male, Partnered, age 25 - 33, fitness scale = 2, income < 45k ) buying KP281\n",
      "P(KP281 / (Male, Partnered, age 25 - 33, fitness scale = 2, income 45k - 60k)) = 40.0%\n",
      "No record for (Male, Partnered, age 25 - 33, fitness scale = 2, income 60k - 80k) buying KP281\n",
      "No record for (Male, Partnered, age 25 - 33, fitness scale = 2, income > 80k) buying KP281\n",
      "No record for (Male, Partnered, age 25 - 33, fitness scale = 3, income < 45k ) buying KP281\n",
      "P(KP281 / (Male, Partnered, age 25 - 33, fitness scale = 3, income 45k - 60k)) = 16.0%\n",
      "P(KP281 / (Male, Partnered, age 25 - 33, fitness scale = 3, income 60k - 80k)) = 80.0%\n",
      "No record for (Male, Partnered, age 25 - 33, fitness scale = 3, income > 80k) buying KP281\n",
      "P(KP281 / (Male, Partnered, age 25 - 33, fitness scale = 4, income < 45k )) = 80.0%\n",
      "P(KP281 / (Male, Partnered, age 25 - 33, fitness scale = 4, income 45k - 60k)) = 40.0%\n",
      "P(KP281 / (Male, Partnered, age 25 - 33, fitness scale = 4, income 60k - 80k)) = 80.0%\n",
      "P(KP281 / (Male, Partnered, age 25 - 33, fitness scale = 4, income > 80k)) = 40.0%\n",
      "No record for (Male, Partnered, age 25 - 33, fitness scale = 5, income < 45k ) buying KP281\n"
     ]
    },
    {
     "name": "stdout",
     "output_type": "stream",
     "text": [
      "No record for (Male, Partnered, age 25 - 33, fitness scale = 5, income 45k - 60k) buying KP281\n",
      "P(KP281 / (Male, Partnered, age 25 - 33, fitness scale = 5, income 60k - 80k)) = 80.0%\n",
      "P(KP281 / (Male, Partnered, age 25 - 33, fitness scale = 5, income > 80k)) = 20.0%\n",
      "No record for (Male, Partnered, age 34 - 46, fitness scale = 1, income < 45k ) buying KP281\n",
      "No record for (Male, Partnered, age 34 - 46, fitness scale = 1, income 45k - 60k) buying KP281\n",
      "No record for (Male, Partnered, age 34 - 46, fitness scale = 1, income 60k - 80k) buying KP281\n",
      "No record for (Male, Partnered, age 34 - 46, fitness scale = 1, income > 80k) buying KP281\n",
      "No record for (Male, Partnered, age 34 - 46, fitness scale = 2, income < 45k ) buying KP281\n",
      "P(KP281 / (Male, Partnered, age 34 - 46, fitness scale = 2, income 45k - 60k)) = 40.0%\n",
      "No record for (Male, Partnered, age 34 - 46, fitness scale = 2, income 60k - 80k) buying KP281\n",
      "No record for (Male, Partnered, age 34 - 46, fitness scale = 2, income > 80k) buying KP281\n",
      "No record for (Male, Partnered, age 34 - 46, fitness scale = 3, income < 45k ) buying KP281\n",
      "P(KP281 / (Male, Partnered, age 34 - 46, fitness scale = 3, income 45k - 60k)) = 11.43%\n",
      "P(KP281 / (Male, Partnered, age 34 - 46, fitness scale = 3, income 60k - 80k)) = 40.0%\n",
      "No record for (Male, Partnered, age 34 - 46, fitness scale = 3, income > 80k) buying KP281\n",
      "No record for (Male, Partnered, age 34 - 46, fitness scale = 4, income < 45k ) buying KP281\n",
      "P(KP281 / (Male, Partnered, age 34 - 46, fitness scale = 4, income 45k - 60k)) = 80.0%\n",
      "No record for (Male, Partnered, age 34 - 46, fitness scale = 4, income 60k - 80k) buying KP281\n",
      "No record for (Male, Partnered, age 34 - 46, fitness scale = 4, income > 80k) buying KP281\n",
      "No record for (Male, Partnered, age 34 - 46, fitness scale = 5, income < 45k ) buying KP281\n",
      "No record for (Male, Partnered, age 34 - 46, fitness scale = 5, income 45k - 60k) buying KP281\n",
      "No record for (Male, Partnered, age 34 - 46, fitness scale = 5, income 60k - 80k) buying KP281\n",
      "P(KP281 / (Male, Partnered, age 34 - 46, fitness scale = 5, income > 80k)) = 40.0%\n",
      "No record for (Female, Single, age <= 24 , fitness scale = 1, income < 45k ) buying KP281\n",
      "No record for (Female, Single, age <= 24 , fitness scale = 1, income 45k - 60k) buying KP281\n",
      "No record for (Female, Single, age <= 24 , fitness scale = 1, income 60k - 80k) buying KP281\n",
      "No record for (Female, Single, age <= 24 , fitness scale = 1, income > 80k) buying KP281\n",
      "P(KP281 / (Female, Single, age <= 24 , fitness scale = 2, income < 45k )) = 40.0%\n",
      "No record for (Female, Single, age <= 24 , fitness scale = 2, income 45k - 60k) buying KP281\n",
      "No record for (Female, Single, age <= 24 , fitness scale = 2, income 60k - 80k) buying KP281\n",
      "No record for (Female, Single, age <= 24 , fitness scale = 2, income > 80k) buying KP281\n",
      "P(KP281 / (Female, Single, age <= 24 , fitness scale = 3, income < 45k )) = 16.0%\n",
      "P(KP281 / (Female, Single, age <= 24 , fitness scale = 3, income 45k - 60k)) = 26.67%\n",
      "No record for (Female, Single, age <= 24 , fitness scale = 3, income 60k - 80k) buying KP281\n",
      "No record for (Female, Single, age <= 24 , fitness scale = 3, income > 80k) buying KP281\n",
      "No record for (Female, Single, age <= 24 , fitness scale = 4, income < 45k ) buying KP281\n",
      "P(KP281 / (Female, Single, age <= 24 , fitness scale = 4, income 45k - 60k)) = 80.0%\n",
      "No record for (Female, Single, age <= 24 , fitness scale = 4, income 60k - 80k) buying KP281\n",
      "No record for (Female, Single, age <= 24 , fitness scale = 4, income > 80k) buying KP281\n",
      "No record for (Female, Single, age <= 24 , fitness scale = 5, income < 45k ) buying KP281\n",
      "P(KP281 / (Female, Single, age <= 24 , fitness scale = 5, income 45k - 60k)) = 80.0%\n",
      "No record for (Female, Single, age <= 24 , fitness scale = 5, income 60k - 80k) buying KP281\n",
      "No record for (Female, Single, age <= 24 , fitness scale = 5, income > 80k) buying KP281\n",
      "No record for (Female, Single, age > 46, fitness scale = 1, income < 45k ) buying KP281\n",
      "No record for (Female, Single, age > 46, fitness scale = 1, income 45k - 60k) buying KP281\n",
      "No record for (Female, Single, age > 46, fitness scale = 1, income 60k - 80k) buying KP281\n",
      "No record for (Female, Single, age > 46, fitness scale = 1, income > 80k) buying KP281\n",
      "No record for (Female, Single, age > 46, fitness scale = 2, income < 45k ) buying KP281\n",
      "P(KP281 / (Female, Single, age > 46, fitness scale = 2, income 45k - 60k)) = 40.0%\n",
      "No record for (Female, Single, age > 46, fitness scale = 2, income 60k - 80k) buying KP281\n",
      "No record for (Female, Single, age > 46, fitness scale = 2, income > 80k) buying KP281\n",
      "P(KP281 / (Female, Single, age > 46, fitness scale = 3, income < 45k )) = 80.0%\n",
      "No record for (Female, Single, age > 46, fitness scale = 3, income 45k - 60k) buying KP281\n",
      "No record for (Female, Single, age > 46, fitness scale = 3, income 60k - 80k) buying KP281\n",
      "No record for (Female, Single, age > 46, fitness scale = 3, income > 80k) buying KP281\n",
      "P(KP281 / (Female, Single, age > 46, fitness scale = 4, income < 45k )) = 80.0%\n",
      "No record for (Female, Single, age > 46, fitness scale = 4, income 45k - 60k) buying KP281\n",
      "No record for (Female, Single, age > 46, fitness scale = 4, income 60k - 80k) buying KP281\n",
      "No record for (Female, Single, age > 46, fitness scale = 4, income > 80k) buying KP281\n",
      "No record for (Female, Single, age > 46, fitness scale = 5, income < 45k ) buying KP281\n",
      "No record for (Female, Single, age > 46, fitness scale = 5, income 45k - 60k) buying KP281\n",
      "No record for (Female, Single, age > 46, fitness scale = 5, income 60k - 80k) buying KP281\n",
      "No record for (Female, Single, age > 46, fitness scale = 5, income > 80k) buying KP281\n",
      "No record for (Female, Single, age 25 - 33, fitness scale = 1, income < 45k ) buying KP281\n",
      "No record for (Female, Single, age 25 - 33, fitness scale = 1, income 45k - 60k) buying KP281\n",
      "P(KP281 / (Female, Single, age 25 - 33, fitness scale = 1, income 60k - 80k)) = 80.0%\n",
      "No record for (Female, Single, age 25 - 33, fitness scale = 1, income > 80k) buying KP281\n",
      "No record for (Female, Single, age 25 - 33, fitness scale = 2, income < 45k ) buying KP281\n",
      "P(KP281 / (Female, Single, age 25 - 33, fitness scale = 2, income 45k - 60k)) = 40.0%\n",
      "No record for (Female, Single, age 25 - 33, fitness scale = 2, income 60k - 80k) buying KP281\n",
      "No record for (Female, Single, age 25 - 33, fitness scale = 2, income > 80k) buying KP281\n",
      "P(KP281 / (Female, Single, age 25 - 33, fitness scale = 3, income < 45k )) = 80.0%\n",
      "P(KP281 / (Female, Single, age 25 - 33, fitness scale = 3, income 45k - 60k)) = 40.0%\n",
      "P(KP281 / (Female, Single, age 25 - 33, fitness scale = 3, income 60k - 80k)) = 80.0%\n",
      "No record for (Female, Single, age 25 - 33, fitness scale = 3, income > 80k) buying KP281\n",
      "No record for (Female, Single, age 25 - 33, fitness scale = 4, income < 45k ) buying KP281\n",
      "P(KP281 / (Female, Single, age 25 - 33, fitness scale = 4, income 45k - 60k)) = 26.67%\n",
      "No record for (Female, Single, age 25 - 33, fitness scale = 4, income 60k - 80k) buying KP281\n",
      "No record for (Female, Single, age 25 - 33, fitness scale = 4, income > 80k) buying KP281\n",
      "No record for (Female, Single, age 25 - 33, fitness scale = 5, income < 45k ) buying KP281\n",
      "No record for (Female, Single, age 25 - 33, fitness scale = 5, income 45k - 60k) buying KP281\n",
      "No record for (Female, Single, age 25 - 33, fitness scale = 5, income 60k - 80k) buying KP281\n",
      "No record for (Female, Single, age 25 - 33, fitness scale = 5, income > 80k) buying KP281\n",
      "No record for (Female, Single, age 34 - 46, fitness scale = 1, income < 45k ) buying KP281\n",
      "No record for (Female, Single, age 34 - 46, fitness scale = 1, income 45k - 60k) buying KP281\n",
      "No record for (Female, Single, age 34 - 46, fitness scale = 1, income 60k - 80k) buying KP281\n",
      "No record for (Female, Single, age 34 - 46, fitness scale = 1, income > 80k) buying KP281\n",
      "No record for (Female, Single, age 34 - 46, fitness scale = 2, income < 45k ) buying KP281\n",
      "P(KP281 / (Female, Single, age 34 - 46, fitness scale = 2, income 45k - 60k)) = 80.0%\n",
      "No record for (Female, Single, age 34 - 46, fitness scale = 2, income 60k - 80k) buying KP281\n",
      "No record for (Female, Single, age 34 - 46, fitness scale = 2, income > 80k) buying KP281\n",
      "No record for (Female, Single, age 34 - 46, fitness scale = 3, income < 45k ) buying KP281\n",
      "P(KP281 / (Female, Single, age 34 - 46, fitness scale = 3, income 45k - 60k)) = 80.0%\n",
      "P(KP281 / (Female, Single, age 34 - 46, fitness scale = 3, income 60k - 80k)) = 80.0%\n",
      "No record for (Female, Single, age 34 - 46, fitness scale = 3, income > 80k) buying KP281\n",
      "No record for (Female, Single, age 34 - 46, fitness scale = 4, income < 45k ) buying KP281\n",
      "P(KP281 / (Female, Single, age 34 - 46, fitness scale = 4, income 45k - 60k)) = 80.0%\n",
      "No record for (Female, Single, age 34 - 46, fitness scale = 4, income 60k - 80k) buying KP281\n",
      "No record for (Female, Single, age 34 - 46, fitness scale = 4, income > 80k) buying KP281\n",
      "No record for (Female, Single, age 34 - 46, fitness scale = 5, income < 45k ) buying KP281\n",
      "No record for (Female, Single, age 34 - 46, fitness scale = 5, income 45k - 60k) buying KP281\n",
      "No record for (Female, Single, age 34 - 46, fitness scale = 5, income 60k - 80k) buying KP281\n",
      "No record for (Female, Single, age 34 - 46, fitness scale = 5, income > 80k) buying KP281\n",
      "No record for (Female, Partnered, age <= 24 , fitness scale = 1, income < 45k ) buying KP281\n",
      "No record for (Female, Partnered, age <= 24 , fitness scale = 1, income 45k - 60k) buying KP281\n",
      "No record for (Female, Partnered, age <= 24 , fitness scale = 1, income 60k - 80k) buying KP281\n",
      "No record for (Female, Partnered, age <= 24 , fitness scale = 1, income > 80k) buying KP281\n",
      "P(KP281 / (Female, Partnered, age <= 24 , fitness scale = 2, income < 45k )) = 26.67%\n",
      "No record for (Female, Partnered, age <= 24 , fitness scale = 2, income 45k - 60k) buying KP281\n",
      "No record for (Female, Partnered, age <= 24 , fitness scale = 2, income 60k - 80k) buying KP281\n",
      "No record for (Female, Partnered, age <= 24 , fitness scale = 2, income > 80k) buying KP281\n",
      "P(KP281 / (Female, Partnered, age <= 24 , fitness scale = 3, income < 45k )) = 16.0%\n",
      "No record for (Female, Partnered, age <= 24 , fitness scale = 3, income 45k - 60k) buying KP281\n",
      "No record for (Female, Partnered, age <= 24 , fitness scale = 3, income 60k - 80k) buying KP281\n",
      "No record for (Female, Partnered, age <= 24 , fitness scale = 3, income > 80k) buying KP281\n",
      "P(KP281 / (Female, Partnered, age <= 24 , fitness scale = 4, income < 45k )) = 80.0%\n",
      "No record for (Female, Partnered, age <= 24 , fitness scale = 4, income 45k - 60k) buying KP281\n",
      "No record for (Female, Partnered, age <= 24 , fitness scale = 4, income 60k - 80k) buying KP281\n",
      "No record for (Female, Partnered, age <= 24 , fitness scale = 4, income > 80k) buying KP281\n",
      "P(KP281 / (Female, Partnered, age <= 24 , fitness scale = 5, income < 45k )) = 80.0%\n",
      "No record for (Female, Partnered, age <= 24 , fitness scale = 5, income 45k - 60k) buying KP281\n",
      "No record for (Female, Partnered, age <= 24 , fitness scale = 5, income 60k - 80k) buying KP281\n",
      "No record for (Female, Partnered, age <= 24 , fitness scale = 5, income > 80k) buying KP281\n",
      "No record for (Female, Partnered, age > 46, fitness scale = 1, income < 45k ) buying KP281\n",
      "No record for (Female, Partnered, age > 46, fitness scale = 1, income 45k - 60k) buying KP281\n",
      "No record for (Female, Partnered, age > 46, fitness scale = 1, income 60k - 80k) buying KP281\n",
      "No record for (Female, Partnered, age > 46, fitness scale = 1, income > 80k) buying KP281\n",
      "P(KP281 / (Female, Partnered, age > 46, fitness scale = 2, income < 45k )) = 80.0%\n",
      "P(KP281 / (Female, Partnered, age > 46, fitness scale = 2, income 45k - 60k)) = 80.0%\n",
      "No record for (Female, Partnered, age > 46, fitness scale = 2, income 60k - 80k) buying KP281\n",
      "No record for (Female, Partnered, age > 46, fitness scale = 2, income > 80k) buying KP281\n",
      "P(KP281 / (Female, Partnered, age > 46, fitness scale = 3, income < 45k )) = 80.0%\n",
      "P(KP281 / (Female, Partnered, age > 46, fitness scale = 3, income 45k - 60k)) = 26.67%\n",
      "P(KP281 / (Female, Partnered, age > 46, fitness scale = 3, income 60k - 80k)) = 40.0%\n",
      "No record for (Female, Partnered, age > 46, fitness scale = 3, income > 80k) buying KP281\n",
      "No record for (Female, Partnered, age > 46, fitness scale = 4, income < 45k ) buying KP281\n",
      "No record for (Female, Partnered, age > 46, fitness scale = 4, income 45k - 60k) buying KP281\n",
      "No record for (Female, Partnered, age > 46, fitness scale = 4, income 60k - 80k) buying KP281\n",
      "No record for (Female, Partnered, age > 46, fitness scale = 4, income > 80k) buying KP281\n",
      "No record for (Female, Partnered, age > 46, fitness scale = 5, income < 45k ) buying KP281\n",
      "No record for (Female, Partnered, age > 46, fitness scale = 5, income 45k - 60k) buying KP281\n",
      "P(KP281 / (Female, Partnered, age > 46, fitness scale = 5, income 60k - 80k)) = 80.0%\n",
      "No record for (Female, Partnered, age > 46, fitness scale = 5, income > 80k) buying KP281\n",
      "No record for (Female, Partnered, age 25 - 33, fitness scale = 1, income < 45k ) buying KP281\n",
      "No record for (Female, Partnered, age 25 - 33, fitness scale = 1, income 45k - 60k) buying KP281\n",
      "No record for (Female, Partnered, age 25 - 33, fitness scale = 1, income 60k - 80k) buying KP281\n",
      "No record for (Female, Partnered, age 25 - 33, fitness scale = 1, income > 80k) buying KP281\n",
      "No record for (Female, Partnered, age 25 - 33, fitness scale = 2, income < 45k ) buying KP281\n",
      "P(KP281 / (Female, Partnered, age 25 - 33, fitness scale = 2, income 45k - 60k)) = 40.0%\n",
      "No record for (Female, Partnered, age 25 - 33, fitness scale = 2, income 60k - 80k) buying KP281\n",
      "No record for (Female, Partnered, age 25 - 33, fitness scale = 2, income > 80k) buying KP281\n",
      "No record for (Female, Partnered, age 25 - 33, fitness scale = 3, income < 45k ) buying KP281\n",
      "P(KP281 / (Female, Partnered, age 25 - 33, fitness scale = 3, income 45k - 60k)) = 6.15%\n",
      "No record for (Female, Partnered, age 25 - 33, fitness scale = 3, income 60k - 80k) buying KP281\n",
      "No record for (Female, Partnered, age 25 - 33, fitness scale = 3, income > 80k) buying KP281\n",
      "P(KP281 / (Female, Partnered, age 25 - 33, fitness scale = 4, income < 45k )) = 80.0%\n",
      "No record for (Female, Partnered, age 25 - 33, fitness scale = 4, income 45k - 60k) buying KP281\n",
      "No record for (Female, Partnered, age 25 - 33, fitness scale = 4, income 60k - 80k) buying KP281\n",
      "No record for (Female, Partnered, age 25 - 33, fitness scale = 4, income > 80k) buying KP281\n",
      "No record for (Female, Partnered, age 25 - 33, fitness scale = 5, income < 45k ) buying KP281\n",
      "No record for (Female, Partnered, age 25 - 33, fitness scale = 5, income 45k - 60k) buying KP281\n",
      "No record for (Female, Partnered, age 25 - 33, fitness scale = 5, income 60k - 80k) buying KP281\n",
      "P(KP281 / (Female, Partnered, age 25 - 33, fitness scale = 5, income > 80k)) = 26.67%\n",
      "No record for (Female, Partnered, age 34 - 46, fitness scale = 1, income < 45k ) buying KP281\n",
      "No record for (Female, Partnered, age 34 - 46, fitness scale = 1, income 45k - 60k) buying KP281\n",
      "No record for (Female, Partnered, age 34 - 46, fitness scale = 1, income 60k - 80k) buying KP281\n",
      "No record for (Female, Partnered, age 34 - 46, fitness scale = 1, income > 80k) buying KP281\n",
      "No record for (Female, Partnered, age 34 - 46, fitness scale = 2, income < 45k ) buying KP281\n"
     ]
    },
    {
     "name": "stdout",
     "output_type": "stream",
     "text": [
      "P(KP281 / (Female, Partnered, age 34 - 46, fitness scale = 2, income 45k - 60k)) = 80.0%\n",
      "P(KP281 / (Female, Partnered, age 34 - 46, fitness scale = 2, income 60k - 80k)) = 80.0%\n",
      "No record for (Female, Partnered, age 34 - 46, fitness scale = 2, income > 80k) buying KP281\n",
      "P(KP281 / (Female, Partnered, age 34 - 46, fitness scale = 3, income < 45k )) = 80.0%\n",
      "P(KP281 / (Female, Partnered, age 34 - 46, fitness scale = 3, income 45k - 60k)) = 40.0%\n",
      "P(KP281 / (Female, Partnered, age 34 - 46, fitness scale = 3, income 60k - 80k)) = 26.67%\n",
      "No record for (Female, Partnered, age 34 - 46, fitness scale = 3, income > 80k) buying KP281\n",
      "No record for (Female, Partnered, age 34 - 46, fitness scale = 4, income < 45k ) buying KP281\n",
      "No record for (Female, Partnered, age 34 - 46, fitness scale = 4, income 45k - 60k) buying KP281\n",
      "No record for (Female, Partnered, age 34 - 46, fitness scale = 4, income 60k - 80k) buying KP281\n",
      "No record for (Female, Partnered, age 34 - 46, fitness scale = 4, income > 80k) buying KP281\n",
      "No record for (Female, Partnered, age 34 - 46, fitness scale = 5, income < 45k ) buying KP281\n",
      "No record for (Female, Partnered, age 34 - 46, fitness scale = 5, income 45k - 60k) buying KP281\n",
      "No record for (Female, Partnered, age 34 - 46, fitness scale = 5, income 60k - 80k) buying KP281\n",
      "No record for (Female, Partnered, age 34 - 46, fitness scale = 5, income > 80k) buying KP281\n",
      "No record for (Male, Single, age <= 24 , fitness scale = 1, income < 45k ) buying KP481\n",
      "No record for (Male, Single, age <= 24 , fitness scale = 1, income 45k - 60k) buying KP481\n",
      "No record for (Male, Single, age <= 24 , fitness scale = 1, income 60k - 80k) buying KP481\n",
      "No record for (Male, Single, age <= 24 , fitness scale = 1, income > 80k) buying KP481\n",
      "No record for (Male, Single, age <= 24 , fitness scale = 2, income < 45k ) buying KP481\n",
      "No record for (Male, Single, age <= 24 , fitness scale = 2, income 45k - 60k) buying KP481\n",
      "No record for (Male, Single, age <= 24 , fitness scale = 2, income 60k - 80k) buying KP481\n",
      "No record for (Male, Single, age <= 24 , fitness scale = 2, income > 80k) buying KP481\n",
      "P(KP481 / (Male, Single, age <= 24 , fitness scale = 3, income < 45k )) = 6.67%\n",
      "P(KP481 / (Male, Single, age <= 24 , fitness scale = 3, income 45k - 60k)) = 30.0%\n",
      "No record for (Male, Single, age <= 24 , fitness scale = 3, income 60k - 80k) buying KP481\n",
      "No record for (Male, Single, age <= 24 , fitness scale = 3, income > 80k) buying KP481\n",
      "P(KP481 / (Male, Single, age <= 24 , fitness scale = 4, income < 45k )) = 30.0%\n",
      "P(KP481 / (Male, Single, age <= 24 , fitness scale = 4, income 45k - 60k)) = 60.0%\n",
      "No record for (Male, Single, age <= 24 , fitness scale = 4, income 60k - 80k) buying KP481\n",
      "No record for (Male, Single, age <= 24 , fitness scale = 4, income > 80k) buying KP481\n",
      "No record for (Male, Single, age <= 24 , fitness scale = 5, income < 45k ) buying KP481\n",
      "P(KP481 / (Male, Single, age <= 24 , fitness scale = 5, income 45k - 60k)) = 12.0%\n",
      "P(KP481 / (Male, Single, age <= 24 , fitness scale = 5, income 60k - 80k)) = 60.0%\n",
      "No record for (Male, Single, age <= 24 , fitness scale = 5, income > 80k) buying KP481\n",
      "No record for (Male, Single, age > 46, fitness scale = 1, income < 45k ) buying KP481\n",
      "No record for (Male, Single, age > 46, fitness scale = 1, income 45k - 60k) buying KP481\n",
      "No record for (Male, Single, age > 46, fitness scale = 1, income 60k - 80k) buying KP481\n",
      "No record for (Male, Single, age > 46, fitness scale = 1, income > 80k) buying KP481\n",
      "No record for (Male, Single, age > 46, fitness scale = 2, income < 45k ) buying KP481\n",
      "No record for (Male, Single, age > 46, fitness scale = 2, income 45k - 60k) buying KP481\n",
      "No record for (Male, Single, age > 46, fitness scale = 2, income 60k - 80k) buying KP481\n",
      "No record for (Male, Single, age > 46, fitness scale = 2, income > 80k) buying KP481\n",
      "P(KP481 / (Male, Single, age > 46, fitness scale = 3, income < 45k )) = 60.0%\n",
      "P(KP481 / (Male, Single, age > 46, fitness scale = 3, income 45k - 60k)) = 30.0%\n",
      "P(KP481 / (Male, Single, age > 46, fitness scale = 3, income 60k - 80k)) = 60.0%\n",
      "No record for (Male, Single, age > 46, fitness scale = 3, income > 80k) buying KP481\n",
      "P(KP481 / (Male, Single, age > 46, fitness scale = 4, income < 45k )) = 60.0%\n",
      "No record for (Male, Single, age > 46, fitness scale = 4, income 45k - 60k) buying KP481\n",
      "No record for (Male, Single, age > 46, fitness scale = 4, income 60k - 80k) buying KP481\n",
      "No record for (Male, Single, age > 46, fitness scale = 4, income > 80k) buying KP481\n",
      "No record for (Male, Single, age > 46, fitness scale = 5, income < 45k ) buying KP481\n",
      "P(KP481 / (Male, Single, age > 46, fitness scale = 5, income 45k - 60k)) = 60.0%\n",
      "No record for (Male, Single, age > 46, fitness scale = 5, income 60k - 80k) buying KP481\n",
      "P(KP481 / (Male, Single, age > 46, fitness scale = 5, income > 80k)) = 60.0%\n",
      "No record for (Male, Single, age 25 - 33, fitness scale = 1, income < 45k ) buying KP481\n",
      "No record for (Male, Single, age 25 - 33, fitness scale = 1, income 45k - 60k) buying KP481\n",
      "No record for (Male, Single, age 25 - 33, fitness scale = 1, income 60k - 80k) buying KP481\n",
      "No record for (Male, Single, age 25 - 33, fitness scale = 1, income > 80k) buying KP481\n",
      "No record for (Male, Single, age 25 - 33, fitness scale = 2, income < 45k ) buying KP481\n",
      "P(KP481 / (Male, Single, age 25 - 33, fitness scale = 2, income 45k - 60k)) = 60.0%\n",
      "No record for (Male, Single, age 25 - 33, fitness scale = 2, income 60k - 80k) buying KP481\n",
      "No record for (Male, Single, age 25 - 33, fitness scale = 2, income > 80k) buying KP481\n",
      "No record for (Male, Single, age 25 - 33, fitness scale = 3, income < 45k ) buying KP481\n",
      "P(KP481 / (Male, Single, age 25 - 33, fitness scale = 3, income 45k - 60k)) = 10.0%\n",
      "P(KP481 / (Male, Single, age 25 - 33, fitness scale = 3, income 60k - 80k)) = 60.0%\n",
      "P(KP481 / (Male, Single, age 25 - 33, fitness scale = 3, income > 80k)) = 60.0%\n",
      "No record for (Male, Single, age 25 - 33, fitness scale = 4, income < 45k ) buying KP481\n",
      "No record for (Male, Single, age 25 - 33, fitness scale = 4, income 45k - 60k) buying KP481\n",
      "No record for (Male, Single, age 25 - 33, fitness scale = 4, income 60k - 80k) buying KP481\n",
      "No record for (Male, Single, age 25 - 33, fitness scale = 4, income > 80k) buying KP481\n",
      "No record for (Male, Single, age 25 - 33, fitness scale = 5, income < 45k ) buying KP481\n",
      "P(KP481 / (Male, Single, age 25 - 33, fitness scale = 5, income 45k - 60k)) = 60.0%\n",
      "No record for (Male, Single, age 25 - 33, fitness scale = 5, income 60k - 80k) buying KP481\n",
      "P(KP481 / (Male, Single, age 25 - 33, fitness scale = 5, income > 80k)) = 60.0%\n",
      "No record for (Male, Single, age 34 - 46, fitness scale = 1, income < 45k ) buying KP481\n",
      "No record for (Male, Single, age 34 - 46, fitness scale = 1, income 45k - 60k) buying KP481\n",
      "No record for (Male, Single, age 34 - 46, fitness scale = 1, income 60k - 80k) buying KP481\n",
      "No record for (Male, Single, age 34 - 46, fitness scale = 1, income > 80k) buying KP481\n",
      "No record for (Male, Single, age 34 - 46, fitness scale = 2, income < 45k ) buying KP481\n",
      "No record for (Male, Single, age 34 - 46, fitness scale = 2, income 45k - 60k) buying KP481\n",
      "No record for (Male, Single, age 34 - 46, fitness scale = 2, income 60k - 80k) buying KP481\n",
      "No record for (Male, Single, age 34 - 46, fitness scale = 2, income > 80k) buying KP481\n",
      "P(KP481 / (Male, Single, age 34 - 46, fitness scale = 3, income < 45k )) = 60.0%\n",
      "P(KP481 / (Male, Single, age 34 - 46, fitness scale = 3, income 45k - 60k)) = 60.0%\n",
      "No record for (Male, Single, age 34 - 46, fitness scale = 3, income 60k - 80k) buying KP481\n",
      "No record for (Male, Single, age 34 - 46, fitness scale = 3, income > 80k) buying KP481\n",
      "No record for (Male, Single, age 34 - 46, fitness scale = 4, income < 45k ) buying KP481\n",
      "No record for (Male, Single, age 34 - 46, fitness scale = 4, income 45k - 60k) buying KP481\n",
      "No record for (Male, Single, age 34 - 46, fitness scale = 4, income 60k - 80k) buying KP481\n",
      "P(KP481 / (Male, Single, age 34 - 46, fitness scale = 4, income > 80k)) = 60.0%\n",
      "No record for (Male, Single, age 34 - 46, fitness scale = 5, income < 45k ) buying KP481\n",
      "No record for (Male, Single, age 34 - 46, fitness scale = 5, income 45k - 60k) buying KP481\n",
      "No record for (Male, Single, age 34 - 46, fitness scale = 5, income 60k - 80k) buying KP481\n",
      "P(KP481 / (Male, Single, age 34 - 46, fitness scale = 5, income > 80k)) = 30.0%\n",
      "P(KP481 / (Male, Partnered, age <= 24 , fitness scale = 1, income < 45k )) = 60.0%\n",
      "No record for (Male, Partnered, age <= 24 , fitness scale = 1, income 45k - 60k) buying KP481\n",
      "No record for (Male, Partnered, age <= 24 , fitness scale = 1, income 60k - 80k) buying KP481\n",
      "No record for (Male, Partnered, age <= 24 , fitness scale = 1, income > 80k) buying KP481\n",
      "P(KP481 / (Male, Partnered, age <= 24 , fitness scale = 2, income < 45k )) = 15.0%\n",
      "No record for (Male, Partnered, age <= 24 , fitness scale = 2, income 45k - 60k) buying KP481\n",
      "No record for (Male, Partnered, age <= 24 , fitness scale = 2, income 60k - 80k) buying KP481\n",
      "No record for (Male, Partnered, age <= 24 , fitness scale = 2, income > 80k) buying KP481\n",
      "P(KP481 / (Male, Partnered, age <= 24 , fitness scale = 3, income < 45k )) = 15.0%\n",
      "P(KP481 / (Male, Partnered, age <= 24 , fitness scale = 3, income 45k - 60k)) = 30.0%\n",
      "No record for (Male, Partnered, age <= 24 , fitness scale = 3, income 60k - 80k) buying KP481\n",
      "No record for (Male, Partnered, age <= 24 , fitness scale = 3, income > 80k) buying KP481\n",
      "No record for (Male, Partnered, age <= 24 , fitness scale = 4, income < 45k ) buying KP481\n",
      "No record for (Male, Partnered, age <= 24 , fitness scale = 4, income 45k - 60k) buying KP481\n",
      "No record for (Male, Partnered, age <= 24 , fitness scale = 4, income 60k - 80k) buying KP481\n",
      "No record for (Male, Partnered, age <= 24 , fitness scale = 4, income > 80k) buying KP481\n",
      "No record for (Male, Partnered, age <= 24 , fitness scale = 5, income < 45k ) buying KP481\n",
      "P(KP481 / (Male, Partnered, age <= 24 , fitness scale = 5, income 45k - 60k)) = 60.0%\n",
      "No record for (Male, Partnered, age <= 24 , fitness scale = 5, income 60k - 80k) buying KP481\n",
      "No record for (Male, Partnered, age <= 24 , fitness scale = 5, income > 80k) buying KP481\n",
      "No record for (Male, Partnered, age > 46, fitness scale = 1, income < 45k ) buying KP481\n",
      "No record for (Male, Partnered, age > 46, fitness scale = 1, income 45k - 60k) buying KP481\n",
      "No record for (Male, Partnered, age > 46, fitness scale = 1, income 60k - 80k) buying KP481\n",
      "No record for (Male, Partnered, age > 46, fitness scale = 1, income > 80k) buying KP481\n",
      "No record for (Male, Partnered, age > 46, fitness scale = 2, income < 45k ) buying KP481\n",
      "P(KP481 / (Male, Partnered, age > 46, fitness scale = 2, income 45k - 60k)) = 60.0%\n",
      "No record for (Male, Partnered, age > 46, fitness scale = 2, income 60k - 80k) buying KP481\n",
      "No record for (Male, Partnered, age > 46, fitness scale = 2, income > 80k) buying KP481\n",
      "No record for (Male, Partnered, age > 46, fitness scale = 3, income < 45k ) buying KP481\n",
      "P(KP481 / (Male, Partnered, age > 46, fitness scale = 3, income 45k - 60k)) = 12.0%\n",
      "P(KP481 / (Male, Partnered, age > 46, fitness scale = 3, income 60k - 80k)) = 60.0%\n",
      "No record for (Male, Partnered, age > 46, fitness scale = 3, income > 80k) buying KP481\n",
      "P(KP481 / (Male, Partnered, age > 46, fitness scale = 4, income < 45k )) = 60.0%\n",
      "P(KP481 / (Male, Partnered, age > 46, fitness scale = 4, income 45k - 60k)) = 60.0%\n",
      "P(KP481 / (Male, Partnered, age > 46, fitness scale = 4, income 60k - 80k)) = 30.0%\n",
      "No record for (Male, Partnered, age > 46, fitness scale = 4, income > 80k) buying KP481\n",
      "No record for (Male, Partnered, age > 46, fitness scale = 5, income < 45k ) buying KP481\n",
      "P(KP481 / (Male, Partnered, age > 46, fitness scale = 5, income 45k - 60k)) = 60.0%\n",
      "P(KP481 / (Male, Partnered, age > 46, fitness scale = 5, income 60k - 80k)) = 30.0%\n",
      "P(KP481 / (Male, Partnered, age > 46, fitness scale = 5, income > 80k)) = 30.0%\n",
      "No record for (Male, Partnered, age 25 - 33, fitness scale = 1, income < 45k ) buying KP481\n",
      "No record for (Male, Partnered, age 25 - 33, fitness scale = 1, income 45k - 60k) buying KP481\n",
      "No record for (Male, Partnered, age 25 - 33, fitness scale = 1, income 60k - 80k) buying KP481\n",
      "No record for (Male, Partnered, age 25 - 33, fitness scale = 1, income > 80k) buying KP481\n",
      "No record for (Male, Partnered, age 25 - 33, fitness scale = 2, income < 45k ) buying KP481\n",
      "P(KP481 / (Male, Partnered, age 25 - 33, fitness scale = 2, income 45k - 60k)) = 30.0%\n",
      "No record for (Male, Partnered, age 25 - 33, fitness scale = 2, income 60k - 80k) buying KP481\n",
      "No record for (Male, Partnered, age 25 - 33, fitness scale = 2, income > 80k) buying KP481\n",
      "No record for (Male, Partnered, age 25 - 33, fitness scale = 3, income < 45k ) buying KP481\n",
      "P(KP481 / (Male, Partnered, age 25 - 33, fitness scale = 3, income 45k - 60k)) = 12.0%\n",
      "P(KP481 / (Male, Partnered, age 25 - 33, fitness scale = 3, income 60k - 80k)) = 60.0%\n",
      "No record for (Male, Partnered, age 25 - 33, fitness scale = 3, income > 80k) buying KP481\n",
      "P(KP481 / (Male, Partnered, age 25 - 33, fitness scale = 4, income < 45k )) = 60.0%\n",
      "P(KP481 / (Male, Partnered, age 25 - 33, fitness scale = 4, income 45k - 60k)) = 30.0%\n",
      "P(KP481 / (Male, Partnered, age 25 - 33, fitness scale = 4, income 60k - 80k)) = 60.0%\n",
      "P(KP481 / (Male, Partnered, age 25 - 33, fitness scale = 4, income > 80k)) = 30.0%\n",
      "No record for (Male, Partnered, age 25 - 33, fitness scale = 5, income < 45k ) buying KP481\n",
      "No record for (Male, Partnered, age 25 - 33, fitness scale = 5, income 45k - 60k) buying KP481\n",
      "P(KP481 / (Male, Partnered, age 25 - 33, fitness scale = 5, income 60k - 80k)) = 60.0%\n",
      "P(KP481 / (Male, Partnered, age 25 - 33, fitness scale = 5, income > 80k)) = 15.0%\n",
      "No record for (Male, Partnered, age 34 - 46, fitness scale = 1, income < 45k ) buying KP481\n",
      "No record for (Male, Partnered, age 34 - 46, fitness scale = 1, income 45k - 60k) buying KP481\n",
      "No record for (Male, Partnered, age 34 - 46, fitness scale = 1, income 60k - 80k) buying KP481\n",
      "No record for (Male, Partnered, age 34 - 46, fitness scale = 1, income > 80k) buying KP481\n",
      "No record for (Male, Partnered, age 34 - 46, fitness scale = 2, income < 45k ) buying KP481\n",
      "P(KP481 / (Male, Partnered, age 34 - 46, fitness scale = 2, income 45k - 60k)) = 30.0%\n",
      "No record for (Male, Partnered, age 34 - 46, fitness scale = 2, income 60k - 80k) buying KP481\n",
      "No record for (Male, Partnered, age 34 - 46, fitness scale = 2, income > 80k) buying KP481\n"
     ]
    },
    {
     "name": "stdout",
     "output_type": "stream",
     "text": [
      "No record for (Male, Partnered, age 34 - 46, fitness scale = 3, income < 45k ) buying KP481\n",
      "P(KP481 / (Male, Partnered, age 34 - 46, fitness scale = 3, income 45k - 60k)) = 8.57%\n",
      "P(KP481 / (Male, Partnered, age 34 - 46, fitness scale = 3, income 60k - 80k)) = 30.0%\n",
      "No record for (Male, Partnered, age 34 - 46, fitness scale = 3, income > 80k) buying KP481\n",
      "No record for (Male, Partnered, age 34 - 46, fitness scale = 4, income < 45k ) buying KP481\n",
      "P(KP481 / (Male, Partnered, age 34 - 46, fitness scale = 4, income 45k - 60k)) = 60.0%\n",
      "No record for (Male, Partnered, age 34 - 46, fitness scale = 4, income 60k - 80k) buying KP481\n",
      "No record for (Male, Partnered, age 34 - 46, fitness scale = 4, income > 80k) buying KP481\n",
      "No record for (Male, Partnered, age 34 - 46, fitness scale = 5, income < 45k ) buying KP481\n",
      "No record for (Male, Partnered, age 34 - 46, fitness scale = 5, income 45k - 60k) buying KP481\n",
      "No record for (Male, Partnered, age 34 - 46, fitness scale = 5, income 60k - 80k) buying KP481\n",
      "P(KP481 / (Male, Partnered, age 34 - 46, fitness scale = 5, income > 80k)) = 30.0%\n",
      "No record for (Female, Single, age <= 24 , fitness scale = 1, income < 45k ) buying KP481\n",
      "No record for (Female, Single, age <= 24 , fitness scale = 1, income 45k - 60k) buying KP481\n",
      "No record for (Female, Single, age <= 24 , fitness scale = 1, income 60k - 80k) buying KP481\n",
      "No record for (Female, Single, age <= 24 , fitness scale = 1, income > 80k) buying KP481\n",
      "P(KP481 / (Female, Single, age <= 24 , fitness scale = 2, income < 45k )) = 30.0%\n",
      "No record for (Female, Single, age <= 24 , fitness scale = 2, income 45k - 60k) buying KP481\n",
      "No record for (Female, Single, age <= 24 , fitness scale = 2, income 60k - 80k) buying KP481\n",
      "No record for (Female, Single, age <= 24 , fitness scale = 2, income > 80k) buying KP481\n",
      "P(KP481 / (Female, Single, age <= 24 , fitness scale = 3, income < 45k )) = 12.0%\n",
      "P(KP481 / (Female, Single, age <= 24 , fitness scale = 3, income 45k - 60k)) = 20.0%\n",
      "No record for (Female, Single, age <= 24 , fitness scale = 3, income 60k - 80k) buying KP481\n",
      "No record for (Female, Single, age <= 24 , fitness scale = 3, income > 80k) buying KP481\n",
      "No record for (Female, Single, age <= 24 , fitness scale = 4, income < 45k ) buying KP481\n",
      "P(KP481 / (Female, Single, age <= 24 , fitness scale = 4, income 45k - 60k)) = 60.0%\n",
      "No record for (Female, Single, age <= 24 , fitness scale = 4, income 60k - 80k) buying KP481\n",
      "No record for (Female, Single, age <= 24 , fitness scale = 4, income > 80k) buying KP481\n",
      "No record for (Female, Single, age <= 24 , fitness scale = 5, income < 45k ) buying KP481\n",
      "P(KP481 / (Female, Single, age <= 24 , fitness scale = 5, income 45k - 60k)) = 60.0%\n",
      "No record for (Female, Single, age <= 24 , fitness scale = 5, income 60k - 80k) buying KP481\n",
      "No record for (Female, Single, age <= 24 , fitness scale = 5, income > 80k) buying KP481\n",
      "No record for (Female, Single, age > 46, fitness scale = 1, income < 45k ) buying KP481\n",
      "No record for (Female, Single, age > 46, fitness scale = 1, income 45k - 60k) buying KP481\n",
      "No record for (Female, Single, age > 46, fitness scale = 1, income 60k - 80k) buying KP481\n",
      "No record for (Female, Single, age > 46, fitness scale = 1, income > 80k) buying KP481\n",
      "No record for (Female, Single, age > 46, fitness scale = 2, income < 45k ) buying KP481\n",
      "P(KP481 / (Female, Single, age > 46, fitness scale = 2, income 45k - 60k)) = 30.0%\n",
      "No record for (Female, Single, age > 46, fitness scale = 2, income 60k - 80k) buying KP481\n",
      "No record for (Female, Single, age > 46, fitness scale = 2, income > 80k) buying KP481\n",
      "P(KP481 / (Female, Single, age > 46, fitness scale = 3, income < 45k )) = 60.0%\n",
      "No record for (Female, Single, age > 46, fitness scale = 3, income 45k - 60k) buying KP481\n",
      "No record for (Female, Single, age > 46, fitness scale = 3, income 60k - 80k) buying KP481\n",
      "No record for (Female, Single, age > 46, fitness scale = 3, income > 80k) buying KP481\n",
      "P(KP481 / (Female, Single, age > 46, fitness scale = 4, income < 45k )) = 60.0%\n",
      "No record for (Female, Single, age > 46, fitness scale = 4, income 45k - 60k) buying KP481\n",
      "No record for (Female, Single, age > 46, fitness scale = 4, income 60k - 80k) buying KP481\n",
      "No record for (Female, Single, age > 46, fitness scale = 4, income > 80k) buying KP481\n",
      "No record for (Female, Single, age > 46, fitness scale = 5, income < 45k ) buying KP481\n",
      "No record for (Female, Single, age > 46, fitness scale = 5, income 45k - 60k) buying KP481\n",
      "No record for (Female, Single, age > 46, fitness scale = 5, income 60k - 80k) buying KP481\n",
      "No record for (Female, Single, age > 46, fitness scale = 5, income > 80k) buying KP481\n",
      "No record for (Female, Single, age 25 - 33, fitness scale = 1, income < 45k ) buying KP481\n",
      "No record for (Female, Single, age 25 - 33, fitness scale = 1, income 45k - 60k) buying KP481\n",
      "P(KP481 / (Female, Single, age 25 - 33, fitness scale = 1, income 60k - 80k)) = 60.0%\n",
      "No record for (Female, Single, age 25 - 33, fitness scale = 1, income > 80k) buying KP481\n",
      "No record for (Female, Single, age 25 - 33, fitness scale = 2, income < 45k ) buying KP481\n",
      "P(KP481 / (Female, Single, age 25 - 33, fitness scale = 2, income 45k - 60k)) = 30.0%\n",
      "No record for (Female, Single, age 25 - 33, fitness scale = 2, income 60k - 80k) buying KP481\n",
      "No record for (Female, Single, age 25 - 33, fitness scale = 2, income > 80k) buying KP481\n",
      "P(KP481 / (Female, Single, age 25 - 33, fitness scale = 3, income < 45k )) = 60.0%\n",
      "P(KP481 / (Female, Single, age 25 - 33, fitness scale = 3, income 45k - 60k)) = 30.0%\n",
      "P(KP481 / (Female, Single, age 25 - 33, fitness scale = 3, income 60k - 80k)) = 60.0%\n",
      "No record for (Female, Single, age 25 - 33, fitness scale = 3, income > 80k) buying KP481\n",
      "No record for (Female, Single, age 25 - 33, fitness scale = 4, income < 45k ) buying KP481\n",
      "P(KP481 / (Female, Single, age 25 - 33, fitness scale = 4, income 45k - 60k)) = 20.0%\n",
      "No record for (Female, Single, age 25 - 33, fitness scale = 4, income 60k - 80k) buying KP481\n",
      "No record for (Female, Single, age 25 - 33, fitness scale = 4, income > 80k) buying KP481\n",
      "No record for (Female, Single, age 25 - 33, fitness scale = 5, income < 45k ) buying KP481\n",
      "No record for (Female, Single, age 25 - 33, fitness scale = 5, income 45k - 60k) buying KP481\n",
      "No record for (Female, Single, age 25 - 33, fitness scale = 5, income 60k - 80k) buying KP481\n",
      "No record for (Female, Single, age 25 - 33, fitness scale = 5, income > 80k) buying KP481\n",
      "No record for (Female, Single, age 34 - 46, fitness scale = 1, income < 45k ) buying KP481\n",
      "No record for (Female, Single, age 34 - 46, fitness scale = 1, income 45k - 60k) buying KP481\n",
      "No record for (Female, Single, age 34 - 46, fitness scale = 1, income 60k - 80k) buying KP481\n",
      "No record for (Female, Single, age 34 - 46, fitness scale = 1, income > 80k) buying KP481\n",
      "No record for (Female, Single, age 34 - 46, fitness scale = 2, income < 45k ) buying KP481\n",
      "P(KP481 / (Female, Single, age 34 - 46, fitness scale = 2, income 45k - 60k)) = 60.0%\n",
      "No record for (Female, Single, age 34 - 46, fitness scale = 2, income 60k - 80k) buying KP481\n",
      "No record for (Female, Single, age 34 - 46, fitness scale = 2, income > 80k) buying KP481\n",
      "No record for (Female, Single, age 34 - 46, fitness scale = 3, income < 45k ) buying KP481\n",
      "P(KP481 / (Female, Single, age 34 - 46, fitness scale = 3, income 45k - 60k)) = 60.0%\n",
      "P(KP481 / (Female, Single, age 34 - 46, fitness scale = 3, income 60k - 80k)) = 60.0%\n",
      "No record for (Female, Single, age 34 - 46, fitness scale = 3, income > 80k) buying KP481\n",
      "No record for (Female, Single, age 34 - 46, fitness scale = 4, income < 45k ) buying KP481\n",
      "P(KP481 / (Female, Single, age 34 - 46, fitness scale = 4, income 45k - 60k)) = 60.0%\n",
      "No record for (Female, Single, age 34 - 46, fitness scale = 4, income 60k - 80k) buying KP481\n",
      "No record for (Female, Single, age 34 - 46, fitness scale = 4, income > 80k) buying KP481\n",
      "No record for (Female, Single, age 34 - 46, fitness scale = 5, income < 45k ) buying KP481\n",
      "No record for (Female, Single, age 34 - 46, fitness scale = 5, income 45k - 60k) buying KP481\n",
      "No record for (Female, Single, age 34 - 46, fitness scale = 5, income 60k - 80k) buying KP481\n",
      "No record for (Female, Single, age 34 - 46, fitness scale = 5, income > 80k) buying KP481\n",
      "No record for (Female, Partnered, age <= 24 , fitness scale = 1, income < 45k ) buying KP481\n",
      "No record for (Female, Partnered, age <= 24 , fitness scale = 1, income 45k - 60k) buying KP481\n",
      "No record for (Female, Partnered, age <= 24 , fitness scale = 1, income 60k - 80k) buying KP481\n",
      "No record for (Female, Partnered, age <= 24 , fitness scale = 1, income > 80k) buying KP481\n",
      "P(KP481 / (Female, Partnered, age <= 24 , fitness scale = 2, income < 45k )) = 20.0%\n",
      "No record for (Female, Partnered, age <= 24 , fitness scale = 2, income 45k - 60k) buying KP481\n",
      "No record for (Female, Partnered, age <= 24 , fitness scale = 2, income 60k - 80k) buying KP481\n",
      "No record for (Female, Partnered, age <= 24 , fitness scale = 2, income > 80k) buying KP481\n",
      "P(KP481 / (Female, Partnered, age <= 24 , fitness scale = 3, income < 45k )) = 12.0%\n",
      "No record for (Female, Partnered, age <= 24 , fitness scale = 3, income 45k - 60k) buying KP481\n",
      "No record for (Female, Partnered, age <= 24 , fitness scale = 3, income 60k - 80k) buying KP481\n",
      "No record for (Female, Partnered, age <= 24 , fitness scale = 3, income > 80k) buying KP481\n",
      "P(KP481 / (Female, Partnered, age <= 24 , fitness scale = 4, income < 45k )) = 60.0%\n",
      "No record for (Female, Partnered, age <= 24 , fitness scale = 4, income 45k - 60k) buying KP481\n",
      "No record for (Female, Partnered, age <= 24 , fitness scale = 4, income 60k - 80k) buying KP481\n",
      "No record for (Female, Partnered, age <= 24 , fitness scale = 4, income > 80k) buying KP481\n",
      "P(KP481 / (Female, Partnered, age <= 24 , fitness scale = 5, income < 45k )) = 60.0%\n",
      "No record for (Female, Partnered, age <= 24 , fitness scale = 5, income 45k - 60k) buying KP481\n",
      "No record for (Female, Partnered, age <= 24 , fitness scale = 5, income 60k - 80k) buying KP481\n",
      "No record for (Female, Partnered, age <= 24 , fitness scale = 5, income > 80k) buying KP481\n",
      "No record for (Female, Partnered, age > 46, fitness scale = 1, income < 45k ) buying KP481\n",
      "No record for (Female, Partnered, age > 46, fitness scale = 1, income 45k - 60k) buying KP481\n",
      "No record for (Female, Partnered, age > 46, fitness scale = 1, income 60k - 80k) buying KP481\n",
      "No record for (Female, Partnered, age > 46, fitness scale = 1, income > 80k) buying KP481\n",
      "P(KP481 / (Female, Partnered, age > 46, fitness scale = 2, income < 45k )) = 60.0%\n",
      "P(KP481 / (Female, Partnered, age > 46, fitness scale = 2, income 45k - 60k)) = 60.0%\n",
      "No record for (Female, Partnered, age > 46, fitness scale = 2, income 60k - 80k) buying KP481\n",
      "No record for (Female, Partnered, age > 46, fitness scale = 2, income > 80k) buying KP481\n",
      "P(KP481 / (Female, Partnered, age > 46, fitness scale = 3, income < 45k )) = 60.0%\n",
      "P(KP481 / (Female, Partnered, age > 46, fitness scale = 3, income 45k - 60k)) = 20.0%\n",
      "P(KP481 / (Female, Partnered, age > 46, fitness scale = 3, income 60k - 80k)) = 30.0%\n",
      "No record for (Female, Partnered, age > 46, fitness scale = 3, income > 80k) buying KP481\n",
      "No record for (Female, Partnered, age > 46, fitness scale = 4, income < 45k ) buying KP481\n",
      "No record for (Female, Partnered, age > 46, fitness scale = 4, income 45k - 60k) buying KP481\n",
      "No record for (Female, Partnered, age > 46, fitness scale = 4, income 60k - 80k) buying KP481\n",
      "No record for (Female, Partnered, age > 46, fitness scale = 4, income > 80k) buying KP481\n",
      "No record for (Female, Partnered, age > 46, fitness scale = 5, income < 45k ) buying KP481\n",
      "No record for (Female, Partnered, age > 46, fitness scale = 5, income 45k - 60k) buying KP481\n",
      "P(KP481 / (Female, Partnered, age > 46, fitness scale = 5, income 60k - 80k)) = 60.0%\n",
      "No record for (Female, Partnered, age > 46, fitness scale = 5, income > 80k) buying KP481\n",
      "No record for (Female, Partnered, age 25 - 33, fitness scale = 1, income < 45k ) buying KP481\n",
      "No record for (Female, Partnered, age 25 - 33, fitness scale = 1, income 45k - 60k) buying KP481\n",
      "No record for (Female, Partnered, age 25 - 33, fitness scale = 1, income 60k - 80k) buying KP481\n",
      "No record for (Female, Partnered, age 25 - 33, fitness scale = 1, income > 80k) buying KP481\n",
      "No record for (Female, Partnered, age 25 - 33, fitness scale = 2, income < 45k ) buying KP481\n",
      "P(KP481 / (Female, Partnered, age 25 - 33, fitness scale = 2, income 45k - 60k)) = 30.0%\n",
      "No record for (Female, Partnered, age 25 - 33, fitness scale = 2, income 60k - 80k) buying KP481\n",
      "No record for (Female, Partnered, age 25 - 33, fitness scale = 2, income > 80k) buying KP481\n",
      "No record for (Female, Partnered, age 25 - 33, fitness scale = 3, income < 45k ) buying KP481\n",
      "P(KP481 / (Female, Partnered, age 25 - 33, fitness scale = 3, income 45k - 60k)) = 4.62%\n",
      "No record for (Female, Partnered, age 25 - 33, fitness scale = 3, income 60k - 80k) buying KP481\n",
      "No record for (Female, Partnered, age 25 - 33, fitness scale = 3, income > 80k) buying KP481\n",
      "P(KP481 / (Female, Partnered, age 25 - 33, fitness scale = 4, income < 45k )) = 60.0%\n",
      "No record for (Female, Partnered, age 25 - 33, fitness scale = 4, income 45k - 60k) buying KP481\n",
      "No record for (Female, Partnered, age 25 - 33, fitness scale = 4, income 60k - 80k) buying KP481\n",
      "No record for (Female, Partnered, age 25 - 33, fitness scale = 4, income > 80k) buying KP481\n",
      "No record for (Female, Partnered, age 25 - 33, fitness scale = 5, income < 45k ) buying KP481\n",
      "No record for (Female, Partnered, age 25 - 33, fitness scale = 5, income 45k - 60k) buying KP481\n",
      "No record for (Female, Partnered, age 25 - 33, fitness scale = 5, income 60k - 80k) buying KP481\n",
      "P(KP481 / (Female, Partnered, age 25 - 33, fitness scale = 5, income > 80k)) = 20.0%\n"
     ]
    },
    {
     "name": "stdout",
     "output_type": "stream",
     "text": [
      "No record for (Female, Partnered, age 34 - 46, fitness scale = 1, income < 45k ) buying KP481\n",
      "No record for (Female, Partnered, age 34 - 46, fitness scale = 1, income 45k - 60k) buying KP481\n",
      "No record for (Female, Partnered, age 34 - 46, fitness scale = 1, income 60k - 80k) buying KP481\n",
      "No record for (Female, Partnered, age 34 - 46, fitness scale = 1, income > 80k) buying KP481\n",
      "No record for (Female, Partnered, age 34 - 46, fitness scale = 2, income < 45k ) buying KP481\n",
      "P(KP481 / (Female, Partnered, age 34 - 46, fitness scale = 2, income 45k - 60k)) = 60.0%\n",
      "P(KP481 / (Female, Partnered, age 34 - 46, fitness scale = 2, income 60k - 80k)) = 60.0%\n",
      "No record for (Female, Partnered, age 34 - 46, fitness scale = 2, income > 80k) buying KP481\n",
      "P(KP481 / (Female, Partnered, age 34 - 46, fitness scale = 3, income < 45k )) = 60.0%\n",
      "P(KP481 / (Female, Partnered, age 34 - 46, fitness scale = 3, income 45k - 60k)) = 30.0%\n",
      "P(KP481 / (Female, Partnered, age 34 - 46, fitness scale = 3, income 60k - 80k)) = 20.0%\n",
      "No record for (Female, Partnered, age 34 - 46, fitness scale = 3, income > 80k) buying KP481\n",
      "No record for (Female, Partnered, age 34 - 46, fitness scale = 4, income < 45k ) buying KP481\n",
      "No record for (Female, Partnered, age 34 - 46, fitness scale = 4, income 45k - 60k) buying KP481\n",
      "No record for (Female, Partnered, age 34 - 46, fitness scale = 4, income 60k - 80k) buying KP481\n",
      "No record for (Female, Partnered, age 34 - 46, fitness scale = 4, income > 80k) buying KP481\n",
      "No record for (Female, Partnered, age 34 - 46, fitness scale = 5, income < 45k ) buying KP481\n",
      "No record for (Female, Partnered, age 34 - 46, fitness scale = 5, income 45k - 60k) buying KP481\n",
      "No record for (Female, Partnered, age 34 - 46, fitness scale = 5, income 60k - 80k) buying KP481\n",
      "No record for (Female, Partnered, age 34 - 46, fitness scale = 5, income > 80k) buying KP481\n",
      "No record for (Male, Single, age <= 24 , fitness scale = 1, income < 45k ) buying KP781\n",
      "No record for (Male, Single, age <= 24 , fitness scale = 1, income 45k - 60k) buying KP781\n",
      "No record for (Male, Single, age <= 24 , fitness scale = 1, income 60k - 80k) buying KP781\n",
      "No record for (Male, Single, age <= 24 , fitness scale = 1, income > 80k) buying KP781\n",
      "No record for (Male, Single, age <= 24 , fitness scale = 2, income < 45k ) buying KP781\n",
      "No record for (Male, Single, age <= 24 , fitness scale = 2, income 45k - 60k) buying KP781\n",
      "No record for (Male, Single, age <= 24 , fitness scale = 2, income 60k - 80k) buying KP781\n",
      "No record for (Male, Single, age <= 24 , fitness scale = 2, income > 80k) buying KP781\n",
      "P(KP781 / (Male, Single, age <= 24 , fitness scale = 3, income < 45k )) = 4.44%\n",
      "P(KP781 / (Male, Single, age <= 24 , fitness scale = 3, income 45k - 60k)) = 20.0%\n",
      "No record for (Male, Single, age <= 24 , fitness scale = 3, income 60k - 80k) buying KP781\n",
      "No record for (Male, Single, age <= 24 , fitness scale = 3, income > 80k) buying KP781\n",
      "P(KP781 / (Male, Single, age <= 24 , fitness scale = 4, income < 45k )) = 20.0%\n",
      "P(KP781 / (Male, Single, age <= 24 , fitness scale = 4, income 45k - 60k)) = 40.0%\n",
      "No record for (Male, Single, age <= 24 , fitness scale = 4, income 60k - 80k) buying KP781\n",
      "No record for (Male, Single, age <= 24 , fitness scale = 4, income > 80k) buying KP781\n",
      "No record for (Male, Single, age <= 24 , fitness scale = 5, income < 45k ) buying KP781\n",
      "P(KP781 / (Male, Single, age <= 24 , fitness scale = 5, income 45k - 60k)) = 8.0%\n",
      "P(KP781 / (Male, Single, age <= 24 , fitness scale = 5, income 60k - 80k)) = 40.0%\n",
      "No record for (Male, Single, age <= 24 , fitness scale = 5, income > 80k) buying KP781\n",
      "No record for (Male, Single, age > 46, fitness scale = 1, income < 45k ) buying KP781\n",
      "No record for (Male, Single, age > 46, fitness scale = 1, income 45k - 60k) buying KP781\n",
      "No record for (Male, Single, age > 46, fitness scale = 1, income 60k - 80k) buying KP781\n",
      "No record for (Male, Single, age > 46, fitness scale = 1, income > 80k) buying KP781\n",
      "No record for (Male, Single, age > 46, fitness scale = 2, income < 45k ) buying KP781\n",
      "No record for (Male, Single, age > 46, fitness scale = 2, income 45k - 60k) buying KP781\n",
      "No record for (Male, Single, age > 46, fitness scale = 2, income 60k - 80k) buying KP781\n",
      "No record for (Male, Single, age > 46, fitness scale = 2, income > 80k) buying KP781\n",
      "P(KP781 / (Male, Single, age > 46, fitness scale = 3, income < 45k )) = 40.0%\n",
      "P(KP781 / (Male, Single, age > 46, fitness scale = 3, income 45k - 60k)) = 20.0%\n",
      "P(KP781 / (Male, Single, age > 46, fitness scale = 3, income 60k - 80k)) = 40.0%\n",
      "No record for (Male, Single, age > 46, fitness scale = 3, income > 80k) buying KP781\n",
      "P(KP781 / (Male, Single, age > 46, fitness scale = 4, income < 45k )) = 40.0%\n",
      "No record for (Male, Single, age > 46, fitness scale = 4, income 45k - 60k) buying KP781\n",
      "No record for (Male, Single, age > 46, fitness scale = 4, income 60k - 80k) buying KP781\n",
      "No record for (Male, Single, age > 46, fitness scale = 4, income > 80k) buying KP781\n",
      "No record for (Male, Single, age > 46, fitness scale = 5, income < 45k ) buying KP781\n",
      "P(KP781 / (Male, Single, age > 46, fitness scale = 5, income 45k - 60k)) = 40.0%\n",
      "No record for (Male, Single, age > 46, fitness scale = 5, income 60k - 80k) buying KP781\n",
      "P(KP781 / (Male, Single, age > 46, fitness scale = 5, income > 80k)) = 40.0%\n",
      "No record for (Male, Single, age 25 - 33, fitness scale = 1, income < 45k ) buying KP781\n",
      "No record for (Male, Single, age 25 - 33, fitness scale = 1, income 45k - 60k) buying KP781\n",
      "No record for (Male, Single, age 25 - 33, fitness scale = 1, income 60k - 80k) buying KP781\n",
      "No record for (Male, Single, age 25 - 33, fitness scale = 1, income > 80k) buying KP781\n",
      "No record for (Male, Single, age 25 - 33, fitness scale = 2, income < 45k ) buying KP781\n",
      "P(KP781 / (Male, Single, age 25 - 33, fitness scale = 2, income 45k - 60k)) = 40.0%\n",
      "No record for (Male, Single, age 25 - 33, fitness scale = 2, income 60k - 80k) buying KP781\n",
      "No record for (Male, Single, age 25 - 33, fitness scale = 2, income > 80k) buying KP781\n",
      "No record for (Male, Single, age 25 - 33, fitness scale = 3, income < 45k ) buying KP781\n",
      "P(KP781 / (Male, Single, age 25 - 33, fitness scale = 3, income 45k - 60k)) = 6.67%\n",
      "P(KP781 / (Male, Single, age 25 - 33, fitness scale = 3, income 60k - 80k)) = 40.0%\n",
      "P(KP781 / (Male, Single, age 25 - 33, fitness scale = 3, income > 80k)) = 40.0%\n",
      "No record for (Male, Single, age 25 - 33, fitness scale = 4, income < 45k ) buying KP781\n",
      "No record for (Male, Single, age 25 - 33, fitness scale = 4, income 45k - 60k) buying KP781\n",
      "No record for (Male, Single, age 25 - 33, fitness scale = 4, income 60k - 80k) buying KP781\n",
      "No record for (Male, Single, age 25 - 33, fitness scale = 4, income > 80k) buying KP781\n",
      "No record for (Male, Single, age 25 - 33, fitness scale = 5, income < 45k ) buying KP781\n",
      "P(KP781 / (Male, Single, age 25 - 33, fitness scale = 5, income 45k - 60k)) = 40.0%\n",
      "No record for (Male, Single, age 25 - 33, fitness scale = 5, income 60k - 80k) buying KP781\n",
      "P(KP781 / (Male, Single, age 25 - 33, fitness scale = 5, income > 80k)) = 40.0%\n",
      "No record for (Male, Single, age 34 - 46, fitness scale = 1, income < 45k ) buying KP781\n",
      "No record for (Male, Single, age 34 - 46, fitness scale = 1, income 45k - 60k) buying KP781\n",
      "No record for (Male, Single, age 34 - 46, fitness scale = 1, income 60k - 80k) buying KP781\n",
      "No record for (Male, Single, age 34 - 46, fitness scale = 1, income > 80k) buying KP781\n",
      "No record for (Male, Single, age 34 - 46, fitness scale = 2, income < 45k ) buying KP781\n",
      "No record for (Male, Single, age 34 - 46, fitness scale = 2, income 45k - 60k) buying KP781\n",
      "No record for (Male, Single, age 34 - 46, fitness scale = 2, income 60k - 80k) buying KP781\n",
      "No record for (Male, Single, age 34 - 46, fitness scale = 2, income > 80k) buying KP781\n",
      "P(KP781 / (Male, Single, age 34 - 46, fitness scale = 3, income < 45k )) = 40.0%\n",
      "P(KP781 / (Male, Single, age 34 - 46, fitness scale = 3, income 45k - 60k)) = 40.0%\n",
      "No record for (Male, Single, age 34 - 46, fitness scale = 3, income 60k - 80k) buying KP781\n",
      "No record for (Male, Single, age 34 - 46, fitness scale = 3, income > 80k) buying KP781\n",
      "No record for (Male, Single, age 34 - 46, fitness scale = 4, income < 45k ) buying KP781\n",
      "No record for (Male, Single, age 34 - 46, fitness scale = 4, income 45k - 60k) buying KP781\n",
      "No record for (Male, Single, age 34 - 46, fitness scale = 4, income 60k - 80k) buying KP781\n",
      "P(KP781 / (Male, Single, age 34 - 46, fitness scale = 4, income > 80k)) = 40.0%\n",
      "No record for (Male, Single, age 34 - 46, fitness scale = 5, income < 45k ) buying KP781\n",
      "No record for (Male, Single, age 34 - 46, fitness scale = 5, income 45k - 60k) buying KP781\n",
      "No record for (Male, Single, age 34 - 46, fitness scale = 5, income 60k - 80k) buying KP781\n",
      "P(KP781 / (Male, Single, age 34 - 46, fitness scale = 5, income > 80k)) = 20.0%\n",
      "P(KP781 / (Male, Partnered, age <= 24 , fitness scale = 1, income < 45k )) = 40.0%\n",
      "No record for (Male, Partnered, age <= 24 , fitness scale = 1, income 45k - 60k) buying KP781\n",
      "No record for (Male, Partnered, age <= 24 , fitness scale = 1, income 60k - 80k) buying KP781\n",
      "No record for (Male, Partnered, age <= 24 , fitness scale = 1, income > 80k) buying KP781\n",
      "P(KP781 / (Male, Partnered, age <= 24 , fitness scale = 2, income < 45k )) = 10.0%\n",
      "No record for (Male, Partnered, age <= 24 , fitness scale = 2, income 45k - 60k) buying KP781\n",
      "No record for (Male, Partnered, age <= 24 , fitness scale = 2, income 60k - 80k) buying KP781\n",
      "No record for (Male, Partnered, age <= 24 , fitness scale = 2, income > 80k) buying KP781\n",
      "P(KP781 / (Male, Partnered, age <= 24 , fitness scale = 3, income < 45k )) = 10.0%\n",
      "P(KP781 / (Male, Partnered, age <= 24 , fitness scale = 3, income 45k - 60k)) = 20.0%\n",
      "No record for (Male, Partnered, age <= 24 , fitness scale = 3, income 60k - 80k) buying KP781\n",
      "No record for (Male, Partnered, age <= 24 , fitness scale = 3, income > 80k) buying KP781\n",
      "No record for (Male, Partnered, age <= 24 , fitness scale = 4, income < 45k ) buying KP781\n",
      "No record for (Male, Partnered, age <= 24 , fitness scale = 4, income 45k - 60k) buying KP781\n",
      "No record for (Male, Partnered, age <= 24 , fitness scale = 4, income 60k - 80k) buying KP781\n",
      "No record for (Male, Partnered, age <= 24 , fitness scale = 4, income > 80k) buying KP781\n",
      "No record for (Male, Partnered, age <= 24 , fitness scale = 5, income < 45k ) buying KP781\n",
      "P(KP781 / (Male, Partnered, age <= 24 , fitness scale = 5, income 45k - 60k)) = 40.0%\n",
      "No record for (Male, Partnered, age <= 24 , fitness scale = 5, income 60k - 80k) buying KP781\n",
      "No record for (Male, Partnered, age <= 24 , fitness scale = 5, income > 80k) buying KP781\n",
      "No record for (Male, Partnered, age > 46, fitness scale = 1, income < 45k ) buying KP781\n",
      "No record for (Male, Partnered, age > 46, fitness scale = 1, income 45k - 60k) buying KP781\n",
      "No record for (Male, Partnered, age > 46, fitness scale = 1, income 60k - 80k) buying KP781\n",
      "No record for (Male, Partnered, age > 46, fitness scale = 1, income > 80k) buying KP781\n",
      "No record for (Male, Partnered, age > 46, fitness scale = 2, income < 45k ) buying KP781\n",
      "P(KP781 / (Male, Partnered, age > 46, fitness scale = 2, income 45k - 60k)) = 40.0%\n",
      "No record for (Male, Partnered, age > 46, fitness scale = 2, income 60k - 80k) buying KP781\n",
      "No record for (Male, Partnered, age > 46, fitness scale = 2, income > 80k) buying KP781\n",
      "No record for (Male, Partnered, age > 46, fitness scale = 3, income < 45k ) buying KP781\n",
      "P(KP781 / (Male, Partnered, age > 46, fitness scale = 3, income 45k - 60k)) = 8.0%\n",
      "P(KP781 / (Male, Partnered, age > 46, fitness scale = 3, income 60k - 80k)) = 40.0%\n",
      "No record for (Male, Partnered, age > 46, fitness scale = 3, income > 80k) buying KP781\n",
      "P(KP781 / (Male, Partnered, age > 46, fitness scale = 4, income < 45k )) = 40.0%\n",
      "P(KP781 / (Male, Partnered, age > 46, fitness scale = 4, income 45k - 60k)) = 40.0%\n",
      "P(KP781 / (Male, Partnered, age > 46, fitness scale = 4, income 60k - 80k)) = 20.0%\n",
      "No record for (Male, Partnered, age > 46, fitness scale = 4, income > 80k) buying KP781\n",
      "No record for (Male, Partnered, age > 46, fitness scale = 5, income < 45k ) buying KP781\n",
      "P(KP781 / (Male, Partnered, age > 46, fitness scale = 5, income 45k - 60k)) = 40.0%\n",
      "P(KP781 / (Male, Partnered, age > 46, fitness scale = 5, income 60k - 80k)) = 20.0%\n",
      "P(KP781 / (Male, Partnered, age > 46, fitness scale = 5, income > 80k)) = 20.0%\n",
      "No record for (Male, Partnered, age 25 - 33, fitness scale = 1, income < 45k ) buying KP781\n",
      "No record for (Male, Partnered, age 25 - 33, fitness scale = 1, income 45k - 60k) buying KP781\n",
      "No record for (Male, Partnered, age 25 - 33, fitness scale = 1, income 60k - 80k) buying KP781\n",
      "No record for (Male, Partnered, age 25 - 33, fitness scale = 1, income > 80k) buying KP781\n",
      "No record for (Male, Partnered, age 25 - 33, fitness scale = 2, income < 45k ) buying KP781\n",
      "P(KP781 / (Male, Partnered, age 25 - 33, fitness scale = 2, income 45k - 60k)) = 20.0%\n",
      "No record for (Male, Partnered, age 25 - 33, fitness scale = 2, income 60k - 80k) buying KP781\n",
      "No record for (Male, Partnered, age 25 - 33, fitness scale = 2, income > 80k) buying KP781\n",
      "No record for (Male, Partnered, age 25 - 33, fitness scale = 3, income < 45k ) buying KP781\n",
      "P(KP781 / (Male, Partnered, age 25 - 33, fitness scale = 3, income 45k - 60k)) = 8.0%\n",
      "P(KP781 / (Male, Partnered, age 25 - 33, fitness scale = 3, income 60k - 80k)) = 40.0%\n",
      "No record for (Male, Partnered, age 25 - 33, fitness scale = 3, income > 80k) buying KP781\n",
      "P(KP781 / (Male, Partnered, age 25 - 33, fitness scale = 4, income < 45k )) = 40.0%\n",
      "P(KP781 / (Male, Partnered, age 25 - 33, fitness scale = 4, income 45k - 60k)) = 20.0%\n",
      "P(KP781 / (Male, Partnered, age 25 - 33, fitness scale = 4, income 60k - 80k)) = 40.0%\n",
      "P(KP781 / (Male, Partnered, age 25 - 33, fitness scale = 4, income > 80k)) = 20.0%\n",
      "No record for (Male, Partnered, age 25 - 33, fitness scale = 5, income < 45k ) buying KP781\n",
      "No record for (Male, Partnered, age 25 - 33, fitness scale = 5, income 45k - 60k) buying KP781\n",
      "P(KP781 / (Male, Partnered, age 25 - 33, fitness scale = 5, income 60k - 80k)) = 40.0%\n",
      "P(KP781 / (Male, Partnered, age 25 - 33, fitness scale = 5, income > 80k)) = 10.0%\n",
      "No record for (Male, Partnered, age 34 - 46, fitness scale = 1, income < 45k ) buying KP781\n",
      "No record for (Male, Partnered, age 34 - 46, fitness scale = 1, income 45k - 60k) buying KP781\n",
      "No record for (Male, Partnered, age 34 - 46, fitness scale = 1, income 60k - 80k) buying KP781\n",
      "No record for (Male, Partnered, age 34 - 46, fitness scale = 1, income > 80k) buying KP781\n",
      "No record for (Male, Partnered, age 34 - 46, fitness scale = 2, income < 45k ) buying KP781\n",
      "P(KP781 / (Male, Partnered, age 34 - 46, fitness scale = 2, income 45k - 60k)) = 20.0%\n"
     ]
    },
    {
     "name": "stdout",
     "output_type": "stream",
     "text": [
      "No record for (Male, Partnered, age 34 - 46, fitness scale = 2, income 60k - 80k) buying KP781\n",
      "No record for (Male, Partnered, age 34 - 46, fitness scale = 2, income > 80k) buying KP781\n",
      "No record for (Male, Partnered, age 34 - 46, fitness scale = 3, income < 45k ) buying KP781\n",
      "P(KP781 / (Male, Partnered, age 34 - 46, fitness scale = 3, income 45k - 60k)) = 5.71%\n",
      "P(KP781 / (Male, Partnered, age 34 - 46, fitness scale = 3, income 60k - 80k)) = 20.0%\n",
      "No record for (Male, Partnered, age 34 - 46, fitness scale = 3, income > 80k) buying KP781\n",
      "No record for (Male, Partnered, age 34 - 46, fitness scale = 4, income < 45k ) buying KP781\n",
      "P(KP781 / (Male, Partnered, age 34 - 46, fitness scale = 4, income 45k - 60k)) = 40.0%\n",
      "No record for (Male, Partnered, age 34 - 46, fitness scale = 4, income 60k - 80k) buying KP781\n",
      "No record for (Male, Partnered, age 34 - 46, fitness scale = 4, income > 80k) buying KP781\n",
      "No record for (Male, Partnered, age 34 - 46, fitness scale = 5, income < 45k ) buying KP781\n",
      "No record for (Male, Partnered, age 34 - 46, fitness scale = 5, income 45k - 60k) buying KP781\n",
      "No record for (Male, Partnered, age 34 - 46, fitness scale = 5, income 60k - 80k) buying KP781\n",
      "P(KP781 / (Male, Partnered, age 34 - 46, fitness scale = 5, income > 80k)) = 20.0%\n",
      "No record for (Female, Single, age <= 24 , fitness scale = 1, income < 45k ) buying KP781\n",
      "No record for (Female, Single, age <= 24 , fitness scale = 1, income 45k - 60k) buying KP781\n",
      "No record for (Female, Single, age <= 24 , fitness scale = 1, income 60k - 80k) buying KP781\n",
      "No record for (Female, Single, age <= 24 , fitness scale = 1, income > 80k) buying KP781\n",
      "P(KP781 / (Female, Single, age <= 24 , fitness scale = 2, income < 45k )) = 20.0%\n",
      "No record for (Female, Single, age <= 24 , fitness scale = 2, income 45k - 60k) buying KP781\n",
      "No record for (Female, Single, age <= 24 , fitness scale = 2, income 60k - 80k) buying KP781\n",
      "No record for (Female, Single, age <= 24 , fitness scale = 2, income > 80k) buying KP781\n",
      "P(KP781 / (Female, Single, age <= 24 , fitness scale = 3, income < 45k )) = 8.0%\n",
      "P(KP781 / (Female, Single, age <= 24 , fitness scale = 3, income 45k - 60k)) = 13.33%\n",
      "No record for (Female, Single, age <= 24 , fitness scale = 3, income 60k - 80k) buying KP781\n",
      "No record for (Female, Single, age <= 24 , fitness scale = 3, income > 80k) buying KP781\n",
      "No record for (Female, Single, age <= 24 , fitness scale = 4, income < 45k ) buying KP781\n",
      "P(KP781 / (Female, Single, age <= 24 , fitness scale = 4, income 45k - 60k)) = 40.0%\n",
      "No record for (Female, Single, age <= 24 , fitness scale = 4, income 60k - 80k) buying KP781\n",
      "No record for (Female, Single, age <= 24 , fitness scale = 4, income > 80k) buying KP781\n",
      "No record for (Female, Single, age <= 24 , fitness scale = 5, income < 45k ) buying KP781\n",
      "P(KP781 / (Female, Single, age <= 24 , fitness scale = 5, income 45k - 60k)) = 40.0%\n",
      "No record for (Female, Single, age <= 24 , fitness scale = 5, income 60k - 80k) buying KP781\n",
      "No record for (Female, Single, age <= 24 , fitness scale = 5, income > 80k) buying KP781\n",
      "No record for (Female, Single, age > 46, fitness scale = 1, income < 45k ) buying KP781\n",
      "No record for (Female, Single, age > 46, fitness scale = 1, income 45k - 60k) buying KP781\n",
      "No record for (Female, Single, age > 46, fitness scale = 1, income 60k - 80k) buying KP781\n",
      "No record for (Female, Single, age > 46, fitness scale = 1, income > 80k) buying KP781\n",
      "No record for (Female, Single, age > 46, fitness scale = 2, income < 45k ) buying KP781\n",
      "P(KP781 / (Female, Single, age > 46, fitness scale = 2, income 45k - 60k)) = 20.0%\n",
      "No record for (Female, Single, age > 46, fitness scale = 2, income 60k - 80k) buying KP781\n",
      "No record for (Female, Single, age > 46, fitness scale = 2, income > 80k) buying KP781\n",
      "P(KP781 / (Female, Single, age > 46, fitness scale = 3, income < 45k )) = 40.0%\n",
      "No record for (Female, Single, age > 46, fitness scale = 3, income 45k - 60k) buying KP781\n",
      "No record for (Female, Single, age > 46, fitness scale = 3, income 60k - 80k) buying KP781\n",
      "No record for (Female, Single, age > 46, fitness scale = 3, income > 80k) buying KP781\n",
      "P(KP781 / (Female, Single, age > 46, fitness scale = 4, income < 45k )) = 40.0%\n",
      "No record for (Female, Single, age > 46, fitness scale = 4, income 45k - 60k) buying KP781\n",
      "No record for (Female, Single, age > 46, fitness scale = 4, income 60k - 80k) buying KP781\n",
      "No record for (Female, Single, age > 46, fitness scale = 4, income > 80k) buying KP781\n",
      "No record for (Female, Single, age > 46, fitness scale = 5, income < 45k ) buying KP781\n",
      "No record for (Female, Single, age > 46, fitness scale = 5, income 45k - 60k) buying KP781\n",
      "No record for (Female, Single, age > 46, fitness scale = 5, income 60k - 80k) buying KP781\n",
      "No record for (Female, Single, age > 46, fitness scale = 5, income > 80k) buying KP781\n",
      "No record for (Female, Single, age 25 - 33, fitness scale = 1, income < 45k ) buying KP781\n",
      "No record for (Female, Single, age 25 - 33, fitness scale = 1, income 45k - 60k) buying KP781\n",
      "P(KP781 / (Female, Single, age 25 - 33, fitness scale = 1, income 60k - 80k)) = 40.0%\n",
      "No record for (Female, Single, age 25 - 33, fitness scale = 1, income > 80k) buying KP781\n",
      "No record for (Female, Single, age 25 - 33, fitness scale = 2, income < 45k ) buying KP781\n",
      "P(KP781 / (Female, Single, age 25 - 33, fitness scale = 2, income 45k - 60k)) = 20.0%\n",
      "No record for (Female, Single, age 25 - 33, fitness scale = 2, income 60k - 80k) buying KP781\n",
      "No record for (Female, Single, age 25 - 33, fitness scale = 2, income > 80k) buying KP781\n",
      "P(KP781 / (Female, Single, age 25 - 33, fitness scale = 3, income < 45k )) = 40.0%\n",
      "P(KP781 / (Female, Single, age 25 - 33, fitness scale = 3, income 45k - 60k)) = 20.0%\n",
      "P(KP781 / (Female, Single, age 25 - 33, fitness scale = 3, income 60k - 80k)) = 40.0%\n",
      "No record for (Female, Single, age 25 - 33, fitness scale = 3, income > 80k) buying KP781\n",
      "No record for (Female, Single, age 25 - 33, fitness scale = 4, income < 45k ) buying KP781\n",
      "P(KP781 / (Female, Single, age 25 - 33, fitness scale = 4, income 45k - 60k)) = 13.33%\n",
      "No record for (Female, Single, age 25 - 33, fitness scale = 4, income 60k - 80k) buying KP781\n",
      "No record for (Female, Single, age 25 - 33, fitness scale = 4, income > 80k) buying KP781\n",
      "No record for (Female, Single, age 25 - 33, fitness scale = 5, income < 45k ) buying KP781\n",
      "No record for (Female, Single, age 25 - 33, fitness scale = 5, income 45k - 60k) buying KP781\n",
      "No record for (Female, Single, age 25 - 33, fitness scale = 5, income 60k - 80k) buying KP781\n",
      "No record for (Female, Single, age 25 - 33, fitness scale = 5, income > 80k) buying KP781\n",
      "No record for (Female, Single, age 34 - 46, fitness scale = 1, income < 45k ) buying KP781\n",
      "No record for (Female, Single, age 34 - 46, fitness scale = 1, income 45k - 60k) buying KP781\n",
      "No record for (Female, Single, age 34 - 46, fitness scale = 1, income 60k - 80k) buying KP781\n",
      "No record for (Female, Single, age 34 - 46, fitness scale = 1, income > 80k) buying KP781\n",
      "No record for (Female, Single, age 34 - 46, fitness scale = 2, income < 45k ) buying KP781\n",
      "P(KP781 / (Female, Single, age 34 - 46, fitness scale = 2, income 45k - 60k)) = 40.0%\n",
      "No record for (Female, Single, age 34 - 46, fitness scale = 2, income 60k - 80k) buying KP781\n",
      "No record for (Female, Single, age 34 - 46, fitness scale = 2, income > 80k) buying KP781\n",
      "No record for (Female, Single, age 34 - 46, fitness scale = 3, income < 45k ) buying KP781\n",
      "P(KP781 / (Female, Single, age 34 - 46, fitness scale = 3, income 45k - 60k)) = 40.0%\n",
      "P(KP781 / (Female, Single, age 34 - 46, fitness scale = 3, income 60k - 80k)) = 40.0%\n",
      "No record for (Female, Single, age 34 - 46, fitness scale = 3, income > 80k) buying KP781\n",
      "No record for (Female, Single, age 34 - 46, fitness scale = 4, income < 45k ) buying KP781\n",
      "P(KP781 / (Female, Single, age 34 - 46, fitness scale = 4, income 45k - 60k)) = 40.0%\n",
      "No record for (Female, Single, age 34 - 46, fitness scale = 4, income 60k - 80k) buying KP781\n",
      "No record for (Female, Single, age 34 - 46, fitness scale = 4, income > 80k) buying KP781\n",
      "No record for (Female, Single, age 34 - 46, fitness scale = 5, income < 45k ) buying KP781\n",
      "No record for (Female, Single, age 34 - 46, fitness scale = 5, income 45k - 60k) buying KP781\n",
      "No record for (Female, Single, age 34 - 46, fitness scale = 5, income 60k - 80k) buying KP781\n",
      "No record for (Female, Single, age 34 - 46, fitness scale = 5, income > 80k) buying KP781\n",
      "No record for (Female, Partnered, age <= 24 , fitness scale = 1, income < 45k ) buying KP781\n",
      "No record for (Female, Partnered, age <= 24 , fitness scale = 1, income 45k - 60k) buying KP781\n",
      "No record for (Female, Partnered, age <= 24 , fitness scale = 1, income 60k - 80k) buying KP781\n",
      "No record for (Female, Partnered, age <= 24 , fitness scale = 1, income > 80k) buying KP781\n",
      "P(KP781 / (Female, Partnered, age <= 24 , fitness scale = 2, income < 45k )) = 13.33%\n",
      "No record for (Female, Partnered, age <= 24 , fitness scale = 2, income 45k - 60k) buying KP781\n",
      "No record for (Female, Partnered, age <= 24 , fitness scale = 2, income 60k - 80k) buying KP781\n",
      "No record for (Female, Partnered, age <= 24 , fitness scale = 2, income > 80k) buying KP781\n",
      "P(KP781 / (Female, Partnered, age <= 24 , fitness scale = 3, income < 45k )) = 8.0%\n",
      "No record for (Female, Partnered, age <= 24 , fitness scale = 3, income 45k - 60k) buying KP781\n",
      "No record for (Female, Partnered, age <= 24 , fitness scale = 3, income 60k - 80k) buying KP781\n",
      "No record for (Female, Partnered, age <= 24 , fitness scale = 3, income > 80k) buying KP781\n",
      "P(KP781 / (Female, Partnered, age <= 24 , fitness scale = 4, income < 45k )) = 40.0%\n",
      "No record for (Female, Partnered, age <= 24 , fitness scale = 4, income 45k - 60k) buying KP781\n",
      "No record for (Female, Partnered, age <= 24 , fitness scale = 4, income 60k - 80k) buying KP781\n",
      "No record for (Female, Partnered, age <= 24 , fitness scale = 4, income > 80k) buying KP781\n",
      "P(KP781 / (Female, Partnered, age <= 24 , fitness scale = 5, income < 45k )) = 40.0%\n",
      "No record for (Female, Partnered, age <= 24 , fitness scale = 5, income 45k - 60k) buying KP781\n",
      "No record for (Female, Partnered, age <= 24 , fitness scale = 5, income 60k - 80k) buying KP781\n",
      "No record for (Female, Partnered, age <= 24 , fitness scale = 5, income > 80k) buying KP781\n",
      "No record for (Female, Partnered, age > 46, fitness scale = 1, income < 45k ) buying KP781\n",
      "No record for (Female, Partnered, age > 46, fitness scale = 1, income 45k - 60k) buying KP781\n",
      "No record for (Female, Partnered, age > 46, fitness scale = 1, income 60k - 80k) buying KP781\n",
      "No record for (Female, Partnered, age > 46, fitness scale = 1, income > 80k) buying KP781\n",
      "P(KP781 / (Female, Partnered, age > 46, fitness scale = 2, income < 45k )) = 40.0%\n",
      "P(KP781 / (Female, Partnered, age > 46, fitness scale = 2, income 45k - 60k)) = 40.0%\n",
      "No record for (Female, Partnered, age > 46, fitness scale = 2, income 60k - 80k) buying KP781\n",
      "No record for (Female, Partnered, age > 46, fitness scale = 2, income > 80k) buying KP781\n",
      "P(KP781 / (Female, Partnered, age > 46, fitness scale = 3, income < 45k )) = 40.0%\n",
      "P(KP781 / (Female, Partnered, age > 46, fitness scale = 3, income 45k - 60k)) = 13.33%\n",
      "P(KP781 / (Female, Partnered, age > 46, fitness scale = 3, income 60k - 80k)) = 20.0%\n",
      "No record for (Female, Partnered, age > 46, fitness scale = 3, income > 80k) buying KP781\n",
      "No record for (Female, Partnered, age > 46, fitness scale = 4, income < 45k ) buying KP781\n",
      "No record for (Female, Partnered, age > 46, fitness scale = 4, income 45k - 60k) buying KP781\n",
      "No record for (Female, Partnered, age > 46, fitness scale = 4, income 60k - 80k) buying KP781\n",
      "No record for (Female, Partnered, age > 46, fitness scale = 4, income > 80k) buying KP781\n",
      "No record for (Female, Partnered, age > 46, fitness scale = 5, income < 45k ) buying KP781\n",
      "No record for (Female, Partnered, age > 46, fitness scale = 5, income 45k - 60k) buying KP781\n",
      "P(KP781 / (Female, Partnered, age > 46, fitness scale = 5, income 60k - 80k)) = 40.0%\n",
      "No record for (Female, Partnered, age > 46, fitness scale = 5, income > 80k) buying KP781\n",
      "No record for (Female, Partnered, age 25 - 33, fitness scale = 1, income < 45k ) buying KP781\n",
      "No record for (Female, Partnered, age 25 - 33, fitness scale = 1, income 45k - 60k) buying KP781\n",
      "No record for (Female, Partnered, age 25 - 33, fitness scale = 1, income 60k - 80k) buying KP781\n",
      "No record for (Female, Partnered, age 25 - 33, fitness scale = 1, income > 80k) buying KP781\n",
      "No record for (Female, Partnered, age 25 - 33, fitness scale = 2, income < 45k ) buying KP781\n",
      "P(KP781 / (Female, Partnered, age 25 - 33, fitness scale = 2, income 45k - 60k)) = 20.0%\n",
      "No record for (Female, Partnered, age 25 - 33, fitness scale = 2, income 60k - 80k) buying KP781\n",
      "No record for (Female, Partnered, age 25 - 33, fitness scale = 2, income > 80k) buying KP781\n",
      "No record for (Female, Partnered, age 25 - 33, fitness scale = 3, income < 45k ) buying KP781\n",
      "P(KP781 / (Female, Partnered, age 25 - 33, fitness scale = 3, income 45k - 60k)) = 3.08%\n",
      "No record for (Female, Partnered, age 25 - 33, fitness scale = 3, income 60k - 80k) buying KP781\n",
      "No record for (Female, Partnered, age 25 - 33, fitness scale = 3, income > 80k) buying KP781\n",
      "P(KP781 / (Female, Partnered, age 25 - 33, fitness scale = 4, income < 45k )) = 40.0%\n",
      "No record for (Female, Partnered, age 25 - 33, fitness scale = 4, income 45k - 60k) buying KP781\n",
      "No record for (Female, Partnered, age 25 - 33, fitness scale = 4, income 60k - 80k) buying KP781\n",
      "No record for (Female, Partnered, age 25 - 33, fitness scale = 4, income > 80k) buying KP781\n",
      "No record for (Female, Partnered, age 25 - 33, fitness scale = 5, income < 45k ) buying KP781\n",
      "No record for (Female, Partnered, age 25 - 33, fitness scale = 5, income 45k - 60k) buying KP781\n",
      "No record for (Female, Partnered, age 25 - 33, fitness scale = 5, income 60k - 80k) buying KP781\n",
      "P(KP781 / (Female, Partnered, age 25 - 33, fitness scale = 5, income > 80k)) = 13.33%\n",
      "No record for (Female, Partnered, age 34 - 46, fitness scale = 1, income < 45k ) buying KP781\n",
      "No record for (Female, Partnered, age 34 - 46, fitness scale = 1, income 45k - 60k) buying KP781\n",
      "No record for (Female, Partnered, age 34 - 46, fitness scale = 1, income 60k - 80k) buying KP781\n",
      "No record for (Female, Partnered, age 34 - 46, fitness scale = 1, income > 80k) buying KP781\n",
      "No record for (Female, Partnered, age 34 - 46, fitness scale = 2, income < 45k ) buying KP781\n",
      "P(KP781 / (Female, Partnered, age 34 - 46, fitness scale = 2, income 45k - 60k)) = 40.0%\n",
      "P(KP781 / (Female, Partnered, age 34 - 46, fitness scale = 2, income 60k - 80k)) = 40.0%\n",
      "No record for (Female, Partnered, age 34 - 46, fitness scale = 2, income > 80k) buying KP781\n",
      "P(KP781 / (Female, Partnered, age 34 - 46, fitness scale = 3, income < 45k )) = 40.0%\n",
      "P(KP781 / (Female, Partnered, age 34 - 46, fitness scale = 3, income 45k - 60k)) = 20.0%\n",
      "P(KP781 / (Female, Partnered, age 34 - 46, fitness scale = 3, income 60k - 80k)) = 13.33%\n",
      "No record for (Female, Partnered, age 34 - 46, fitness scale = 3, income > 80k) buying KP781\n",
      "No record for (Female, Partnered, age 34 - 46, fitness scale = 4, income < 45k ) buying KP781\n",
      "No record for (Female, Partnered, age 34 - 46, fitness scale = 4, income 45k - 60k) buying KP781\n",
      "No record for (Female, Partnered, age 34 - 46, fitness scale = 4, income 60k - 80k) buying KP781\n",
      "No record for (Female, Partnered, age 34 - 46, fitness scale = 4, income > 80k) buying KP781\n",
      "No record for (Female, Partnered, age 34 - 46, fitness scale = 5, income < 45k ) buying KP781\n",
      "No record for (Female, Partnered, age 34 - 46, fitness scale = 5, income 45k - 60k) buying KP781\n",
      "No record for (Female, Partnered, age 34 - 46, fitness scale = 5, income 60k - 80k) buying KP781\n"
     ]
    },
    {
     "name": "stdout",
     "output_type": "stream",
     "text": [
      "No record for (Female, Partnered, age 34 - 46, fitness scale = 5, income > 80k) buying KP781\n"
     ]
    }
   ],
   "source": [
    "products = df['Product'].unique()\n",
    "genders = df['Gender'].unique()\n",
    "ages = df['age_bins'].unique()\n",
    "fitnesses = sorted(df[\"Fitness\"].unique())\n",
    "statuses = df['MaritalStatus'].unique()\n",
    "incomes = df['income_bins'].unique()\n",
    "for i in products:\n",
    "    for j in genders:\n",
    "        for k in statuses:\n",
    "            for l in ages:\n",
    "                for m in fitnesses:\n",
    "                    for n in incomes:\n",
    "                        try : \n",
    "                            count += 1\n",
    "                            res = np.round(len(df[df['Product'] == i]) / len(df[(df['Gender'] == j) & (df['age_bins'] == l) & (df['Fitness'] == m) & (df['MaritalStatus'] == k) & (df['income_bins'] == n)]), 2)\n",
    "                            print(\"P({} / ({}, {}, age {}, fitness scale = {}, income {})) = {}%\".format(i, j, k, l, m, n, res))\n",
    "                        except:\n",
    "                            print(\"No record for ({}, {}, age {}, fitness scale = {}, income {}) buying {}\".format(j, k, l, m, n, i))"
   ]
  },
  {
   "cell_type": "markdown",
   "id": "1e94a3fd",
   "metadata": {},
   "source": [
    "### Insights "
   ]
  },
  {
   "cell_type": "markdown",
   "id": "fdc44ce0",
   "metadata": {},
   "source": [
    " - Number of customers who bought products KP281, KP481 and KP781 are in ratio 4 : 3 : 2. That means for every 9 customers, 4 customers bought KP281, 3 bought KP481 and 2 bought KP781.\n",
    " - There are more male customers than females. Around 60% of the total customers are males.\n",
    " - There are more customers who are partnered than single. Almost 60% of customers are partnered.\n",
    " - Age of the customers varies between 18 and 50 years.\n",
    " - More than 80% of the total customers are aged between 20 and 30 years.\n",
    " - Annual income of the customers varies in the range of 29562 dollars to 104581 dollars. \n",
    " - 80 % of the customers annual salary is less than 65000 dollars.\n",
    " - Expected usage of treadmills lies in the range of 2 to 7 times in a week.\n",
    " - Expected number of miles that the customer walks or runs vary between 21 miles to 360 miles per week.\n",
    " - More than 50% customers rate themselves 3 out of 5 in self rated fitness scale\n",
    " - Around 70 % of the aerofit customers rate themselves 3 or less in fitness scale.\n",
    " - There are about 40% of customers who use treadmills three days a week and about 30% who use them four days a week.\n",
    " - For fitness scales 4 and 5, there are 3 times more males than females.\n",
    " - Among all the customers who bought KP781, 90 % of them had fitness scales 4 or 5. Only 10 % of them had average body shape.\n",
    " - The number of males buying the treadmills having advanced features is around 5 times the number of females buying the same.\n",
    " - The treadmill having advanced features are mostly bought by the people with high fitness levels.\n",
    " - The customers having high annual income (> 60k dollars) and high fitness scales(> 4) generally buy KP781.\n",
    " - The customers who rate themselves 1 or 2 in the self-rated fitness scale do not buy KP781.\n",
    " - Customers who bought KP781, 82.5% of them are males rest are females.\n",
    " - Among all female customers, only 9.21 % buy KP781. Females mostly buy products KP281 or KP481.\n",
    " - Among all the customers who bought KP281, 96.25 % of them had fitness scales of 2, 3 or 4. Only 2.5 % of them had excellent body shape.\n",
    " - Among all the customers who had excellent body shape (fitness scale 5), 93.55 % of them bought product KP781 while the rest buy KP281.\n",
    " - All the customers in each fitness levels 1 and 2 (i.e., customers having poor body shape) either bought product KP281 or KP481. None of them bought the treadmill having advanced features i.e., KP781.\n",
    " - Probability of buying 'KP781' provided the customer has the annual income in range '> 80k' is 100.0%."
   ]
  },
  {
   "cell_type": "markdown",
   "id": "76e6b394",
   "metadata": {},
   "source": [
    "### Recommendations"
   ]
  },
  {
   "cell_type": "raw",
   "id": "80b1392a",
   "metadata": {},
   "source": [
    " - Since the people of average fitness scale accounts for more than 50% of the total customers, such people who have high annual income (> 50k dollars) can be the potential customers to buy KP781.\n",
    " \n",
    " - The number of customers buying KP281 and KP481 are roughly  in ratio 4 : 3. These people share common characteristics. People planning to buy KP281 can be the potential customers to buy KP481. \n",
    " \n",
    " - Fitness challenges should be launched and people clearing more levels should be given special discounts in the treadmills.\n",
    " \n",
    " - People can be offered special discounts on the product specific to the potential customer's profile on the occasions of World Health Day(7th Apr), World Obesity Day(4th Mar), World Heart Day(29th Sep), International Day of Yoga(21st June) etc.\n",
    " \n",
    " - Smartphone apps should be developed where the existing customers can track their fitness progress and can share the milestones they have achieved in the social media so as to increase company's social media influence. \n",
    " \n",
    " - Advertisements should be based on diversed topics like sharing fitness tips, converting success stories into motivational posts, listing common nutritional mistakes, busting fitness myths, showcasing body transformations of existing customers etc."
   ]
  },
  {
   "cell_type": "code",
   "execution_count": null,
   "id": "541e9f1d",
   "metadata": {},
   "outputs": [],
   "source": []
  }
 ],
 "metadata": {
  "kernelspec": {
   "display_name": "Python 3 (ipykernel)",
   "language": "python",
   "name": "python3"
  },
  "language_info": {
   "codemirror_mode": {
    "name": "ipython",
    "version": 3
   },
   "file_extension": ".py",
   "mimetype": "text/x-python",
   "name": "python",
   "nbconvert_exporter": "python",
   "pygments_lexer": "ipython3",
   "version": "3.9.12"
  }
 },
 "nbformat": 4,
 "nbformat_minor": 5
}
